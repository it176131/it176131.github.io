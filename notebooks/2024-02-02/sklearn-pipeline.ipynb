{
 "cells": [
  {
   "cell_type": "markdown",
   "id": "7ab51893",
   "metadata": {},
   "source": [
    "I recently competed in my first [Kaggle](https://www.kaggle.com/) competition.\n",
    "I didn't place well—top 60% isn't anything to brag about—but I had fun.\n",
    "To get some ideas on what other competitors were doing, I'd occassionally take a peak at their notebooks.\n",
    "The imports would be simple enough, but when I got to the actual code, it felt... smelly.\n",
    "I don't mean smelly as in you couldn't run the notebook from the top without raising an error or that it was illegible\n",
    "(though some comments and docstrings wouldn't hurt).\n",
    "I mean smelly as in the wheel was reinvented in several places when\n",
    "[`scikit-learn`](https://scikit-learn.org/stable/index.html) already provides a solution."
   ]
  },
  {
   "cell_type": "markdown",
   "id": "5eb87b9c",
   "metadata": {},
   "source": [
    "# An example"
   ]
  },
  {
   "cell_type": "markdown",
   "id": "347596c6",
   "metadata": {},
   "source": [
    "This [notebook](https://www.kaggle.com/code/aspillai/11th-place-solution-single-model-cv-cat)\n",
    "took [11th place](https://www.kaggle.com/competitions/playground-series-s4e1/leaderboard)\n",
    "on the [Binary Classification with a Bank Customer Churn Dataset competition](https://www.kaggle.com/competitions/playground-series-s4e1/overview).\n",
    "\n",
    "> **Note:**\n",
    "> \n",
    "> For brevity, I will only display the necessary code."
   ]
  },
  {
   "cell_type": "code",
   "execution_count": 1,
   "id": "c245ce35",
   "metadata": {},
   "outputs": [],
   "source": [
    "import pandas as pd\n",
    "from sklearn.decomposition import TruncatedSVD\n",
    "from sklearn.feature_extraction.text import TfidfVectorizer\n",
    "from sklearn.metrics import roc_auc_score\n",
    "from sklearn.model_selection import StratifiedKFold, train_test_split\n",
    "\n",
    "train = pd.read_csv(\"playground-series-s4e1/train.csv\", index_col=\"id\")\n",
    "test = pd.read_csv(\"playground-series-s4e1/test.csv\", index_col=\"id\")"
   ]
  },
  {
   "cell_type": "markdown",
   "id": "6278c22c",
   "metadata": {},
   "source": [
    "#### Our first smell: Scaling features one at a time"
   ]
  },
  {
   "cell_type": "code",
   "execution_count": 2,
   "id": "32796f86",
   "metadata": {},
   "outputs": [],
   "source": [
    "scale_cols = [\"Age\", \"CreditScore\", \"Balance\", \"EstimatedSalary\"]\n",
    "for c in scale_cols:\n",
    "    min_value = train[c].min()\n",
    "    max_value = train[c].max()\n",
    "    train[f\"{c}_scaled\"] = (train[c] - min_value) / (max_value - min_value)\n",
    "    test[f\"{c}_scaled\"] = (test[c] - min_value) / (max_value - min_value)"
   ]
  },
  {
   "cell_type": "markdown",
   "id": "3dd42a73",
   "metadata": {},
   "source": [
    "The type of scaling performed here maps the values to the range $[0, 1]$.\n",
    "It's a common enough technique that `scikit-learn` offers it with the default\n",
    "[`MinMaxScaler`](https://scikit-learn.org/stable/modules/generated/sklearn.preprocessing.MinMaxScaler.html)."
   ]
  },
  {
   "cell_type": "code",
   "execution_count": 3,
   "id": "ceb44a51",
   "metadata": {},
   "outputs": [],
   "source": [
    "from sklearn.preprocessing import MinMaxScaler\n",
    "\n",
    "scaler = MinMaxScaler()\n",
    "train_scaled = scaler.fit_transform(train[scale_cols])\n",
    "test_scaled = scaler.transform(test[scale_cols])"
   ]
  },
  {
   "cell_type": "markdown",
   "id": "2476f908",
   "metadata": {},
   "source": [
    "We can see that the values produced are the same (within a tolerance)."
   ]
  },
  {
   "cell_type": "code",
   "execution_count": 4,
   "id": "e3c9f621",
   "metadata": {
    "scrolled": true
   },
   "outputs": [
    {
     "data": {
      "text/plain": [
       "True"
      ]
     },
     "execution_count": 4,
     "metadata": {},
     "output_type": "execute_result"
    }
   ],
   "source": [
    "import numpy as np\n",
    "\n",
    "np.allclose(\n",
    "    a=train[[f\"{c}_scaled\" for c in scale_cols]],\n",
    "    b=train_scaled,\n",
    ")"
   ]
  },
  {
   "cell_type": "markdown",
   "id": "490aec37",
   "metadata": {},
   "source": [
    "The `train_scaled` values may be the *same*, but it's not a dataframe."
   ]
  },
  {
   "cell_type": "code",
   "execution_count": 5,
   "id": "100f9398",
   "metadata": {},
   "outputs": [
    {
     "data": {
      "text/plain": [
       "numpy.ndarray"
      ]
     },
     "execution_count": 5,
     "metadata": {},
     "output_type": "execute_result"
    }
   ],
   "source": [
    "type(train_scaled)"
   ]
  },
  {
   "cell_type": "markdown",
   "id": "0663122a",
   "metadata": {},
   "source": [
    "True, but in\n",
    "[`scikit-learn` 1.2](https://scikit-learn.org/stable/auto_examples/release_highlights/plot_release_highlights_1_2_0.html)\n",
    "the developers introduced the\n",
    "[`set_output`](https://scikit-learn.org/stable/auto_examples/miscellaneous/plot_set_output.html)\n",
    "API, allowing us to convert the output from the default\n",
    "[`numpy.ndarray`](https://numpy.org/doc/stable/reference/generated/numpy.ndarray.html)\n",
    "to a\n",
    "[`pandas.DataFrame`](https://pandas.pydata.org/docs/reference/api/pandas.DataFrame.html)."
   ]
  },
  {
   "cell_type": "code",
   "execution_count": 6,
   "id": "f44c1584",
   "metadata": {},
   "outputs": [
    {
     "data": {
      "text/html": [
       "<div>\n",
       "<style scoped>\n",
       "    .dataframe tbody tr th:only-of-type {\n",
       "        vertical-align: middle;\n",
       "    }\n",
       "\n",
       "    .dataframe tbody tr th {\n",
       "        vertical-align: top;\n",
       "    }\n",
       "\n",
       "    .dataframe thead th {\n",
       "        text-align: right;\n",
       "    }\n",
       "</style>\n",
       "<table border=\"1\" class=\"dataframe\">\n",
       "  <thead>\n",
       "    <tr style=\"text-align: right;\">\n",
       "      <th></th>\n",
       "      <th>Age</th>\n",
       "      <th>CreditScore</th>\n",
       "      <th>Balance</th>\n",
       "      <th>EstimatedSalary</th>\n",
       "    </tr>\n",
       "    <tr>\n",
       "      <th>id</th>\n",
       "      <th></th>\n",
       "      <th></th>\n",
       "      <th></th>\n",
       "      <th></th>\n",
       "    </tr>\n",
       "  </thead>\n",
       "  <tbody>\n",
       "    <tr>\n",
       "      <th>0</th>\n",
       "      <td>0.202703</td>\n",
       "      <td>0.636</td>\n",
       "      <td>0.000000</td>\n",
       "      <td>0.907279</td>\n",
       "    </tr>\n",
       "    <tr>\n",
       "      <th>1</th>\n",
       "      <td>0.202703</td>\n",
       "      <td>0.554</td>\n",
       "      <td>0.000000</td>\n",
       "      <td>0.247483</td>\n",
       "    </tr>\n",
       "    <tr>\n",
       "      <th>2</th>\n",
       "      <td>0.297297</td>\n",
       "      <td>0.656</td>\n",
       "      <td>0.000000</td>\n",
       "      <td>0.924364</td>\n",
       "    </tr>\n",
       "    <tr>\n",
       "      <th>3</th>\n",
       "      <td>0.216216</td>\n",
       "      <td>0.462</td>\n",
       "      <td>0.593398</td>\n",
       "      <td>0.422787</td>\n",
       "    </tr>\n",
       "    <tr>\n",
       "      <th>4</th>\n",
       "      <td>0.202703</td>\n",
       "      <td>0.732</td>\n",
       "      <td>0.000000</td>\n",
       "      <td>0.075293</td>\n",
       "    </tr>\n",
       "  </tbody>\n",
       "</table>\n",
       "</div>"
      ],
      "text/plain": [
       "         Age  CreditScore   Balance  EstimatedSalary\n",
       "id                                                  \n",
       "0   0.202703        0.636  0.000000         0.907279\n",
       "1   0.202703        0.554  0.000000         0.247483\n",
       "2   0.297297        0.656  0.000000         0.924364\n",
       "3   0.216216        0.462  0.593398         0.422787\n",
       "4   0.202703        0.732  0.000000         0.075293"
      ]
     },
     "execution_count": 6,
     "metadata": {},
     "output_type": "execute_result"
    }
   ],
   "source": [
    "scaler = MinMaxScaler().set_output(transform=\"pandas\")  # Set output container for `scaler`.\n",
    "scaler.fit_transform(train[scale_cols]).head()"
   ]
  },
  {
   "cell_type": "markdown",
   "id": "1857c460",
   "metadata": {},
   "source": [
    "In fact, we could set the output of all `scikit-learn` estimators to a `pandas.DataFrame` globally."
   ]
  },
  {
   "cell_type": "code",
   "execution_count": 7,
   "id": "3f20bb5a",
   "metadata": {},
   "outputs": [
    {
     "data": {
      "text/html": [
       "<div>\n",
       "<style scoped>\n",
       "    .dataframe tbody tr th:only-of-type {\n",
       "        vertical-align: middle;\n",
       "    }\n",
       "\n",
       "    .dataframe tbody tr th {\n",
       "        vertical-align: top;\n",
       "    }\n",
       "\n",
       "    .dataframe thead th {\n",
       "        text-align: right;\n",
       "    }\n",
       "</style>\n",
       "<table border=\"1\" class=\"dataframe\">\n",
       "  <thead>\n",
       "    <tr style=\"text-align: right;\">\n",
       "      <th></th>\n",
       "      <th>Age</th>\n",
       "      <th>CreditScore</th>\n",
       "      <th>Balance</th>\n",
       "      <th>EstimatedSalary</th>\n",
       "    </tr>\n",
       "    <tr>\n",
       "      <th>id</th>\n",
       "      <th></th>\n",
       "      <th></th>\n",
       "      <th></th>\n",
       "      <th></th>\n",
       "    </tr>\n",
       "  </thead>\n",
       "  <tbody>\n",
       "    <tr>\n",
       "      <th>0</th>\n",
       "      <td>0.202703</td>\n",
       "      <td>0.636</td>\n",
       "      <td>0.000000</td>\n",
       "      <td>0.907279</td>\n",
       "    </tr>\n",
       "    <tr>\n",
       "      <th>1</th>\n",
       "      <td>0.202703</td>\n",
       "      <td>0.554</td>\n",
       "      <td>0.000000</td>\n",
       "      <td>0.247483</td>\n",
       "    </tr>\n",
       "    <tr>\n",
       "      <th>2</th>\n",
       "      <td>0.297297</td>\n",
       "      <td>0.656</td>\n",
       "      <td>0.000000</td>\n",
       "      <td>0.924364</td>\n",
       "    </tr>\n",
       "    <tr>\n",
       "      <th>3</th>\n",
       "      <td>0.216216</td>\n",
       "      <td>0.462</td>\n",
       "      <td>0.593398</td>\n",
       "      <td>0.422787</td>\n",
       "    </tr>\n",
       "    <tr>\n",
       "      <th>4</th>\n",
       "      <td>0.202703</td>\n",
       "      <td>0.732</td>\n",
       "      <td>0.000000</td>\n",
       "      <td>0.075293</td>\n",
       "    </tr>\n",
       "  </tbody>\n",
       "</table>\n",
       "</div>"
      ],
      "text/plain": [
       "         Age  CreditScore   Balance  EstimatedSalary\n",
       "id                                                  \n",
       "0   0.202703        0.636  0.000000         0.907279\n",
       "1   0.202703        0.554  0.000000         0.247483\n",
       "2   0.297297        0.656  0.000000         0.924364\n",
       "3   0.216216        0.462  0.593398         0.422787\n",
       "4   0.202703        0.732  0.000000         0.075293"
      ]
     },
     "execution_count": 7,
     "metadata": {},
     "output_type": "execute_result"
    }
   ],
   "source": [
    "from sklearn import set_config\n",
    "\n",
    "set_config(transform_output=\"pandas\")  # Set global scikit-learn configuration.\n",
    "scaler = MinMaxScaler()\n",
    "scaler.fit_transform(train[scale_cols]).head()"
   ]
  }
 ],
 "metadata": {
  "kernelspec": {
   "display_name": "Python 3 (ipykernel)",
   "language": "python",
   "name": "python3"
  },
  "language_info": {
   "codemirror_mode": {
    "name": "ipython",
    "version": 3
   },
   "file_extension": ".py",
   "mimetype": "text/x-python",
   "name": "python",
   "nbconvert_exporter": "python",
   "pygments_lexer": "ipython3",
   "version": "3.11.7"
  }
 },
 "nbformat": 4,
 "nbformat_minor": 5
}
