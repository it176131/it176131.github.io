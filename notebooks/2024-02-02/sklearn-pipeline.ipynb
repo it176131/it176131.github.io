{
 "cells": [
  {
   "cell_type": "markdown",
   "id": "1c42d087",
   "metadata": {},
   "source": [
    "# Intro"
   ]
  },
  {
   "cell_type": "markdown",
   "id": "9a8f53f8",
   "metadata": {},
   "source": [
    "- [Kaggle](https://www.kaggle.com/)\n",
    "- [Stack Overflow](https://stackoverflow.com/)\n",
    "- [`scikit-learn`](https://scikit-learn.org/stable/)"
   ]
  },
  {
   "cell_type": "markdown",
   "id": "fc3517c4",
   "metadata": {},
   "source": [
    "# Setup"
   ]
  },
  {
   "cell_type": "code",
   "execution_count": 1,
   "id": "c501b8f6",
   "metadata": {},
   "outputs": [],
   "source": [
    "# !pip install numpy==1.24.3\n",
    "# !pip install pandas==2.1.4\n",
    "# !pip install scikit-learn==1.3.2"
   ]
  },
  {
   "cell_type": "code",
   "execution_count": null,
   "id": "cb3ae1fa",
   "metadata": {},
   "outputs": [],
   "source": [
    "import numpy as np  # For numerical computation when a dataframe isn't available\n",
    "import pandas as pd  # For reading/manipulating data\n",
    "from sklearn.impute import SimpleImputer  # For imputing missing values\n",
    "from sklearn.linear_model import LogisticRegression  # Simple classifier\n",
    "from sklearn.model_selection import train_test_split  # Split train data into train/val\n",
    "from sklearn.preprocessing import MinMaxScaler  # Simple preprocessing step"
   ]
  },
  {
   "cell_type": "code",
   "execution_count": null,
   "id": "c76769c9",
   "metadata": {},
   "outputs": [],
   "source": [
    "# Titanic data set\n",
    "train = pd.read_csv(\"train.csv\", index_col=\"PassengerId\")\n",
    "test = pd.read_csv(\"test.csv\", index_col=\"PassengerId\")"
   ]
  },
  {
   "cell_type": "code",
   "execution_count": null,
   "id": "27a04f3e",
   "metadata": {},
   "outputs": [],
   "source": [
    "# Separate X and y\n",
    "X = train.drop(columns=\"Survived\")\n",
    "y = train.Survived"
   ]
  },
  {
   "cell_type": "code",
   "execution_count": null,
   "id": "a0a1fabe",
   "metadata": {},
   "outputs": [],
   "source": [
    "# Split into train/val data.\n",
    "X_train, X_val, y_train, y_val = train_test_split(X, y, random_state=0, stratify=y)"
   ]
  },
  {
   "cell_type": "code",
   "execution_count": null,
   "id": "84a67fd9",
   "metadata": {},
   "outputs": [],
   "source": [
    "# Limit to features with dtype float\n",
    "cont_cols = X_train.select_dtypes(include=\"float\").columns\n",
    "X_train_float = X_train[cont_cols]\n",
    "X_val_float = X_val[cont_cols]"
   ]
  },
  {
   "cell_type": "code",
   "execution_count": null,
   "id": "23d0a8dd",
   "metadata": {},
   "outputs": [],
   "source": [
    "# Scale data.\n",
    "scaler = MinMaxScaler()\n",
    "X_train_scaled = scaler.fit_transform(X_train_float)\n",
    "X_val_scaled = scaler.transform(X_val_float)\n",
    "\n",
    "# Impute data\n",
    "imputer = SimpleImputer()\n",
    "X_train_imputed = imputer.fit_transform(X_train_scaled)\n",
    "X_val_imputed = imputer.transform(X_val_scaled)"
   ]
  },
  {
   "cell_type": "code",
   "execution_count": null,
   "id": "6490b1ab",
   "metadata": {},
   "outputs": [],
   "source": [
    "# Fit the model and grade against val data.\n",
    "clf = LogisticRegression(random_state=0)\n",
    "clf.fit(X_train_imputed, y_train)\n",
    "clf.score(X_val_imputed, y_val)"
   ]
  },
  {
   "cell_type": "markdown",
   "id": "d7ffb916",
   "metadata": {},
   "source": [
    "# [`Pipeline`](https://scikit-learn.org/stable/modules/generated/sklearn.pipeline.Pipeline.html)"
   ]
  },
  {
   "cell_type": "code",
   "execution_count": null,
   "id": "a8b186e2",
   "metadata": {},
   "outputs": [],
   "source": [
    "from sklearn.pipeline import Pipeline"
   ]
  },
  {
   "cell_type": "code",
   "execution_count": null,
   "id": "1df5c53f",
   "metadata": {},
   "outputs": [],
   "source": [
    "pipe = Pipeline(\n",
    "    steps=[\n",
    "        (\"scale\", MinMaxScaler()),\n",
    "        (\"impute\", SimpleImputer()),\n",
    "        (\"clf\", LogisticRegression(random_state=0)),\n",
    "    ],\n",
    ")\n",
    "pipe.fit(X_train_float, y_train)\n",
    "pipe.score(X_val_float, y_val)"
   ]
  },
  {
   "cell_type": "code",
   "execution_count": null,
   "id": "cd96949a",
   "metadata": {},
   "outputs": [],
   "source": [
    "# HTML representation of the pipe.\n",
    "pipe"
   ]
  },
  {
   "cell_type": "markdown",
   "id": "05ed9d7c",
   "metadata": {},
   "source": [
    "# Expanding Feature Space"
   ]
  },
  {
   "cell_type": "code",
   "execution_count": null,
   "id": "55ef6120",
   "metadata": {},
   "outputs": [],
   "source": [
    "from sklearn.preprocessing import OneHotEncoder, TargetEncoder"
   ]
  },
  {
   "cell_type": "code",
   "execution_count": null,
   "id": "5d0874ba",
   "metadata": {},
   "outputs": [],
   "source": [
    "X_train.nunique().sort_values()"
   ]
  },
  {
   "cell_type": "code",
   "execution_count": null,
   "id": "14ba31d5",
   "metadata": {},
   "outputs": [],
   "source": [
    "# Limit to categorical/ordinal features.\n",
    "cat_ord_cols = [\"Sex\", \"Pclass\", \"Embarked\", \"SibSp\", \"Parch\"]\n",
    "X_train_enc = X_train[cat_ord_cols]\n",
    "X_val_enc = X_val[cat_ord_cols]"
   ]
  },
  {
   "cell_type": "code",
   "execution_count": null,
   "id": "139b2f3f",
   "metadata": {},
   "outputs": [],
   "source": [
    "# One-hot-encode categorical/ordinal features.\n",
    "ohe = OneHotEncoder(drop=\"first\", sparse_output=False, max_categories=5)\n",
    "X_train_ohe = ohe.fit_transform(X_train_enc)\n",
    "X_val_ohe = ohe.transform(X_val_enc)"
   ]
  },
  {
   "cell_type": "code",
   "execution_count": null,
   "id": "6a6e91bd",
   "metadata": {},
   "outputs": [],
   "source": [
    "# Target encode categorical/ordinal features.\n",
    "tgt = TargetEncoder(random_state=0)\n",
    "X_train_tgt = tgt.fit_transform(X_train_enc, y_train)\n",
    "X_val_tgt = tgt.transform(X_val_enc)"
   ]
  },
  {
   "cell_type": "code",
   "execution_count": null,
   "id": "7a7dda30",
   "metadata": {},
   "outputs": [],
   "source": [
    "# Join One-hot-encoded features with target-encoded features.\n",
    "X_train_feat_union = np.hstack((X_train_ohe, X_train_tgt))\n",
    "X_val_feat_union = np.hstack((X_val_ohe, X_val_tgt))"
   ]
  },
  {
   "cell_type": "code",
   "execution_count": null,
   "id": "8f624b37",
   "metadata": {},
   "outputs": [],
   "source": [
    "clf.fit(X_train_feat_union, y_train)\n",
    "clf.score(X_val_feat_union, y_val)"
   ]
  },
  {
   "cell_type": "markdown",
   "id": "fc748d54",
   "metadata": {},
   "source": [
    "# [`FeatureUnion`](https://scikit-learn.org/stable/modules/generated/sklearn.pipeline.FeatureUnion.html)"
   ]
  },
  {
   "cell_type": "code",
   "execution_count": null,
   "id": "cfe2046d",
   "metadata": {},
   "outputs": [],
   "source": [
    "from sklearn.pipeline import FeatureUnion"
   ]
  },
  {
   "cell_type": "code",
   "execution_count": null,
   "id": "2c2be427",
   "metadata": {},
   "outputs": [],
   "source": [
    "cat_ord = FeatureUnion(\n",
    "    transformer_list=[\n",
    "        (\"ohe\", OneHotEncoder(drop=\"first\", sparse_output=False, max_categories=5)),\n",
    "        (\"tgt\", TargetEncoder(random_state=0)),\n",
    "    ],\n",
    ")\n",
    "_train = cat_ord.fit_transform(X_train_enc, y_train)\n",
    "_val = cat_ord.transform(X_val_enc)"
   ]
  },
  {
   "cell_type": "code",
   "execution_count": null,
   "id": "0a0060b7",
   "metadata": {},
   "outputs": [],
   "source": [
    "np.allclose(a=X_train_feat_union, b=_train)"
   ]
  },
  {
   "cell_type": "code",
   "execution_count": null,
   "id": "52e0f1e2",
   "metadata": {},
   "outputs": [],
   "source": [
    "np.allclose(a=X_val_feat_union, b=_val)"
   ]
  },
  {
   "cell_type": "code",
   "execution_count": null,
   "id": "8dbead48",
   "metadata": {},
   "outputs": [],
   "source": [
    "pipe = Pipeline(\n",
    "    steps=[\n",
    "        (\"cat_ord\", cat_ord),\n",
    "        (\"clf\", LogisticRegression(random_state=0)),\n",
    "    ],\n",
    ")\n",
    "pipe.fit(X_train_enc, y_train)\n",
    "pipe.score(X_val_enc, y_val)"
   ]
  },
  {
   "cell_type": "code",
   "execution_count": null,
   "id": "df96bacf",
   "metadata": {},
   "outputs": [],
   "source": [
    "pipe"
   ]
  },
  {
   "cell_type": "markdown",
   "id": "6cbddc68",
   "metadata": {},
   "source": [
    "# Transform Feature Subsets"
   ]
  },
  {
   "cell_type": "code",
   "execution_count": null,
   "id": "ce65760c",
   "metadata": {},
   "outputs": [],
   "source": [
    "# Limit to features with dtype float.\n",
    "cont_cols = X_train.select_dtypes(include=\"float\").columns\n",
    "X_train_float = X_train[cont_cols]\n",
    "X_val_float = X_val[cont_cols]\n",
    "\n",
    "# Continuous feature pipeline.\n",
    "cont_pipe = Pipeline(\n",
    "    steps=[\n",
    "        (\"scale\", MinMaxScaler()),\n",
    "        (\"impute\", SimpleImputer()),\n",
    "    ],\n",
    ")\n",
    "X_train_cont = cont_pipe.fit_transform(X_train_float)\n",
    "X_val_cont = cont_pipe.transform(X_val_float)"
   ]
  },
  {
   "cell_type": "code",
   "execution_count": null,
   "id": "87667878",
   "metadata": {},
   "outputs": [],
   "source": [
    "# Limit to categorical/ordinal features.\n",
    "cat_ord_cols = [\"Sex\", \"Pclass\", \"Embarked\", \"SibSp\", \"Parch\"]\n",
    "X_train_enc = X_train[cat_ord_cols]\n",
    "X_val_enc = X_val[cat_ord_cols]\n",
    "\n",
    "# Categorical/ordinal feature union.\n",
    "cat_ord = FeatureUnion(\n",
    "    transformer_list=[\n",
    "        (\"ohe\", OneHotEncoder(drop=\"first\", sparse_output=False, max_categories=5)),\n",
    "        (\"tgt\", TargetEncoder(random_state=0)),\n",
    "    ],\n",
    ")\n",
    "X_train_feat_union = cat_ord.fit_transform(X_train_enc, y_train)\n",
    "X_val_feat_union = cat_ord.transform(X_val_enc)"
   ]
  },
  {
   "cell_type": "code",
   "execution_count": null,
   "id": "68090fcd",
   "metadata": {},
   "outputs": [],
   "source": [
    "# Join continuous transformations with categorical/ordinal transformations.\n",
    "X_train_join = np.hstack((X_train_cont, X_train_feat_union))\n",
    "X_val_join = np.hstack((X_val_cont, X_val_feat_union))"
   ]
  },
  {
   "cell_type": "code",
   "execution_count": null,
   "id": "6c336846",
   "metadata": {},
   "outputs": [],
   "source": [
    "clf.fit(X_train_join, y_train)\n",
    "clf.score(X_val_join, y_val)"
   ]
  },
  {
   "cell_type": "markdown",
   "id": "71b343fe",
   "metadata": {},
   "source": [
    "# [`ColumnTransformer`](https://scikit-learn.org/stable/modules/generated/sklearn.compose.ColumnTransformer.html)"
   ]
  },
  {
   "cell_type": "code",
   "execution_count": null,
   "id": "5bc3fc36",
   "metadata": {},
   "outputs": [],
   "source": [
    "from sklearn.compose import ColumnTransformer"
   ]
  },
  {
   "cell_type": "code",
   "execution_count": null,
   "id": "d5dcb152",
   "metadata": {},
   "outputs": [],
   "source": [
    "col_trf = ColumnTransformer(\n",
    "    transformers=[\n",
    "        (\"cont_pipe\", cont_pipe, cont_cols),\n",
    "        (\"cat_ord\", cat_ord, cat_ord_cols),\n",
    "    ],\n",
    "    remainder=\"drop\",\n",
    ")\n",
    "_train = col_trf.fit_transform(X_train, y_train)\n",
    "_val = col_trf.transform(X_val)"
   ]
  },
  {
   "cell_type": "code",
   "execution_count": null,
   "id": "e69b8e58",
   "metadata": {},
   "outputs": [],
   "source": [
    "np.allclose(a=X_train_join, b=_train)"
   ]
  },
  {
   "cell_type": "code",
   "execution_count": null,
   "id": "6e145bac",
   "metadata": {},
   "outputs": [],
   "source": [
    "np.allclose(a=X_val_join, b=_val)"
   ]
  },
  {
   "cell_type": "code",
   "execution_count": null,
   "id": "5313c4ed",
   "metadata": {},
   "outputs": [],
   "source": [
    "pipe = Pipeline(\n",
    "    steps=[\n",
    "        (\"col_trf\", col_trf),\n",
    "        (\"clf\", LogisticRegression(random_state=0)),\n",
    "    ],\n",
    ")\n",
    "pipe.fit(X_train, y_train)\n",
    "pipe.score(X_val, y_val)"
   ]
  },
  {
   "cell_type": "code",
   "execution_count": null,
   "id": "5faeb5d1",
   "metadata": {},
   "outputs": [],
   "source": [
    "pipe"
   ]
  },
  {
   "cell_type": "markdown",
   "id": "b1db2109",
   "metadata": {},
   "source": [
    "# Custom Transformer"
   ]
  },
  {
   "cell_type": "code",
   "execution_count": null,
   "id": "9d4f27a3",
   "metadata": {},
   "outputs": [],
   "source": [
    "X_train.Name.sample(n=5)"
   ]
  },
  {
   "cell_type": "code",
   "execution_count": null,
   "id": "1329ed57",
   "metadata": {},
   "outputs": [],
   "source": [
    "import re\n",
    "\n",
    "def get_title(\n",
    "    text: str,\n",
    "    title_pattern: str = r\"Mrs?|Miss|Master\",\n",
    ") -> str | None:\n",
    "    \"\"\"Get a passenger's title if present.\n",
    "    \n",
    "    If more than one title found, return the least number of characters.\n",
    "    \n",
    "    The defalut title_pattern will detect:\n",
    "    - Mr\n",
    "    - Mrs\n",
    "    - Miss\n",
    "    - Master\n",
    "    \"\"\"\n",
    "    possible_titles: set[str] = set(re.findall(pattern=title_pattern, string=text))\n",
    "    title: list[str] = sorted(possible_titles, key=len)\n",
    "    if title:\n",
    "        return title.pop(0)"
   ]
  },
  {
   "cell_type": "code",
   "execution_count": null,
   "id": "a9f2e90f",
   "metadata": {},
   "outputs": [],
   "source": [
    "# Assert function extracts expected title.\n",
    "assert get_title(\"Turpin, Mr. William John Robert\") == \"Mr\""
   ]
  },
  {
   "cell_type": "code",
   "execution_count": null,
   "id": "a80990cd",
   "metadata": {},
   "outputs": [],
   "source": [
    "# Assert function returns nothing if not title present.\n",
    "assert get_title(\"Rothes, the Countess. of (Lucy Noel Martha Dyer-Edwards)\") is None"
   ]
  },
  {
   "cell_type": "code",
   "execution_count": null,
   "id": "0820dd16",
   "metadata": {},
   "outputs": [],
   "source": [
    "# Assert function returns title with least number of characters.\n",
    "assert get_title(\"Mr. and Mrs. Smith\") == \"Mr\""
   ]
  },
  {
   "cell_type": "code",
   "execution_count": null,
   "id": "26575b89",
   "metadata": {},
   "outputs": [],
   "source": [
    "X_train.Name.apply(get_title).value_counts(dropna=False)"
   ]
  },
  {
   "cell_type": "code",
   "execution_count": null,
   "id": "045910d0",
   "metadata": {},
   "outputs": [],
   "source": [
    "# Get titles from names.\n",
    "X_train_title = X_train.assign(Title=X_train.Name.apply(get_title))\n",
    "X_val_title = X_val.assign(Title=X_val.Name.apply(get_title))"
   ]
  },
  {
   "cell_type": "code",
   "execution_count": null,
   "id": "cefef185",
   "metadata": {},
   "outputs": [],
   "source": [
    "from sklearn.impute import KNNImputer\n",
    "\n",
    "knn_imputer = KNNImputer()"
   ]
  },
  {
   "cell_type": "code",
   "execution_count": null,
   "id": "3dfe05b7",
   "metadata": {},
   "outputs": [],
   "source": [
    "# One-hot-encode title and join with age.\n",
    "age_trf = ColumnTransformer(\n",
    "    transformers=[\n",
    "        (\"age\", \"passthrough\", [\"Age\"]),\n",
    "        (\"ohe\", OneHotEncoder(drop=[None], sparse_output=False), [\"Title\"]),\n",
    "    ],\n",
    "    remainder=\"drop\",\n",
    ")\n",
    "\n",
    "# Impute missing values (age) using title and age\n",
    "knn_impute_pipe = Pipeline(\n",
    "    steps=[\n",
    "        (\"age_trf\", age_trf),\n",
    "        (\"knn_impute\", KNNImputer()),\n",
    "    ],\n",
    ").set_output(transform=\"pandas\")"
   ]
  },
  {
   "cell_type": "code",
   "execution_count": null,
   "id": "cc261c19",
   "metadata": {
    "scrolled": true
   },
   "outputs": [],
   "source": [
    "# Get sample of passengers with missing ages.\n",
    "title_missing_age_sample = X_train_title.loc[\n",
    "    X_train_title.Age.isnull()\n",
    "].groupby(\"Title\").apply(lambda f: f.index[0])\n",
    "\n",
    "# Compare imputed age using mean with KNN.\n",
    "imputer = SimpleImputer().set_output(transform=\"pandas\")\n",
    "_mean = imputer.fit_transform(X_train_title[[\"Age\"]]).loc[title_missing_age_sample]\n",
    "_knn = knn_impute_pipe.fit_transform(X_train_title).loc[title_missing_age_sample]\n",
    "_impute = pd.concat([_mean, _knn], keys=[\"Mean\", \"KNN\"], axis=\"columns\")\n",
    "_impute"
   ]
  },
  {
   "cell_type": "markdown",
   "id": "18c25e3d",
   "metadata": {},
   "source": [
    "# [`FunctionTransformer`](https://scikit-learn.org/stable/modules/generated/sklearn.preprocessing.FunctionTransformer.html)"
   ]
  },
  {
   "cell_type": "code",
   "execution_count": null,
   "id": "04cfdff5",
   "metadata": {},
   "outputs": [],
   "source": [
    "from sklearn.preprocessing import FunctionTransformer"
   ]
  },
  {
   "cell_type": "code",
   "execution_count": null,
   "id": "1a460beb",
   "metadata": {},
   "outputs": [],
   "source": [
    "# Vectorize get_title allowing input to be array-like.\n",
    "# Note that output dtypes will all be the same (None -> \"None\")\n",
    "get_title_vec = np.vectorize(get_title)"
   ]
  },
  {
   "cell_type": "code",
   "execution_count": null,
   "id": "a6b490c1",
   "metadata": {},
   "outputs": [],
   "source": [
    "# Convert get_title into an sklearn transformer\n",
    "title_func = FunctionTransformer(func=get_title_vec)"
   ]
  },
  {
   "cell_type": "code",
   "execution_count": null,
   "id": "abcb855a",
   "metadata": {},
   "outputs": [],
   "source": [
    "title_func"
   ]
  },
  {
   "cell_type": "code",
   "execution_count": null,
   "id": "ebac9180",
   "metadata": {},
   "outputs": [],
   "source": [
    "# Pipeline to get titles, then one-hot-encode.\n",
    "title_pipe = Pipeline(\n",
    "    steps=[\n",
    "        (\"title_func\", title_func),\n",
    "        (\"ohe\", OneHotEncoder(drop=[\"None\"], sparse_output=False)),\n",
    "    ],\n",
    ")"
   ]
  },
  {
   "cell_type": "code",
   "execution_count": null,
   "id": "8287ada6",
   "metadata": {},
   "outputs": [],
   "source": [
    "title_pipe"
   ]
  },
  {
   "cell_type": "code",
   "execution_count": null,
   "id": "7de2aa85",
   "metadata": {},
   "outputs": [],
   "source": [
    "# Pipeline to get titles and passthrough age.\n",
    "age_title_trf = ColumnTransformer(\n",
    "    transformers=[\n",
    "        (\"title_pipe\", title_pipe, [\"Name\"]),\n",
    "        (\"age\", \"passthrough\", [\"Age\"])\n",
    "    ],\n",
    "    remainder=\"drop\",\n",
    ")"
   ]
  },
  {
   "cell_type": "code",
   "execution_count": null,
   "id": "d0f805f3",
   "metadata": {},
   "outputs": [],
   "source": [
    "age_title_trf"
   ]
  },
  {
   "cell_type": "code",
   "execution_count": null,
   "id": "b1200d3c",
   "metadata": {},
   "outputs": [],
   "source": [
    "# Pipeline to impute age given ages of neighbors with given titles.\n",
    "age_pipe = Pipeline(\n",
    "    steps=[\n",
    "        (\"age_title_trf\", age_title_trf),\n",
    "        (\"impute_knn\", KNNImputer()),\n",
    "    ],\n",
    ")"
   ]
  },
  {
   "cell_type": "code",
   "execution_count": null,
   "id": "da3b87e2",
   "metadata": {},
   "outputs": [],
   "source": [
    "age_pipe"
   ]
  },
  {
   "cell_type": "code",
   "execution_count": null,
   "id": "cefd234e",
   "metadata": {},
   "outputs": [],
   "source": [
    "col_trf = ColumnTransformer(\n",
    "    transformers=[\n",
    "        (\"fare\", cont_pipe, [\"Fare\"]),\n",
    "        (\"age\", age_pipe, [\"Age\", \"Name\"]),\n",
    "        (\"cat_ord\", cat_ord, cat_ord_cols),\n",
    "    ],\n",
    "    remainder=\"drop\",\n",
    ")"
   ]
  },
  {
   "cell_type": "code",
   "execution_count": null,
   "id": "f696f57f",
   "metadata": {},
   "outputs": [],
   "source": [
    "col_trf"
   ]
  },
  {
   "cell_type": "code",
   "execution_count": null,
   "id": "6bb74186",
   "metadata": {},
   "outputs": [],
   "source": [
    "pipe = Pipeline(\n",
    "    steps=[\n",
    "        (\"col_trf\", col_trf),\n",
    "        (\"clf\", LogisticRegression(random_state=0)),\n",
    "    ],\n",
    ")"
   ]
  },
  {
   "cell_type": "code",
   "execution_count": null,
   "id": "d762a588",
   "metadata": {},
   "outputs": [],
   "source": [
    "pipe.fit(X_train, y_train)"
   ]
  },
  {
   "cell_type": "code",
   "execution_count": null,
   "id": "e7d4ddf9",
   "metadata": {
    "scrolled": false
   },
   "outputs": [],
   "source": [
    "pipe.score(X_val, y_val)"
   ]
  },
  {
   "cell_type": "code",
   "execution_count": null,
   "id": "a92ade75",
   "metadata": {},
   "outputs": [],
   "source": [
    "from copy import deepcopy\n",
    "\n",
    "title_func_ = deepcopy(title_func)\n",
    "title_func_.set_params(**{\"kw_args\": {\"title_pattern\": \"Mrs?\"}})\n",
    "_old = title_func.fit_transform(X_train[\"Name\"])\n",
    "_new = title_func_.fit_transform(X_train[\"Name\"])"
   ]
  },
  {
   "cell_type": "code",
   "execution_count": null,
   "id": "f96eceb2",
   "metadata": {
    "scrolled": true
   },
   "outputs": [],
   "source": [
    "np.unique(_old, return_counts=True)"
   ]
  },
  {
   "cell_type": "code",
   "execution_count": null,
   "id": "287b4049",
   "metadata": {
    "scrolled": true
   },
   "outputs": [],
   "source": [
    "np.unique(_new, return_counts=True)"
   ]
  }
 ],
 "metadata": {
  "kernelspec": {
   "display_name": "Python 3 (ipykernel)",
   "language": "python",
   "name": "python3"
  },
  "language_info": {
   "codemirror_mode": {
    "name": "ipython",
    "version": 3
   },
   "file_extension": ".py",
   "mimetype": "text/x-python",
   "name": "python",
   "nbconvert_exporter": "python",
   "pygments_lexer": "ipython3",
   "version": "3.11.7"
  }
 },
 "nbformat": 4,
 "nbformat_minor": 5
}
