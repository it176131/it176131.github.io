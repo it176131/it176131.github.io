{
 "cells": [
  {
   "cell_type": "markdown",
   "id": "57a7f72a",
   "metadata": {},
   "source": [
    "I gave a talk on my post,\n",
    "[*scikit-learn's Pipeline and Friends*](/2024/02/06/sklearn-pipeline.html), at work last week.\n",
    "The presentation was rough, but not horrible.\n",
    "It felt fast.\n",
    "And at the end I decided to go off script and fumbled.\n",
    "\n",
    "Afterwards, I hesitated to share my blog post fearing that I'd be ridiculed.\n",
    "But I reminded myself that this is a journey of learning, and feedback can be useful even if it's negative.\n",
    "So I shared.\n",
    "It's been over a week, and I've yet to receive any negative (or positive) feedback, and I'm okay with that.\n",
    "What I am glad for are the questions I got at the end of my talk, one of which is the topic of this post.\n",
    "\n",
    "At the request of remaining anonymous, I'll write out the (edited) question without citing the author:\n",
    "> Imagine the `\"Age\"` estimator is computationally expensive (maybe $1e7$ passengers instead of $1e3$).\n",
    "> We fit that first.\n",
    "> \n",
    "> Now I want to play around with my imputation on `\"Fare\"` and see how that affects my overall survival classifier accuracy.\n",
    "> \n",
    "> Hopefully every tweak I make to the `\"Fare\"` imputer isn't going to retrigger the `\"Age\"` estimator?.\n",
    "\n",
    "Thank you for your question, *anon*!\n",
    "Let me start by setting everything up to how it was left at the end of part I."
   ]
  },
  {
   "cell_type": "markdown",
   "id": "b084eb5d",
   "metadata": {},
   "source": [
    "# Setup"
   ]
  },
  {
   "cell_type": "code",
   "execution_count": 1,
   "id": "75825c9d",
   "metadata": {},
   "outputs": [],
   "source": [
    "import re\n",
    "import warnings\n",
    "\n",
    "import numpy as np\n",
    "import pandas as pd\n",
    "from sklearn.compose import ColumnTransformer\n",
    "from sklearn.impute import KNNImputer, SimpleImputer\n",
    "from sklearn.linear_model import LogisticRegression\n",
    "from sklearn.model_selection import train_test_split\n",
    "from sklearn.pipeline import FeatureUnion, Pipeline\n",
    "from sklearn.preprocessing import FunctionTransformer, MinMaxScaler, OneHotEncoder, TargetEncoder\n",
    "\n",
    "warnings.filterwarnings(action=\"ignore\", module=\"sklearn\")"
   ]
  },
  {
   "cell_type": "code",
   "execution_count": 2,
   "id": "54cd3ab8",
   "metadata": {},
   "outputs": [],
   "source": [
    "train = pd.read_csv(\"train.csv\", index_col=\"PassengerId\")\n",
    "test = pd.read_csv(\"test.csv\", index_col=\"PassengerId\")\n",
    "\n",
    "X = train.drop(columns=\"Survived\")\n",
    "y = train.Survived\n",
    "\n",
    "X_train, X_val, y_train, y_val = train_test_split(X, y, random_state=0, stratify=y)"
   ]
  },
  {
   "cell_type": "code",
   "execution_count": 3,
   "id": "c6093a38",
   "metadata": {},
   "outputs": [],
   "source": [
    "cont_pipe = Pipeline(\n",
    "    steps=[\n",
    "        (\"scale\", MinMaxScaler()),\n",
    "        (\"impute\", SimpleImputer()),\n",
    "    ],\n",
    ")"
   ]
  },
  {
   "cell_type": "code",
   "execution_count": 4,
   "id": "0e36e73f",
   "metadata": {},
   "outputs": [],
   "source": [
    "cat_ord_cols = [\"Sex\", \"Pclass\", \"Embarked\", \"SibSp\", \"Parch\"]\n",
    "cat_ord = FeatureUnion(\n",
    "    transformer_list=[\n",
    "        (\"ohe\", OneHotEncoder(drop=\"first\", sparse_output=False, max_categories=5)),\n",
    "        (\"tgt\", TargetEncoder(random_state=0)),\n",
    "    ],\n",
    ")"
   ]
  },
  {
   "cell_type": "code",
   "execution_count": 5,
   "id": "20fb8967",
   "metadata": {},
   "outputs": [],
   "source": [
    "def get_title(\n",
    "    text: str,\n",
    "    title_pattern: str = r\"Mrs?|Miss|Master\",\n",
    ") -> str | None:\n",
    "    \"\"\"Get a passenger's title if present.\n",
    "    \n",
    "    If more than one title found, return title with\n",
    "    the least number of characters.\n",
    "    \n",
    "    If no title found, return None.\n",
    "    \n",
    "    The default title_pattern will detect:\n",
    "    - Mr\n",
    "    - Mrs\n",
    "    - Miss\n",
    "    - Master\n",
    "    \"\"\"\n",
    "    possible_titles: set[str] = set(re.findall(pattern=title_pattern, string=text))\n",
    "    title: list[str] = sorted(possible_titles, key=len)\n",
    "    if title:\n",
    "        return title.pop(0)"
   ]
  },
  {
   "cell_type": "code",
   "execution_count": 6,
   "id": "a6b9dbbf",
   "metadata": {},
   "outputs": [],
   "source": [
    "get_title_vec = np.vectorize(get_title)"
   ]
  },
  {
   "cell_type": "code",
   "execution_count": 7,
   "id": "64c41486",
   "metadata": {},
   "outputs": [],
   "source": [
    "title_func = FunctionTransformer(func=get_title_vec)"
   ]
  },
  {
   "cell_type": "code",
   "execution_count": 8,
   "id": "eb9f2052",
   "metadata": {},
   "outputs": [],
   "source": [
    "title_pipe = Pipeline(\n",
    "    steps=[\n",
    "        (\"title_func\", title_func),\n",
    "        (\"ohe\", OneHotEncoder(drop=[\"None\"], sparse_output=False)),\n",
    "    ],\n",
    ")"
   ]
  },
  {
   "cell_type": "code",
   "execution_count": 9,
   "id": "a30832fe",
   "metadata": {},
   "outputs": [],
   "source": [
    "age_title_trf = ColumnTransformer(\n",
    "    transformers=[\n",
    "        (\"title_pipe\", title_pipe, [\"Name\"]),\n",
    "        (\"age\", \"passthrough\", [\"Age\"]),\n",
    "    ],\n",
    "    remainder=\"drop\",\n",
    ")"
   ]
  },
  {
   "cell_type": "code",
   "execution_count": 10,
   "id": "5e3214c4",
   "metadata": {},
   "outputs": [],
   "source": [
    "age_pipe = Pipeline(\n",
    "    steps=[\n",
    "        (\"age_title_trf\", age_title_trf),\n",
    "        (\"impute_knn\", KNNImputer()),\n",
    "    ],\n",
    ")"
   ]
  },
  {
   "cell_type": "code",
   "execution_count": 11,
   "id": "3719455a",
   "metadata": {},
   "outputs": [],
   "source": [
    "col_trf = ColumnTransformer(\n",
    "    transformers=[\n",
    "        (\"fare\", cont_pipe, [\"Fare\"]),\n",
    "        (\"age\", age_pipe, [\"Age\", \"Name\"]),\n",
    "        (\"cat_ord\", cat_ord, cat_ord_cols),\n",
    "    ],\n",
    "    remainder=\"drop\",\n",
    ")"
   ]
  },
  {
   "cell_type": "code",
   "execution_count": 12,
   "id": "dd340ea6",
   "metadata": {},
   "outputs": [
    {
     "data": {
      "text/plain": [
       "0.8071748878923767"
      ]
     },
     "execution_count": 12,
     "metadata": {},
     "output_type": "execute_result"
    }
   ],
   "source": [
    "pipe = Pipeline(\n",
    "    steps=[\n",
    "        (\"col_trf\", col_trf),\n",
    "        (\"clf\", LogisticRegression(random_state=0)),\n",
    "    ],\n",
    ")\n",
    "pipe.fit(X_train, y_train)\n",
    "pipe.score(X_val, y_val)"
   ]
  },
  {
   "cell_type": "code",
   "execution_count": 13,
   "id": "cb61fbb9",
   "metadata": {},
   "outputs": [
    {
     "data": {
      "text/html": [
       "<style>#sk-container-id-1 {color: black;}#sk-container-id-1 pre{padding: 0;}#sk-container-id-1 div.sk-toggleable {background-color: white;}#sk-container-id-1 label.sk-toggleable__label {cursor: pointer;display: block;width: 100%;margin-bottom: 0;padding: 0.3em;box-sizing: border-box;text-align: center;}#sk-container-id-1 label.sk-toggleable__label-arrow:before {content: \"▸\";float: left;margin-right: 0.25em;color: #696969;}#sk-container-id-1 label.sk-toggleable__label-arrow:hover:before {color: black;}#sk-container-id-1 div.sk-estimator:hover label.sk-toggleable__label-arrow:before {color: black;}#sk-container-id-1 div.sk-toggleable__content {max-height: 0;max-width: 0;overflow: hidden;text-align: left;background-color: #f0f8ff;}#sk-container-id-1 div.sk-toggleable__content pre {margin: 0.2em;color: black;border-radius: 0.25em;background-color: #f0f8ff;}#sk-container-id-1 input.sk-toggleable__control:checked~div.sk-toggleable__content {max-height: 200px;max-width: 100%;overflow: auto;}#sk-container-id-1 input.sk-toggleable__control:checked~label.sk-toggleable__label-arrow:before {content: \"▾\";}#sk-container-id-1 div.sk-estimator input.sk-toggleable__control:checked~label.sk-toggleable__label {background-color: #d4ebff;}#sk-container-id-1 div.sk-label input.sk-toggleable__control:checked~label.sk-toggleable__label {background-color: #d4ebff;}#sk-container-id-1 input.sk-hidden--visually {border: 0;clip: rect(1px 1px 1px 1px);clip: rect(1px, 1px, 1px, 1px);height: 1px;margin: -1px;overflow: hidden;padding: 0;position: absolute;width: 1px;}#sk-container-id-1 div.sk-estimator {font-family: monospace;background-color: #f0f8ff;border: 1px dotted black;border-radius: 0.25em;box-sizing: border-box;margin-bottom: 0.5em;}#sk-container-id-1 div.sk-estimator:hover {background-color: #d4ebff;}#sk-container-id-1 div.sk-parallel-item::after {content: \"\";width: 100%;border-bottom: 1px solid gray;flex-grow: 1;}#sk-container-id-1 div.sk-label:hover label.sk-toggleable__label {background-color: #d4ebff;}#sk-container-id-1 div.sk-serial::before {content: \"\";position: absolute;border-left: 1px solid gray;box-sizing: border-box;top: 0;bottom: 0;left: 50%;z-index: 0;}#sk-container-id-1 div.sk-serial {display: flex;flex-direction: column;align-items: center;background-color: white;padding-right: 0.2em;padding-left: 0.2em;position: relative;}#sk-container-id-1 div.sk-item {position: relative;z-index: 1;}#sk-container-id-1 div.sk-parallel {display: flex;align-items: stretch;justify-content: center;background-color: white;position: relative;}#sk-container-id-1 div.sk-item::before, #sk-container-id-1 div.sk-parallel-item::before {content: \"\";position: absolute;border-left: 1px solid gray;box-sizing: border-box;top: 0;bottom: 0;left: 50%;z-index: -1;}#sk-container-id-1 div.sk-parallel-item {display: flex;flex-direction: column;z-index: 1;position: relative;background-color: white;}#sk-container-id-1 div.sk-parallel-item:first-child::after {align-self: flex-end;width: 50%;}#sk-container-id-1 div.sk-parallel-item:last-child::after {align-self: flex-start;width: 50%;}#sk-container-id-1 div.sk-parallel-item:only-child::after {width: 0;}#sk-container-id-1 div.sk-dashed-wrapped {border: 1px dashed gray;margin: 0 0.4em 0.5em 0.4em;box-sizing: border-box;padding-bottom: 0.4em;background-color: white;}#sk-container-id-1 div.sk-label label {font-family: monospace;font-weight: bold;display: inline-block;line-height: 1.2em;}#sk-container-id-1 div.sk-label-container {text-align: center;}#sk-container-id-1 div.sk-container {/* jupyter's `normalize.less` sets `[hidden] { display: none; }` but bootstrap.min.css set `[hidden] { display: none !important; }` so we also need the `!important` here to be able to override the default hidden behavior on the sphinx rendered scikit-learn.org. See: https://github.com/scikit-learn/scikit-learn/issues/21755 */display: inline-block !important;position: relative;}#sk-container-id-1 div.sk-text-repr-fallback {display: none;}</style><div id=\"sk-container-id-1\" class=\"sk-top-container\"><div class=\"sk-text-repr-fallback\"><pre>Pipeline(steps=[(&#x27;col_trf&#x27;,\n",
       "                 ColumnTransformer(transformers=[(&#x27;fare&#x27;,\n",
       "                                                  Pipeline(steps=[(&#x27;scale&#x27;,\n",
       "                                                                   MinMaxScaler()),\n",
       "                                                                  (&#x27;impute&#x27;,\n",
       "                                                                   SimpleImputer())]),\n",
       "                                                  [&#x27;Fare&#x27;]),\n",
       "                                                 (&#x27;age&#x27;,\n",
       "                                                  Pipeline(steps=[(&#x27;age_title_trf&#x27;,\n",
       "                                                                   ColumnTransformer(transformers=[(&#x27;title_pipe&#x27;,\n",
       "                                                                                                    Pipeline(steps=[(&#x27;title_func&#x27;,\n",
       "                                                                                                                     FunctionTransformer(func=&lt;numpy.vectorize object at 0x00000233EC509390&gt;)),\n",
       "                                                                                                                    (&#x27;ohe&#x27;,\n",
       "                                                                                                                     OneHotEnc...\n",
       "                                                                                                                                   sparse_output=False))]),\n",
       "                                                                                                    [&#x27;Name&#x27;]),\n",
       "                                                                                                   (&#x27;age&#x27;,\n",
       "                                                                                                    &#x27;passthrough&#x27;,\n",
       "                                                                                                    [&#x27;Age&#x27;])])),\n",
       "                                                                  (&#x27;impute_knn&#x27;,\n",
       "                                                                   KNNImputer())]),\n",
       "                                                  [&#x27;Age&#x27;, &#x27;Name&#x27;]),\n",
       "                                                 (&#x27;cat_ord&#x27;,\n",
       "                                                  FeatureUnion(transformer_list=[(&#x27;ohe&#x27;,\n",
       "                                                                                  OneHotEncoder(drop=&#x27;first&#x27;,\n",
       "                                                                                                max_categories=5,\n",
       "                                                                                                sparse_output=False)),\n",
       "                                                                                 (&#x27;tgt&#x27;,\n",
       "                                                                                  TargetEncoder(random_state=0))]),\n",
       "                                                  [&#x27;Sex&#x27;, &#x27;Pclass&#x27;, &#x27;Embarked&#x27;,\n",
       "                                                   &#x27;SibSp&#x27;, &#x27;Parch&#x27;])])),\n",
       "                (&#x27;clf&#x27;, LogisticRegression(random_state=0))])</pre><b>In a Jupyter environment, please rerun this cell to show the HTML representation or trust the notebook. <br />On GitHub, the HTML representation is unable to render, please try loading this page with nbviewer.org.</b></div><div class=\"sk-container\" hidden><div class=\"sk-item sk-dashed-wrapped\"><div class=\"sk-label-container\"><div class=\"sk-label sk-toggleable\"><input class=\"sk-toggleable__control sk-hidden--visually\" id=\"sk-estimator-id-1\" type=\"checkbox\" ><label for=\"sk-estimator-id-1\" class=\"sk-toggleable__label sk-toggleable__label-arrow\">Pipeline</label><div class=\"sk-toggleable__content\"><pre>Pipeline(steps=[(&#x27;col_trf&#x27;,\n",
       "                 ColumnTransformer(transformers=[(&#x27;fare&#x27;,\n",
       "                                                  Pipeline(steps=[(&#x27;scale&#x27;,\n",
       "                                                                   MinMaxScaler()),\n",
       "                                                                  (&#x27;impute&#x27;,\n",
       "                                                                   SimpleImputer())]),\n",
       "                                                  [&#x27;Fare&#x27;]),\n",
       "                                                 (&#x27;age&#x27;,\n",
       "                                                  Pipeline(steps=[(&#x27;age_title_trf&#x27;,\n",
       "                                                                   ColumnTransformer(transformers=[(&#x27;title_pipe&#x27;,\n",
       "                                                                                                    Pipeline(steps=[(&#x27;title_func&#x27;,\n",
       "                                                                                                                     FunctionTransformer(func=&lt;numpy.vectorize object at 0x00000233EC509390&gt;)),\n",
       "                                                                                                                    (&#x27;ohe&#x27;,\n",
       "                                                                                                                     OneHotEnc...\n",
       "                                                                                                                                   sparse_output=False))]),\n",
       "                                                                                                    [&#x27;Name&#x27;]),\n",
       "                                                                                                   (&#x27;age&#x27;,\n",
       "                                                                                                    &#x27;passthrough&#x27;,\n",
       "                                                                                                    [&#x27;Age&#x27;])])),\n",
       "                                                                  (&#x27;impute_knn&#x27;,\n",
       "                                                                   KNNImputer())]),\n",
       "                                                  [&#x27;Age&#x27;, &#x27;Name&#x27;]),\n",
       "                                                 (&#x27;cat_ord&#x27;,\n",
       "                                                  FeatureUnion(transformer_list=[(&#x27;ohe&#x27;,\n",
       "                                                                                  OneHotEncoder(drop=&#x27;first&#x27;,\n",
       "                                                                                                max_categories=5,\n",
       "                                                                                                sparse_output=False)),\n",
       "                                                                                 (&#x27;tgt&#x27;,\n",
       "                                                                                  TargetEncoder(random_state=0))]),\n",
       "                                                  [&#x27;Sex&#x27;, &#x27;Pclass&#x27;, &#x27;Embarked&#x27;,\n",
       "                                                   &#x27;SibSp&#x27;, &#x27;Parch&#x27;])])),\n",
       "                (&#x27;clf&#x27;, LogisticRegression(random_state=0))])</pre></div></div></div><div class=\"sk-serial\"><div class=\"sk-item sk-dashed-wrapped\"><div class=\"sk-label-container\"><div class=\"sk-label sk-toggleable\"><input class=\"sk-toggleable__control sk-hidden--visually\" id=\"sk-estimator-id-2\" type=\"checkbox\" ><label for=\"sk-estimator-id-2\" class=\"sk-toggleable__label sk-toggleable__label-arrow\">col_trf: ColumnTransformer</label><div class=\"sk-toggleable__content\"><pre>ColumnTransformer(transformers=[(&#x27;fare&#x27;,\n",
       "                                 Pipeline(steps=[(&#x27;scale&#x27;, MinMaxScaler()),\n",
       "                                                 (&#x27;impute&#x27;, SimpleImputer())]),\n",
       "                                 [&#x27;Fare&#x27;]),\n",
       "                                (&#x27;age&#x27;,\n",
       "                                 Pipeline(steps=[(&#x27;age_title_trf&#x27;,\n",
       "                                                  ColumnTransformer(transformers=[(&#x27;title_pipe&#x27;,\n",
       "                                                                                   Pipeline(steps=[(&#x27;title_func&#x27;,\n",
       "                                                                                                    FunctionTransformer(func=&lt;numpy.vectorize object at 0x00000233EC509390&gt;)),\n",
       "                                                                                                   (&#x27;ohe&#x27;,\n",
       "                                                                                                    OneHotEncoder(drop=[&#x27;None&#x27;],\n",
       "                                                                                                                  sparse_output=False))]),\n",
       "                                                                                   [&#x27;Name&#x27;]),\n",
       "                                                                                  (&#x27;age&#x27;,\n",
       "                                                                                   &#x27;passthrough&#x27;,\n",
       "                                                                                   [&#x27;Age&#x27;])])),\n",
       "                                                 (&#x27;impute_knn&#x27;, KNNImputer())]),\n",
       "                                 [&#x27;Age&#x27;, &#x27;Name&#x27;]),\n",
       "                                (&#x27;cat_ord&#x27;,\n",
       "                                 FeatureUnion(transformer_list=[(&#x27;ohe&#x27;,\n",
       "                                                                 OneHotEncoder(drop=&#x27;first&#x27;,\n",
       "                                                                               max_categories=5,\n",
       "                                                                               sparse_output=False)),\n",
       "                                                                (&#x27;tgt&#x27;,\n",
       "                                                                 TargetEncoder(random_state=0))]),\n",
       "                                 [&#x27;Sex&#x27;, &#x27;Pclass&#x27;, &#x27;Embarked&#x27;, &#x27;SibSp&#x27;,\n",
       "                                  &#x27;Parch&#x27;])])</pre></div></div></div><div class=\"sk-parallel\"><div class=\"sk-parallel-item\"><div class=\"sk-item\"><div class=\"sk-label-container\"><div class=\"sk-label sk-toggleable\"><input class=\"sk-toggleable__control sk-hidden--visually\" id=\"sk-estimator-id-3\" type=\"checkbox\" ><label for=\"sk-estimator-id-3\" class=\"sk-toggleable__label sk-toggleable__label-arrow\">fare</label><div class=\"sk-toggleable__content\"><pre>[&#x27;Fare&#x27;]</pre></div></div></div><div class=\"sk-serial\"><div class=\"sk-item\"><div class=\"sk-serial\"><div class=\"sk-item\"><div class=\"sk-estimator sk-toggleable\"><input class=\"sk-toggleable__control sk-hidden--visually\" id=\"sk-estimator-id-4\" type=\"checkbox\" ><label for=\"sk-estimator-id-4\" class=\"sk-toggleable__label sk-toggleable__label-arrow\">MinMaxScaler</label><div class=\"sk-toggleable__content\"><pre>MinMaxScaler()</pre></div></div></div><div class=\"sk-item\"><div class=\"sk-estimator sk-toggleable\"><input class=\"sk-toggleable__control sk-hidden--visually\" id=\"sk-estimator-id-5\" type=\"checkbox\" ><label for=\"sk-estimator-id-5\" class=\"sk-toggleable__label sk-toggleable__label-arrow\">SimpleImputer</label><div class=\"sk-toggleable__content\"><pre>SimpleImputer()</pre></div></div></div></div></div></div></div></div><div class=\"sk-parallel-item\"><div class=\"sk-item\"><div class=\"sk-label-container\"><div class=\"sk-label sk-toggleable\"><input class=\"sk-toggleable__control sk-hidden--visually\" id=\"sk-estimator-id-6\" type=\"checkbox\" ><label for=\"sk-estimator-id-6\" class=\"sk-toggleable__label sk-toggleable__label-arrow\">age</label><div class=\"sk-toggleable__content\"><pre>[&#x27;Age&#x27;, &#x27;Name&#x27;]</pre></div></div></div><div class=\"sk-serial\"><div class=\"sk-item\"><div class=\"sk-serial\"><div class=\"sk-item sk-dashed-wrapped\"><div class=\"sk-label-container\"><div class=\"sk-label sk-toggleable\"><input class=\"sk-toggleable__control sk-hidden--visually\" id=\"sk-estimator-id-7\" type=\"checkbox\" ><label for=\"sk-estimator-id-7\" class=\"sk-toggleable__label sk-toggleable__label-arrow\">age_title_trf: ColumnTransformer</label><div class=\"sk-toggleable__content\"><pre>ColumnTransformer(transformers=[(&#x27;title_pipe&#x27;,\n",
       "                                 Pipeline(steps=[(&#x27;title_func&#x27;,\n",
       "                                                  FunctionTransformer(func=&lt;numpy.vectorize object at 0x00000233EC509390&gt;)),\n",
       "                                                 (&#x27;ohe&#x27;,\n",
       "                                                  OneHotEncoder(drop=[&#x27;None&#x27;],\n",
       "                                                                sparse_output=False))]),\n",
       "                                 [&#x27;Name&#x27;]),\n",
       "                                (&#x27;age&#x27;, &#x27;passthrough&#x27;, [&#x27;Age&#x27;])])</pre></div></div></div><div class=\"sk-parallel\"><div class=\"sk-parallel-item\"><div class=\"sk-item\"><div class=\"sk-label-container\"><div class=\"sk-label sk-toggleable\"><input class=\"sk-toggleable__control sk-hidden--visually\" id=\"sk-estimator-id-8\" type=\"checkbox\" ><label for=\"sk-estimator-id-8\" class=\"sk-toggleable__label sk-toggleable__label-arrow\">title_pipe</label><div class=\"sk-toggleable__content\"><pre>[&#x27;Name&#x27;]</pre></div></div></div><div class=\"sk-serial\"><div class=\"sk-item\"><div class=\"sk-serial\"><div class=\"sk-item\"><div class=\"sk-estimator sk-toggleable\"><input class=\"sk-toggleable__control sk-hidden--visually\" id=\"sk-estimator-id-9\" type=\"checkbox\" ><label for=\"sk-estimator-id-9\" class=\"sk-toggleable__label sk-toggleable__label-arrow\">FunctionTransformer</label><div class=\"sk-toggleable__content\"><pre>FunctionTransformer(func=&lt;numpy.vectorize object at 0x00000233EC509390&gt;)</pre></div></div></div><div class=\"sk-item\"><div class=\"sk-estimator sk-toggleable\"><input class=\"sk-toggleable__control sk-hidden--visually\" id=\"sk-estimator-id-10\" type=\"checkbox\" ><label for=\"sk-estimator-id-10\" class=\"sk-toggleable__label sk-toggleable__label-arrow\">OneHotEncoder</label><div class=\"sk-toggleable__content\"><pre>OneHotEncoder(drop=[&#x27;None&#x27;], sparse_output=False)</pre></div></div></div></div></div></div></div></div><div class=\"sk-parallel-item\"><div class=\"sk-item\"><div class=\"sk-label-container\"><div class=\"sk-label sk-toggleable\"><input class=\"sk-toggleable__control sk-hidden--visually\" id=\"sk-estimator-id-11\" type=\"checkbox\" ><label for=\"sk-estimator-id-11\" class=\"sk-toggleable__label sk-toggleable__label-arrow\">age</label><div class=\"sk-toggleable__content\"><pre>[&#x27;Age&#x27;]</pre></div></div></div><div class=\"sk-serial\"><div class=\"sk-item\"><div class=\"sk-estimator sk-toggleable\"><input class=\"sk-toggleable__control sk-hidden--visually\" id=\"sk-estimator-id-12\" type=\"checkbox\" ><label for=\"sk-estimator-id-12\" class=\"sk-toggleable__label sk-toggleable__label-arrow\">passthrough</label><div class=\"sk-toggleable__content\"><pre>passthrough</pre></div></div></div></div></div></div></div></div><div class=\"sk-item\"><div class=\"sk-estimator sk-toggleable\"><input class=\"sk-toggleable__control sk-hidden--visually\" id=\"sk-estimator-id-13\" type=\"checkbox\" ><label for=\"sk-estimator-id-13\" class=\"sk-toggleable__label sk-toggleable__label-arrow\">KNNImputer</label><div class=\"sk-toggleable__content\"><pre>KNNImputer()</pre></div></div></div></div></div></div></div></div><div class=\"sk-parallel-item\"><div class=\"sk-item\"><div class=\"sk-label-container\"><div class=\"sk-label sk-toggleable\"><input class=\"sk-toggleable__control sk-hidden--visually\" id=\"sk-estimator-id-14\" type=\"checkbox\" ><label for=\"sk-estimator-id-14\" class=\"sk-toggleable__label sk-toggleable__label-arrow\">cat_ord</label><div class=\"sk-toggleable__content\"><pre>[&#x27;Sex&#x27;, &#x27;Pclass&#x27;, &#x27;Embarked&#x27;, &#x27;SibSp&#x27;, &#x27;Parch&#x27;]</pre></div></div></div><div class=\"sk-serial\"><div class=\"sk-item sk-dashed-wrapped\"><div class=\"sk-parallel\"><div class=\"sk-parallel-item\"><div class=\"sk-item\"><div class=\"sk-label-container\"><div class=\"sk-label sk-toggleable\"><label>ohe</label></div></div><div class=\"sk-serial\"><div class=\"sk-item\"><div class=\"sk-estimator sk-toggleable\"><input class=\"sk-toggleable__control sk-hidden--visually\" id=\"sk-estimator-id-15\" type=\"checkbox\" ><label for=\"sk-estimator-id-15\" class=\"sk-toggleable__label sk-toggleable__label-arrow\">OneHotEncoder</label><div class=\"sk-toggleable__content\"><pre>OneHotEncoder(drop=&#x27;first&#x27;, max_categories=5, sparse_output=False)</pre></div></div></div></div></div></div><div class=\"sk-parallel-item\"><div class=\"sk-item\"><div class=\"sk-label-container\"><div class=\"sk-label sk-toggleable\"><label>tgt</label></div></div><div class=\"sk-serial\"><div class=\"sk-item\"><div class=\"sk-estimator sk-toggleable\"><input class=\"sk-toggleable__control sk-hidden--visually\" id=\"sk-estimator-id-16\" type=\"checkbox\" ><label for=\"sk-estimator-id-16\" class=\"sk-toggleable__label sk-toggleable__label-arrow\">TargetEncoder</label><div class=\"sk-toggleable__content\"><pre>TargetEncoder(random_state=0)</pre></div></div></div></div></div></div></div></div></div></div></div></div></div><div class=\"sk-item\"><div class=\"sk-estimator sk-toggleable\"><input class=\"sk-toggleable__control sk-hidden--visually\" id=\"sk-estimator-id-17\" type=\"checkbox\" ><label for=\"sk-estimator-id-17\" class=\"sk-toggleable__label sk-toggleable__label-arrow\">LogisticRegression</label><div class=\"sk-toggleable__content\"><pre>LogisticRegression(random_state=0)</pre></div></div></div></div></div></div></div>"
      ],
      "text/plain": [
       "Pipeline(steps=[('col_trf',\n",
       "                 ColumnTransformer(transformers=[('fare',\n",
       "                                                  Pipeline(steps=[('scale',\n",
       "                                                                   MinMaxScaler()),\n",
       "                                                                  ('impute',\n",
       "                                                                   SimpleImputer())]),\n",
       "                                                  ['Fare']),\n",
       "                                                 ('age',\n",
       "                                                  Pipeline(steps=[('age_title_trf',\n",
       "                                                                   ColumnTransformer(transformers=[('title_pipe',\n",
       "                                                                                                    Pipeline(steps=[('title_func',\n",
       "                                                                                                                     FunctionTransformer(func=<numpy.vectorize object at 0x00000233EC509390>)),\n",
       "                                                                                                                    ('ohe',\n",
       "                                                                                                                     OneHotEnc...\n",
       "                                                                                                                                   sparse_output=False))]),\n",
       "                                                                                                    ['Name']),\n",
       "                                                                                                   ('age',\n",
       "                                                                                                    'passthrough',\n",
       "                                                                                                    ['Age'])])),\n",
       "                                                                  ('impute_knn',\n",
       "                                                                   KNNImputer())]),\n",
       "                                                  ['Age', 'Name']),\n",
       "                                                 ('cat_ord',\n",
       "                                                  FeatureUnion(transformer_list=[('ohe',\n",
       "                                                                                  OneHotEncoder(drop='first',\n",
       "                                                                                                max_categories=5,\n",
       "                                                                                                sparse_output=False)),\n",
       "                                                                                 ('tgt',\n",
       "                                                                                  TargetEncoder(random_state=0))]),\n",
       "                                                  ['Sex', 'Pclass', 'Embarked',\n",
       "                                                   'SibSp', 'Parch'])])),\n",
       "                ('clf', LogisticRegression(random_state=0))])"
      ]
     },
     "execution_count": 13,
     "metadata": {},
     "output_type": "execute_result"
    }
   ],
   "source": [
    "pipe"
   ]
  },
  {
   "cell_type": "markdown",
   "id": "00dd07b9",
   "metadata": {},
   "source": [
    "# Components"
   ]
  },
  {
   "cell_type": "markdown",
   "id": "a88992a8",
   "metadata": {},
   "source": [
    "As I [mentioned in the previous post](/2024/02/06/sklearn-pipeline.html#Pipeline),\n",
    "our *`pipe` keeps everything in one composable object*.\n",
    "This means we can swap different components in and out,\n",
    "as well as [add or remove steps](https://scikit-learn.org/stable/modules/compose.html#pipeline-chaining-estimators).\n",
    "\n",
    "When we fit a [`Pipeline`](https://scikit-learn.org/stable/modules/generated/sklearn.pipeline.Pipeline.html),\n",
    "it's the equivalent of\n",
    "[*calling `fit` on each estimator in turn, `transform` the input and pass it on to the next step*](https://scikit-learn.org/stable/modules/compose.html#pipeline-chaining-estimators).\n",
    "But do we have to fit our `pipe` if certain components are already fit?\n",
    "Technically, no.\n",
    "You could fit each individual component separately and then piece the `pipe` together.\n",
    "In most cases I wouldn't recommend this,\n",
    "but as *anon* pointed out there are times when we don't want to refit an expensive estimator.\n",
    "How would we go about doing this?\n",
    "Let's take our `pipe` apart and see what we can do."
   ]
  },
  {
   "cell_type": "markdown",
   "id": "d4930af4",
   "metadata": {},
   "source": [
    "# Steps"
   ]
  },
  {
   "cell_type": "markdown",
   "id": "a0c1e839",
   "metadata": {},
   "source": [
    "Our `pipe` has two steps, `col_trf` followed by `clf`."
   ]
  },
  {
   "cell_type": "code",
   "execution_count": 14,
   "id": "a0379a29",
   "metadata": {},
   "outputs": [
    {
     "data": {
      "text/plain": [
       "['col_trf', 'clf']"
      ]
     },
     "execution_count": 14,
     "metadata": {},
     "output_type": "execute_result"
    }
   ],
   "source": [
    "[*pipe.named_steps]"
   ]
  },
  {
   "cell_type": "markdown",
   "id": "e166f1a6",
   "metadata": {},
   "source": [
    "The question calls out the `\"Age\"` imputer and the `\"Fare\"` imputer, both of which are in the `col_trf` step."
   ]
  },
  {
   "cell_type": "code",
   "execution_count": 15,
   "id": "5e0959a8",
   "metadata": {},
   "outputs": [
    {
     "data": {
      "text/plain": [
       "['fare', 'age', 'cat_ord', 'remainder']"
      ]
     },
     "execution_count": 15,
     "metadata": {},
     "output_type": "execute_result"
    }
   ],
   "source": [
    "[*pipe.named_steps.col_trf.named_transformers_]"
   ]
  },
  {
   "cell_type": "markdown",
   "id": "4486e232",
   "metadata": {},
   "source": [
    "Before we start disecting, we need to define two groups: what needs to be fit vs what doesn't need to be refit.\n",
    "We want to tinker with the `\"Fare\"` imputer, therefore it belongs in the fit group.\n",
    "We don't want to modify anything else.\n",
    "\n",
    "So we drill down and pop out the `\"Fare\"` part in the `col_trf`, right?\n",
    "Not so fast.\n",
    "We have to remind ourselves that everything *after* the `col_trf` will need to be refit as the inputs could change.\n",
    "Let's begin by separating the `col_trf` from the `clf`."
   ]
  },
  {
   "cell_type": "code",
   "execution_count": 16,
   "id": "33459e7f",
   "metadata": {},
   "outputs": [],
   "source": [
    "col_trf, clf = pipe.named_steps.values()"
   ]
  },
  {
   "cell_type": "markdown",
   "id": "07065fad",
   "metadata": {},
   "source": [
    "# Transformers"
   ]
  },
  {
   "cell_type": "markdown",
   "id": "9ae62ed2",
   "metadata": {},
   "source": [
    "A `Pipeline` is made of steps.\n",
    "A [`ColumnTransformer`](https://scikit-learn.org/stable/modules/generated/sklearn.compose.ColumnTransformer.html)\n",
    "is made of *transformers*.\n",
    "\n",
    "As our `pipe` has already been fit, that means all the underlying steps have been fit, i.e. `col_trf`.\n",
    "We can check this using [`scikit-learn`](https://scikit-learn.org/stable/)'s\n",
    "[`check_is_fitted`](https://scikit-learn.org/stable/modules/generated/sklearn.utils.validation.check_is_fitted.html)."
   ]
  },
  {
   "cell_type": "code",
   "execution_count": 17,
   "id": "9e97d610",
   "metadata": {},
   "outputs": [
    {
     "data": {
      "text/plain": [
       "True"
      ]
     },
     "execution_count": 17,
     "metadata": {},
     "output_type": "execute_result"
    }
   ],
   "source": [
    "from sklearn.utils.validation import check_is_fitted\n",
    "\n",
    "# check_is_fitted will return None if the estimator is fit.\n",
    "check_is_fitted(col_trf) is None"
   ]
  },
  {
   "cell_type": "markdown",
   "id": "44430f00",
   "metadata": {},
   "source": [
    "To access the individual *fitted* transformers, we use the\n",
    "[`named_transformers_`](https://scikit-learn.org/stable/modules/generated/sklearn.compose.ColumnTransformer.html#sklearn.compose.ColumnTransformer.named_transformers_)\n",
    "(or `transformers_`) attribute rather than `transformers`."
   ]
  },
  {
   "cell_type": "code",
   "execution_count": 18,
   "id": "e7b6f7f8",
   "metadata": {},
   "outputs": [
    {
     "data": {
      "text/plain": [
       "['fare', 'age', 'cat_ord', 'remainder']"
      ]
     },
     "execution_count": 18,
     "metadata": {},
     "output_type": "execute_result"
    }
   ],
   "source": [
    "[*col_trf.named_transformers_]"
   ]
  },
  {
   "cell_type": "markdown",
   "id": "cd770e54",
   "metadata": {},
   "source": [
    "We can check that each has been fitted."
   ]
  },
  {
   "cell_type": "code",
   "execution_count": 19,
   "id": "9f4649a8",
   "metadata": {},
   "outputs": [
    {
     "data": {
      "text/plain": [
       "[('fare', True), ('age', True), ('cat_ord', True)]"
      ]
     },
     "execution_count": 19,
     "metadata": {},
     "output_type": "execute_result"
    }
   ],
   "source": [
    "# Note that we don't treat the \"remainder\" as a transformer.\n",
    "# Also note that the columns aren't included in \n",
    "# the named_transformers_ full output.\n",
    "[\n",
    "    (name, check_is_fitted(trf) is None)\n",
    "    for name, trf in col_trf.named_transformers_.items()\n",
    "    if name != \"remainder\"\n",
    "]"
   ]
  },
  {
   "cell_type": "markdown",
   "id": "82fd3cf3",
   "metadata": {},
   "source": [
    "# Separation"
   ]
  },
  {
   "cell_type": "markdown",
   "id": "4916fa30",
   "metadata": {},
   "source": [
    "`col_trf.transformers_` is a [`list`](https://docs.python.org/3/library/stdtypes.html#lists).\n",
    "That means we can [`pop`](https://docs.python.org/3/tutorial/datastructures.html#more-on-lists) elements out of it.\n",
    "To separate the `\"Fare\"` imputer from the rest of `col_trf`, we'll `pop` out the zeroth element.\n",
    "\n",
    "> NOTE:\n",
    "> \n",
    "> The `named_transformers_` attribute is *read-only*.\n",
    "> This means using `pop` will *not* remove a transformer from the `col_trf`.\n",
    "\n",
    "> NOTE 2:\n",
    "> \n",
    "> The HTML representation of `col_trf` will not update after popping the `\"Fare\"` imputer out."
   ]
  },
  {
   "cell_type": "code",
   "execution_count": 20,
   "id": "7ce0fb09",
   "metadata": {},
   "outputs": [],
   "source": [
    "fare_name, fare_pipe, fare_cols = col_trf.transformers_.pop(0)"
   ]
  },
  {
   "cell_type": "code",
   "execution_count": 21,
   "id": "3941d265",
   "metadata": {
    "scrolled": true
   },
   "outputs": [
    {
     "data": {
      "text/plain": [
       "['age', 'cat_ord', 'remainder']"
      ]
     },
     "execution_count": 21,
     "metadata": {},
     "output_type": "execute_result"
    }
   ],
   "source": [
    "# \"fare\" was sucessfully removed from col_trf\n",
    "[*col_trf.named_transformers_]"
   ]
  },
  {
   "cell_type": "markdown",
   "id": "73a9e946",
   "metadata": {},
   "source": [
    "# Tweak"
   ]
  },
  {
   "cell_type": "markdown",
   "id": "5b9cc6f1",
   "metadata": {},
   "source": [
    "Let's play around with the `fare_pipe`.\n",
    "The goal is to show that we can fit a new transformer on `\"Fare\"`, then add it back to the `col_trf`.\n",
    "What does the `fare_pipe` currently look like?"
   ]
  },
  {
   "cell_type": "code",
   "execution_count": 22,
   "id": "ac449625",
   "metadata": {},
   "outputs": [
    {
     "data": {
      "text/html": [
       "<style>#sk-container-id-2 {color: black;}#sk-container-id-2 pre{padding: 0;}#sk-container-id-2 div.sk-toggleable {background-color: white;}#sk-container-id-2 label.sk-toggleable__label {cursor: pointer;display: block;width: 100%;margin-bottom: 0;padding: 0.3em;box-sizing: border-box;text-align: center;}#sk-container-id-2 label.sk-toggleable__label-arrow:before {content: \"▸\";float: left;margin-right: 0.25em;color: #696969;}#sk-container-id-2 label.sk-toggleable__label-arrow:hover:before {color: black;}#sk-container-id-2 div.sk-estimator:hover label.sk-toggleable__label-arrow:before {color: black;}#sk-container-id-2 div.sk-toggleable__content {max-height: 0;max-width: 0;overflow: hidden;text-align: left;background-color: #f0f8ff;}#sk-container-id-2 div.sk-toggleable__content pre {margin: 0.2em;color: black;border-radius: 0.25em;background-color: #f0f8ff;}#sk-container-id-2 input.sk-toggleable__control:checked~div.sk-toggleable__content {max-height: 200px;max-width: 100%;overflow: auto;}#sk-container-id-2 input.sk-toggleable__control:checked~label.sk-toggleable__label-arrow:before {content: \"▾\";}#sk-container-id-2 div.sk-estimator input.sk-toggleable__control:checked~label.sk-toggleable__label {background-color: #d4ebff;}#sk-container-id-2 div.sk-label input.sk-toggleable__control:checked~label.sk-toggleable__label {background-color: #d4ebff;}#sk-container-id-2 input.sk-hidden--visually {border: 0;clip: rect(1px 1px 1px 1px);clip: rect(1px, 1px, 1px, 1px);height: 1px;margin: -1px;overflow: hidden;padding: 0;position: absolute;width: 1px;}#sk-container-id-2 div.sk-estimator {font-family: monospace;background-color: #f0f8ff;border: 1px dotted black;border-radius: 0.25em;box-sizing: border-box;margin-bottom: 0.5em;}#sk-container-id-2 div.sk-estimator:hover {background-color: #d4ebff;}#sk-container-id-2 div.sk-parallel-item::after {content: \"\";width: 100%;border-bottom: 1px solid gray;flex-grow: 1;}#sk-container-id-2 div.sk-label:hover label.sk-toggleable__label {background-color: #d4ebff;}#sk-container-id-2 div.sk-serial::before {content: \"\";position: absolute;border-left: 1px solid gray;box-sizing: border-box;top: 0;bottom: 0;left: 50%;z-index: 0;}#sk-container-id-2 div.sk-serial {display: flex;flex-direction: column;align-items: center;background-color: white;padding-right: 0.2em;padding-left: 0.2em;position: relative;}#sk-container-id-2 div.sk-item {position: relative;z-index: 1;}#sk-container-id-2 div.sk-parallel {display: flex;align-items: stretch;justify-content: center;background-color: white;position: relative;}#sk-container-id-2 div.sk-item::before, #sk-container-id-2 div.sk-parallel-item::before {content: \"\";position: absolute;border-left: 1px solid gray;box-sizing: border-box;top: 0;bottom: 0;left: 50%;z-index: -1;}#sk-container-id-2 div.sk-parallel-item {display: flex;flex-direction: column;z-index: 1;position: relative;background-color: white;}#sk-container-id-2 div.sk-parallel-item:first-child::after {align-self: flex-end;width: 50%;}#sk-container-id-2 div.sk-parallel-item:last-child::after {align-self: flex-start;width: 50%;}#sk-container-id-2 div.sk-parallel-item:only-child::after {width: 0;}#sk-container-id-2 div.sk-dashed-wrapped {border: 1px dashed gray;margin: 0 0.4em 0.5em 0.4em;box-sizing: border-box;padding-bottom: 0.4em;background-color: white;}#sk-container-id-2 div.sk-label label {font-family: monospace;font-weight: bold;display: inline-block;line-height: 1.2em;}#sk-container-id-2 div.sk-label-container {text-align: center;}#sk-container-id-2 div.sk-container {/* jupyter's `normalize.less` sets `[hidden] { display: none; }` but bootstrap.min.css set `[hidden] { display: none !important; }` so we also need the `!important` here to be able to override the default hidden behavior on the sphinx rendered scikit-learn.org. See: https://github.com/scikit-learn/scikit-learn/issues/21755 */display: inline-block !important;position: relative;}#sk-container-id-2 div.sk-text-repr-fallback {display: none;}</style><div id=\"sk-container-id-2\" class=\"sk-top-container\"><div class=\"sk-text-repr-fallback\"><pre>Pipeline(steps=[(&#x27;scale&#x27;, MinMaxScaler()), (&#x27;impute&#x27;, SimpleImputer())])</pre><b>In a Jupyter environment, please rerun this cell to show the HTML representation or trust the notebook. <br />On GitHub, the HTML representation is unable to render, please try loading this page with nbviewer.org.</b></div><div class=\"sk-container\" hidden><div class=\"sk-item sk-dashed-wrapped\"><div class=\"sk-label-container\"><div class=\"sk-label sk-toggleable\"><input class=\"sk-toggleable__control sk-hidden--visually\" id=\"sk-estimator-id-18\" type=\"checkbox\" ><label for=\"sk-estimator-id-18\" class=\"sk-toggleable__label sk-toggleable__label-arrow\">Pipeline</label><div class=\"sk-toggleable__content\"><pre>Pipeline(steps=[(&#x27;scale&#x27;, MinMaxScaler()), (&#x27;impute&#x27;, SimpleImputer())])</pre></div></div></div><div class=\"sk-serial\"><div class=\"sk-item\"><div class=\"sk-estimator sk-toggleable\"><input class=\"sk-toggleable__control sk-hidden--visually\" id=\"sk-estimator-id-19\" type=\"checkbox\" ><label for=\"sk-estimator-id-19\" class=\"sk-toggleable__label sk-toggleable__label-arrow\">MinMaxScaler</label><div class=\"sk-toggleable__content\"><pre>MinMaxScaler()</pre></div></div></div><div class=\"sk-item\"><div class=\"sk-estimator sk-toggleable\"><input class=\"sk-toggleable__control sk-hidden--visually\" id=\"sk-estimator-id-20\" type=\"checkbox\" ><label for=\"sk-estimator-id-20\" class=\"sk-toggleable__label sk-toggleable__label-arrow\">SimpleImputer</label><div class=\"sk-toggleable__content\"><pre>SimpleImputer()</pre></div></div></div></div></div></div></div>"
      ],
      "text/plain": [
       "Pipeline(steps=[('scale', MinMaxScaler()), ('impute', SimpleImputer())])"
      ]
     },
     "execution_count": 22,
     "metadata": {},
     "output_type": "execute_result"
    }
   ],
   "source": [
    "fare_pipe"
   ]
  },
  {
   "cell_type": "markdown",
   "id": "072ab817",
   "metadata": {},
   "source": [
    "Suppose we want to impute first, then scale with the\n",
    "[`StandardScaler`](https://scikit-learn.org/stable/modules/generated/sklearn.preprocessing.StandardScaler.html)\n",
    "instead of [`MinMaxScaler`](https://scikit-learn.org/stable/modules/generated/sklearn.preprocessing.MinMaxScaler.html)."
   ]
  },
  {
   "cell_type": "code",
   "execution_count": 23,
   "id": "a694794d",
   "metadata": {},
   "outputs": [
    {
     "data": {
      "text/html": [
       "<style>#sk-container-id-3 {color: black;}#sk-container-id-3 pre{padding: 0;}#sk-container-id-3 div.sk-toggleable {background-color: white;}#sk-container-id-3 label.sk-toggleable__label {cursor: pointer;display: block;width: 100%;margin-bottom: 0;padding: 0.3em;box-sizing: border-box;text-align: center;}#sk-container-id-3 label.sk-toggleable__label-arrow:before {content: \"▸\";float: left;margin-right: 0.25em;color: #696969;}#sk-container-id-3 label.sk-toggleable__label-arrow:hover:before {color: black;}#sk-container-id-3 div.sk-estimator:hover label.sk-toggleable__label-arrow:before {color: black;}#sk-container-id-3 div.sk-toggleable__content {max-height: 0;max-width: 0;overflow: hidden;text-align: left;background-color: #f0f8ff;}#sk-container-id-3 div.sk-toggleable__content pre {margin: 0.2em;color: black;border-radius: 0.25em;background-color: #f0f8ff;}#sk-container-id-3 input.sk-toggleable__control:checked~div.sk-toggleable__content {max-height: 200px;max-width: 100%;overflow: auto;}#sk-container-id-3 input.sk-toggleable__control:checked~label.sk-toggleable__label-arrow:before {content: \"▾\";}#sk-container-id-3 div.sk-estimator input.sk-toggleable__control:checked~label.sk-toggleable__label {background-color: #d4ebff;}#sk-container-id-3 div.sk-label input.sk-toggleable__control:checked~label.sk-toggleable__label {background-color: #d4ebff;}#sk-container-id-3 input.sk-hidden--visually {border: 0;clip: rect(1px 1px 1px 1px);clip: rect(1px, 1px, 1px, 1px);height: 1px;margin: -1px;overflow: hidden;padding: 0;position: absolute;width: 1px;}#sk-container-id-3 div.sk-estimator {font-family: monospace;background-color: #f0f8ff;border: 1px dotted black;border-radius: 0.25em;box-sizing: border-box;margin-bottom: 0.5em;}#sk-container-id-3 div.sk-estimator:hover {background-color: #d4ebff;}#sk-container-id-3 div.sk-parallel-item::after {content: \"\";width: 100%;border-bottom: 1px solid gray;flex-grow: 1;}#sk-container-id-3 div.sk-label:hover label.sk-toggleable__label {background-color: #d4ebff;}#sk-container-id-3 div.sk-serial::before {content: \"\";position: absolute;border-left: 1px solid gray;box-sizing: border-box;top: 0;bottom: 0;left: 50%;z-index: 0;}#sk-container-id-3 div.sk-serial {display: flex;flex-direction: column;align-items: center;background-color: white;padding-right: 0.2em;padding-left: 0.2em;position: relative;}#sk-container-id-3 div.sk-item {position: relative;z-index: 1;}#sk-container-id-3 div.sk-parallel {display: flex;align-items: stretch;justify-content: center;background-color: white;position: relative;}#sk-container-id-3 div.sk-item::before, #sk-container-id-3 div.sk-parallel-item::before {content: \"\";position: absolute;border-left: 1px solid gray;box-sizing: border-box;top: 0;bottom: 0;left: 50%;z-index: -1;}#sk-container-id-3 div.sk-parallel-item {display: flex;flex-direction: column;z-index: 1;position: relative;background-color: white;}#sk-container-id-3 div.sk-parallel-item:first-child::after {align-self: flex-end;width: 50%;}#sk-container-id-3 div.sk-parallel-item:last-child::after {align-self: flex-start;width: 50%;}#sk-container-id-3 div.sk-parallel-item:only-child::after {width: 0;}#sk-container-id-3 div.sk-dashed-wrapped {border: 1px dashed gray;margin: 0 0.4em 0.5em 0.4em;box-sizing: border-box;padding-bottom: 0.4em;background-color: white;}#sk-container-id-3 div.sk-label label {font-family: monospace;font-weight: bold;display: inline-block;line-height: 1.2em;}#sk-container-id-3 div.sk-label-container {text-align: center;}#sk-container-id-3 div.sk-container {/* jupyter's `normalize.less` sets `[hidden] { display: none; }` but bootstrap.min.css set `[hidden] { display: none !important; }` so we also need the `!important` here to be able to override the default hidden behavior on the sphinx rendered scikit-learn.org. See: https://github.com/scikit-learn/scikit-learn/issues/21755 */display: inline-block !important;position: relative;}#sk-container-id-3 div.sk-text-repr-fallback {display: none;}</style><div id=\"sk-container-id-3\" class=\"sk-top-container\"><div class=\"sk-text-repr-fallback\"><pre>Pipeline(steps=[(&#x27;impute&#x27;, SimpleImputer()), (&#x27;scale&#x27;, StandardScaler())])</pre><b>In a Jupyter environment, please rerun this cell to show the HTML representation or trust the notebook. <br />On GitHub, the HTML representation is unable to render, please try loading this page with nbviewer.org.</b></div><div class=\"sk-container\" hidden><div class=\"sk-item sk-dashed-wrapped\"><div class=\"sk-label-container\"><div class=\"sk-label sk-toggleable\"><input class=\"sk-toggleable__control sk-hidden--visually\" id=\"sk-estimator-id-21\" type=\"checkbox\" ><label for=\"sk-estimator-id-21\" class=\"sk-toggleable__label sk-toggleable__label-arrow\">Pipeline</label><div class=\"sk-toggleable__content\"><pre>Pipeline(steps=[(&#x27;impute&#x27;, SimpleImputer()), (&#x27;scale&#x27;, StandardScaler())])</pre></div></div></div><div class=\"sk-serial\"><div class=\"sk-item\"><div class=\"sk-estimator sk-toggleable\"><input class=\"sk-toggleable__control sk-hidden--visually\" id=\"sk-estimator-id-22\" type=\"checkbox\" ><label for=\"sk-estimator-id-22\" class=\"sk-toggleable__label sk-toggleable__label-arrow\">SimpleImputer</label><div class=\"sk-toggleable__content\"><pre>SimpleImputer()</pre></div></div></div><div class=\"sk-item\"><div class=\"sk-estimator sk-toggleable\"><input class=\"sk-toggleable__control sk-hidden--visually\" id=\"sk-estimator-id-23\" type=\"checkbox\" ><label for=\"sk-estimator-id-23\" class=\"sk-toggleable__label sk-toggleable__label-arrow\">StandardScaler</label><div class=\"sk-toggleable__content\"><pre>StandardScaler()</pre></div></div></div></div></div></div></div>"
      ],
      "text/plain": [
       "Pipeline(steps=[('impute', SimpleImputer()), ('scale', StandardScaler())])"
      ]
     },
     "execution_count": 23,
     "metadata": {},
     "output_type": "execute_result"
    }
   ],
   "source": [
    "from sklearn.preprocessing import StandardScaler\n",
    "\n",
    "new_fare_pipe = Pipeline(\n",
    "    steps=[\n",
    "        (\"impute\", SimpleImputer()),\n",
    "        (\"scale\", StandardScaler()),\n",
    "    ],\n",
    ")\n",
    "\n",
    "new_fare_pipe"
   ]
  },
  {
   "cell_type": "markdown",
   "id": "d81f7c21",
   "metadata": {},
   "source": [
    "We now fit our `new_fare_pipe`."
   ]
  },
  {
   "cell_type": "code",
   "execution_count": 24,
   "id": "57edf004",
   "metadata": {},
   "outputs": [],
   "source": [
    "new_fare_pipe.fit(X_train[[\"Fare\"]]);"
   ]
  },
  {
   "cell_type": "markdown",
   "id": "e9936ad0",
   "metadata": {},
   "source": [
    "Then add it back into our `col_trf`."
   ]
  },
  {
   "cell_type": "code",
   "execution_count": 25,
   "id": "84b2f537",
   "metadata": {},
   "outputs": [
    {
     "data": {
      "text/plain": [
       "['fare', 'age', 'cat_ord', 'remainder']"
      ]
     },
     "execution_count": 25,
     "metadata": {},
     "output_type": "execute_result"
    }
   ],
   "source": [
    "# Note that we add a tuple of (name, transformer, list of columns).\n",
    "col_trf.transformers_.insert(0, (fare_name, new_fare_pipe, fare_cols))\n",
    "\n",
    "# \"fare\" has been inserted into col_trf\n",
    "[*col_trf.named_transformers_]"
   ]
  },
  {
   "cell_type": "markdown",
   "id": "c69e7950",
   "metadata": {},
   "source": [
    "We can see that the `new_fare_pipe` is in `col_trf`."
   ]
  },
  {
   "cell_type": "code",
   "execution_count": 26,
   "id": "aa27474d",
   "metadata": {},
   "outputs": [
    {
     "data": {
      "text/html": [
       "<style>#sk-container-id-4 {color: black;}#sk-container-id-4 pre{padding: 0;}#sk-container-id-4 div.sk-toggleable {background-color: white;}#sk-container-id-4 label.sk-toggleable__label {cursor: pointer;display: block;width: 100%;margin-bottom: 0;padding: 0.3em;box-sizing: border-box;text-align: center;}#sk-container-id-4 label.sk-toggleable__label-arrow:before {content: \"▸\";float: left;margin-right: 0.25em;color: #696969;}#sk-container-id-4 label.sk-toggleable__label-arrow:hover:before {color: black;}#sk-container-id-4 div.sk-estimator:hover label.sk-toggleable__label-arrow:before {color: black;}#sk-container-id-4 div.sk-toggleable__content {max-height: 0;max-width: 0;overflow: hidden;text-align: left;background-color: #f0f8ff;}#sk-container-id-4 div.sk-toggleable__content pre {margin: 0.2em;color: black;border-radius: 0.25em;background-color: #f0f8ff;}#sk-container-id-4 input.sk-toggleable__control:checked~div.sk-toggleable__content {max-height: 200px;max-width: 100%;overflow: auto;}#sk-container-id-4 input.sk-toggleable__control:checked~label.sk-toggleable__label-arrow:before {content: \"▾\";}#sk-container-id-4 div.sk-estimator input.sk-toggleable__control:checked~label.sk-toggleable__label {background-color: #d4ebff;}#sk-container-id-4 div.sk-label input.sk-toggleable__control:checked~label.sk-toggleable__label {background-color: #d4ebff;}#sk-container-id-4 input.sk-hidden--visually {border: 0;clip: rect(1px 1px 1px 1px);clip: rect(1px, 1px, 1px, 1px);height: 1px;margin: -1px;overflow: hidden;padding: 0;position: absolute;width: 1px;}#sk-container-id-4 div.sk-estimator {font-family: monospace;background-color: #f0f8ff;border: 1px dotted black;border-radius: 0.25em;box-sizing: border-box;margin-bottom: 0.5em;}#sk-container-id-4 div.sk-estimator:hover {background-color: #d4ebff;}#sk-container-id-4 div.sk-parallel-item::after {content: \"\";width: 100%;border-bottom: 1px solid gray;flex-grow: 1;}#sk-container-id-4 div.sk-label:hover label.sk-toggleable__label {background-color: #d4ebff;}#sk-container-id-4 div.sk-serial::before {content: \"\";position: absolute;border-left: 1px solid gray;box-sizing: border-box;top: 0;bottom: 0;left: 50%;z-index: 0;}#sk-container-id-4 div.sk-serial {display: flex;flex-direction: column;align-items: center;background-color: white;padding-right: 0.2em;padding-left: 0.2em;position: relative;}#sk-container-id-4 div.sk-item {position: relative;z-index: 1;}#sk-container-id-4 div.sk-parallel {display: flex;align-items: stretch;justify-content: center;background-color: white;position: relative;}#sk-container-id-4 div.sk-item::before, #sk-container-id-4 div.sk-parallel-item::before {content: \"\";position: absolute;border-left: 1px solid gray;box-sizing: border-box;top: 0;bottom: 0;left: 50%;z-index: -1;}#sk-container-id-4 div.sk-parallel-item {display: flex;flex-direction: column;z-index: 1;position: relative;background-color: white;}#sk-container-id-4 div.sk-parallel-item:first-child::after {align-self: flex-end;width: 50%;}#sk-container-id-4 div.sk-parallel-item:last-child::after {align-self: flex-start;width: 50%;}#sk-container-id-4 div.sk-parallel-item:only-child::after {width: 0;}#sk-container-id-4 div.sk-dashed-wrapped {border: 1px dashed gray;margin: 0 0.4em 0.5em 0.4em;box-sizing: border-box;padding-bottom: 0.4em;background-color: white;}#sk-container-id-4 div.sk-label label {font-family: monospace;font-weight: bold;display: inline-block;line-height: 1.2em;}#sk-container-id-4 div.sk-label-container {text-align: center;}#sk-container-id-4 div.sk-container {/* jupyter's `normalize.less` sets `[hidden] { display: none; }` but bootstrap.min.css set `[hidden] { display: none !important; }` so we also need the `!important` here to be able to override the default hidden behavior on the sphinx rendered scikit-learn.org. See: https://github.com/scikit-learn/scikit-learn/issues/21755 */display: inline-block !important;position: relative;}#sk-container-id-4 div.sk-text-repr-fallback {display: none;}</style><div id=\"sk-container-id-4\" class=\"sk-top-container\"><div class=\"sk-text-repr-fallback\"><pre>Pipeline(steps=[(&#x27;impute&#x27;, SimpleImputer()), (&#x27;scale&#x27;, StandardScaler())])</pre><b>In a Jupyter environment, please rerun this cell to show the HTML representation or trust the notebook. <br />On GitHub, the HTML representation is unable to render, please try loading this page with nbviewer.org.</b></div><div class=\"sk-container\" hidden><div class=\"sk-item sk-dashed-wrapped\"><div class=\"sk-label-container\"><div class=\"sk-label sk-toggleable\"><input class=\"sk-toggleable__control sk-hidden--visually\" id=\"sk-estimator-id-24\" type=\"checkbox\" ><label for=\"sk-estimator-id-24\" class=\"sk-toggleable__label sk-toggleable__label-arrow\">Pipeline</label><div class=\"sk-toggleable__content\"><pre>Pipeline(steps=[(&#x27;impute&#x27;, SimpleImputer()), (&#x27;scale&#x27;, StandardScaler())])</pre></div></div></div><div class=\"sk-serial\"><div class=\"sk-item\"><div class=\"sk-estimator sk-toggleable\"><input class=\"sk-toggleable__control sk-hidden--visually\" id=\"sk-estimator-id-25\" type=\"checkbox\" ><label for=\"sk-estimator-id-25\" class=\"sk-toggleable__label sk-toggleable__label-arrow\">SimpleImputer</label><div class=\"sk-toggleable__content\"><pre>SimpleImputer()</pre></div></div></div><div class=\"sk-item\"><div class=\"sk-estimator sk-toggleable\"><input class=\"sk-toggleable__control sk-hidden--visually\" id=\"sk-estimator-id-26\" type=\"checkbox\" ><label for=\"sk-estimator-id-26\" class=\"sk-toggleable__label sk-toggleable__label-arrow\">StandardScaler</label><div class=\"sk-toggleable__content\"><pre>StandardScaler()</pre></div></div></div></div></div></div></div>"
      ],
      "text/plain": [
       "Pipeline(steps=[('impute', SimpleImputer()), ('scale', StandardScaler())])"
      ]
     },
     "execution_count": 26,
     "metadata": {},
     "output_type": "execute_result"
    }
   ],
   "source": [
    "col_trf.named_transformers_.fare"
   ]
  },
  {
   "cell_type": "markdown",
   "id": "b277766a",
   "metadata": {},
   "source": [
    "And we see that all the transformers in `col_trf` are fitted."
   ]
  },
  {
   "cell_type": "code",
   "execution_count": 27,
   "id": "2ee302aa",
   "metadata": {},
   "outputs": [
    {
     "data": {
      "text/plain": [
       "[('fare', True), ('age', True), ('cat_ord', True)]"
      ]
     },
     "execution_count": 27,
     "metadata": {},
     "output_type": "execute_result"
    }
   ],
   "source": [
    "[\n",
    "    (name, check_is_fitted(trf) is None)\n",
    "    for name, trf in col_trf.named_transformers_.items()\n",
    "    if name != \"remainder\"\n",
    "]"
   ]
  },
  {
   "cell_type": "markdown",
   "id": "30bab0c6",
   "metadata": {},
   "source": [
    "# Together"
   ]
  },
  {
   "cell_type": "markdown",
   "id": "f26f8044",
   "metadata": {},
   "source": [
    "As I mentioned earlier, the `clf` step in `pipe` will still need to be fit.\n",
    "To do this without refitting our \"expensive\" `col_trf` again,\n",
    "we'll need to transform the data with `col_trf` and *then* fit the `clf`."
   ]
  },
  {
   "cell_type": "code",
   "execution_count": 28,
   "id": "1ddbf3fb",
   "metadata": {},
   "outputs": [
    {
     "data": {
      "text/plain": [
       "0.8071748878923767"
      ]
     },
     "execution_count": 28,
     "metadata": {},
     "output_type": "execute_result"
    }
   ],
   "source": [
    "# Transform data before fitting clf\n",
    "X_train_trf = col_trf.transform(X_train)\n",
    "X_val_trf = col_trf.transform(X_val)\n",
    "clf.fit(X_train_trf, y_train)\n",
    "clf.score(X_val_trf, y_val)"
   ]
  },
  {
   "cell_type": "markdown",
   "id": "14842304",
   "metadata": {},
   "source": [
    "This isn't a great solution, especially if you want to tune a specific part of your `col_trf` or `pipe`.\n",
    "A [similar question](https://stackoverflow.com/questions/42139319/lock-steps-prevent-refit-in-scikit-learn-pipeline)\n",
    "was asked on Stack Overflow.\n",
    "And while I like [one of the solutions](https://stackoverflow.com/a/74551682/6509519),\n",
    "it requires a bit more work than we might want.\n",
    "What else can we do?"
   ]
  },
  {
   "cell_type": "markdown",
   "id": "4e2e0550",
   "metadata": {},
   "source": [
    "# Cache"
   ]
  },
  {
   "cell_type": "markdown",
   "id": "d365a9ce",
   "metadata": {},
   "source": [
    "Digging a bit further, I came across\n",
    "[this question](https://stackoverflow.com/questions/73383191/is-preprocessing-repeated-in-a-pipeline-each-time-a-new-ml-model-is-loaded)\n",
    "and [the solution](https://stackoverflow.com/a/73385655/6509519) really highlighted the simplicity of the `scikit-learn` API.\n",
    "\n",
    "Pulling straight from the\n",
    "[docs](https://scikit-learn.org/stable/modules/compose.html#caching-transformers-avoid-repeated-computation),\n",
    "we can create a temporary directory to hold our transformer configurations.\n",
    "Then whenever we modify one (or multiple) component(s), anything that doesn't change will be reloaded from the cache.\n",
    "\n",
    "Let's make a dummy\n",
    "[`FunctionTransformer`](https://scikit-learn.org/stable/modules/generated/sklearn.preprocessing.FunctionTransformer.html)\n",
    "that delays training to see if the caching speeds anything up."
   ]
  },
  {
   "cell_type": "code",
   "execution_count": 29,
   "id": "4808b86e",
   "metadata": {},
   "outputs": [],
   "source": [
    "from time import sleep\n",
    "\n",
    "def sleep_identity(x: np.ndarray) -> np.ndarray:\n",
    "    print(\"Sleeping...\")\n",
    "    sleep(2)\n",
    "    print(\"Awake!\")\n",
    "    return x\n",
    "\n",
    "sleep_trf = FunctionTransformer(func=sleep_identity)"
   ]
  },
  {
   "cell_type": "code",
   "execution_count": 30,
   "id": "824d0d3a",
   "metadata": {},
   "outputs": [],
   "source": [
    "# Make a temporary directory to hold our cached configs/weights/etc.\n",
    "from tempfile import mkdtemp\n",
    "\n",
    "cachedir = mkdtemp()"
   ]
  },
  {
   "cell_type": "code",
   "execution_count": 31,
   "id": "165cb812",
   "metadata": {},
   "outputs": [],
   "source": [
    "# We define a new pipe to test with unfit transformers.\n",
    "# All transformers are the same except the sleep_trf at step 1.\n",
    "cont_pipe = Pipeline(\n",
    "    steps=[\n",
    "        (\"scale\", MinMaxScaler()),\n",
    "        (\"impute\", SimpleImputer()),\n",
    "    ],\n",
    ")\n",
    "cat_ord_cols = [\"Sex\", \"Pclass\", \"Embarked\", \"SibSp\", \"Parch\"]\n",
    "cat_ord = FeatureUnion(\n",
    "    transformer_list=[\n",
    "        (\"ohe\", OneHotEncoder(drop=\"first\", sparse_output=False, max_categories=5)),\n",
    "        (\"tgt\", TargetEncoder(random_state=0)),\n",
    "    ],\n",
    ")\n",
    "title_pipe = Pipeline(\n",
    "    steps=[\n",
    "        (\"title_func\", title_func),\n",
    "        (\"ohe\", OneHotEncoder(drop=[\"None\"], sparse_output=False)),\n",
    "    ],\n",
    ")\n",
    "age_title_trf = ColumnTransformer(\n",
    "    transformers=[\n",
    "        (\"title_pipe\", title_pipe, [\"Name\"]),\n",
    "        (\"age\", \"passthrough\", [\"Age\"]),\n",
    "    ],\n",
    "    remainder=\"drop\",\n",
    ")\n",
    "age_pipe = Pipeline(\n",
    "    steps=[\n",
    "        (\"age_title_trf\", age_title_trf),\n",
    "        (\"impute_knn\", KNNImputer()),\n",
    "    ],\n",
    ")\n",
    "col_trf = ColumnTransformer(\n",
    "    transformers=[\n",
    "        (\"fare\", cont_pipe, [\"Fare\"]),\n",
    "        (\"age\", age_pipe, [\"Age\", \"Name\"]),\n",
    "        (\"cat_ord\", cat_ord, cat_ord_cols),\n",
    "    ],\n",
    "    remainder=\"drop\",\n",
    ")\n",
    "unfit_pipe = Pipeline(\n",
    "    steps=[\n",
    "        (\"sleep\", sleep_trf),  # New!!!\n",
    "        (\"col_trf\", col_trf),\n",
    "        (\"clf\", LogisticRegression(random_state=0)),\n",
    "    ],\n",
    "    memory=cachedir,  # Set the memory to our temporary directory.\n",
    "    verbose=True,  # Set verbose to True so we can see the processing logs.\n",
    ")"
   ]
  },
  {
   "cell_type": "code",
   "execution_count": 32,
   "id": "ca54c98d",
   "metadata": {},
   "outputs": [
    {
     "name": "stdout",
     "output_type": "stream",
     "text": [
      "Sleeping...\n",
      "Awake!\n",
      "[Pipeline] ............. (step 1 of 3) Processing sleep, total=   2.0s\n",
      "[Pipeline] ........... (step 2 of 3) Processing col_trf, total=   0.0s\n",
      "[Pipeline] ............... (step 3 of 3) Processing clf, total=   0.1s\n"
     ]
    }
   ],
   "source": [
    "unfit_pipe.fit(X_train, y_train);"
   ]
  },
  {
   "cell_type": "markdown",
   "id": "fe08ca64",
   "metadata": {},
   "source": [
    "From the verbose output we can see that it took about $2.1$ seconds to fit the `unfit_pipe`.\n",
    "What happens if we try to fit again without changing anything?"
   ]
  },
  {
   "cell_type": "code",
   "execution_count": 33,
   "id": "4f86ef3b",
   "metadata": {},
   "outputs": [
    {
     "name": "stdout",
     "output_type": "stream",
     "text": [
      "[Pipeline] ............... (step 3 of 3) Processing clf, total=   0.1s\n"
     ]
    }
   ],
   "source": [
    "unfit_pipe.fit(X_train, y_train);"
   ]
  },
  {
   "cell_type": "markdown",
   "id": "781c7ba6",
   "metadata": {},
   "source": [
    "$0.1$ seconds!\n",
    "The first two steps were skipped because nothing was changed, so the results were loaded from the cache.\n",
    "\n",
    "Caching is really helpful when tuning a `Pipeline`.\n",
    "And it turns out that we can drop in a new,\n",
    "unfit transformer, e.g. `unfit_fare_pipe`, and we'll still use cached results from the other previously fit transformers."
   ]
  },
  {
   "cell_type": "code",
   "execution_count": 34,
   "id": "53521177",
   "metadata": {},
   "outputs": [],
   "source": [
    "# Make a new, unfit fare pipeline and replace the one in unfit_pipe.\n",
    "unfit_fare_pipe = Pipeline(\n",
    "    steps=[\n",
    "        (\"impute\", SimpleImputer()),\n",
    "        (\"scale\", StandardScaler()),\n",
    "    ],\n",
    ")\n",
    "\n",
    "unfit_pipe.named_steps.col_trf.transformers_[0] = (fare_name, unfit_fare_pipe, fare_cols)"
   ]
  },
  {
   "cell_type": "code",
   "execution_count": 35,
   "id": "ee9603f8",
   "metadata": {},
   "outputs": [
    {
     "name": "stdout",
     "output_type": "stream",
     "text": [
      "False\n"
     ]
    }
   ],
   "source": [
    "# Checking if unfit_fare_pipe is fitted will result in a NotFittedError.\n",
    "from sklearn.exceptions import NotFittedError\n",
    "\n",
    "try:\n",
    "    print(check_is_fitted(unfit_pipe.named_steps.col_trf.named_transformers_.fare) is None)\n",
    "\n",
    "except NotFittedError:\n",
    "    print(False)"
   ]
  },
  {
   "cell_type": "code",
   "execution_count": 36,
   "id": "283bb3fb",
   "metadata": {},
   "outputs": [
    {
     "name": "stdout",
     "output_type": "stream",
     "text": [
      "[Pipeline] ............... (step 3 of 3) Processing clf, total=   0.1s\n"
     ]
    }
   ],
   "source": [
    "unfit_pipe.fit(X_train, y_train);"
   ]
  },
  {
   "cell_type": "code",
   "execution_count": 37,
   "id": "63783963",
   "metadata": {},
   "outputs": [
    {
     "data": {
      "text/plain": [
       "True"
      ]
     },
     "execution_count": 37,
     "metadata": {},
     "output_type": "execute_result"
    }
   ],
   "source": [
    "# The unfit_fare_pipe is now fitted.\n",
    "check_is_fitted(unfit_pipe.named_steps.col_trf.named_transformers_.fare) is None"
   ]
  },
  {
   "cell_type": "code",
   "execution_count": 38,
   "id": "e9132a48",
   "metadata": {},
   "outputs": [
    {
     "name": "stdout",
     "output_type": "stream",
     "text": [
      "Sleeping...\n",
      "Awake!\n"
     ]
    },
    {
     "data": {
      "text/plain": [
       "0.8071748878923767"
      ]
     },
     "execution_count": 38,
     "metadata": {},
     "output_type": "execute_result"
    }
   ],
   "source": [
    "# Test that the updated unfit_pipe can score the unseen validation data.\n",
    "unfit_pipe.score(X_val, y_val)"
   ]
  },
  {
   "cell_type": "markdown",
   "id": "3248cb1e",
   "metadata": {},
   "source": [
    "# Conclusion"
   ]
  },
  {
   "cell_type": "markdown",
   "id": "fc60cec6",
   "metadata": {},
   "source": [
    "When constructing a `Pipeline` with potentially expensive steps, it may be wise to cache the fitted results.\n",
    "This allows us to save resources and avoid recomputing or refitting transformers and estimators that we aren't changing."
   ]
  }
 ],
 "metadata": {
  "kernelspec": {
   "display_name": "Python 3 (ipykernel)",
   "language": "python",
   "name": "python3"
  },
  "language_info": {
   "codemirror_mode": {
    "name": "ipython",
    "version": 3
   },
   "file_extension": ".py",
   "mimetype": "text/x-python",
   "name": "python",
   "nbconvert_exporter": "python",
   "pygments_lexer": "ipython3",
   "version": "3.11.7"
  }
 },
 "nbformat": 4,
 "nbformat_minor": 5
}
