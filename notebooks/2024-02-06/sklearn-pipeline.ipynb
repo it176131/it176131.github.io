{
 "cells": [
  {
   "cell_type": "markdown",
   "id": "1c42d087",
   "metadata": {},
   "source": [
    "# Intro"
   ]
  },
  {
   "cell_type": "markdown",
   "id": "34742fee",
   "metadata": {},
   "source": [
    "When I started writing [Python](https://www.python.org/) some eight or nine years ago one of the first libraries I was introduced to was\n",
    "[`scikit-learn`](https://scikit-learn.org/stable/).\n",
    "Being a beginner, I had to learn how to \"read the docs,\" which can be challenging for anyone exploring unfamiliar software.\n",
    "Articles, videos, doc strings, example code snippets, source code, and even unit tests.\n",
    "I see them all as another side to the same box.\n",
    "When one didn't make sense, I could search for another to help me better understand the puzzle.\n",
    "\n",
    "The more I studied `scikit-learn`, the more I'd try to rebuild examples using techniques I was comfortable with:\n",
    "[`pandas`](https://pandas.pydata.org/), [`numpy`](https://numpy.org/), hand-written math and sketches.\n",
    "Fairly quickly I noticed the\n",
    "[`Pipeline`](https://scikit-learn.org/stable/modules/generated/sklearn.pipeline.Pipeline.html)\n",
    "was used in a lot of code\n",
    "[examples](https://scikit-learn.org/stable/modules/generated/sklearn.pipeline.Pipeline.html#examples-using-sklearn-pipeline-pipeline).\n",
    "The idea of a pipeline wasn't new—the output of one operation was the input to next—but knowing how to read and use one was.\n",
    "Once I figured it out,\n",
    "the `Pipeline` earned a place in my toolbox and serves as a part of my signature style when working in machine learning.\n",
    "\n",
    "I now find it much easier to use the [`scikit-learn` API](https://scikit-learn.org/stable/modules/classes.html),\n",
    "as well as [contribute](https://github.com/scikit-learn/scikit-learn/pull/25220)\n",
    "to its [source code](https://github.com/scikit-learn/scikit-learn).\n",
    "With that, I'd like to share some alternative approaches to building a machine learning model using `scikit-learn`'s `Pipeline` and friends:\n",
    "[`FeatureUnion`](https://scikit-learn.org/stable/modules/generated/sklearn.pipeline.FeatureUnion.html),\n",
    "[`ColumnTransformer`](https://scikit-learn.org/stable/modules/generated/sklearn.compose.ColumnTransformer.html),\n",
    "and [`FunctionTransformer`](https://scikit-learn.org/stable/modules/generated/sklearn.preprocessing.FunctionTransformer.html)."
   ]
  },
  {
   "cell_type": "markdown",
   "id": "fc3517c4",
   "metadata": {},
   "source": [
    "# Setup"
   ]
  },
  {
   "cell_type": "markdown",
   "id": "66426fef",
   "metadata": {},
   "source": [
    "I'll start with the prerequisites;\n",
    "to guarantee that you get the same results as I do I'd suggest installing the following package versions.\n",
    "You can do that by uncommenting the below cell and running it."
   ]
  },
  {
   "cell_type": "code",
   "execution_count": 1,
   "id": "c501b8f6",
   "metadata": {},
   "outputs": [],
   "source": [
    "# !pip install numpy==1.24.3\n",
    "# !pip install pandas==2.1.4\n",
    "# !pip install scikit-learn==1.3.2"
   ]
  },
  {
   "cell_type": "markdown",
   "id": "2e92bc0b",
   "metadata": {},
   "source": [
    "Below are the initial imports.\n",
    "I'll introduce more in each section as we go.\n",
    "The comments should describe what each is going to be used for,\n",
    "but if you have questions drop a comment at the bottom of the post."
   ]
  },
  {
   "cell_type": "code",
   "execution_count": 2,
   "id": "8b7e67f9",
   "metadata": {},
   "outputs": [],
   "source": [
    "import warnings  # To suppress some warnings.\n",
    "\n",
    "import numpy as np  # For numerical computation when a dataframe isn't available.\n",
    "import pandas as pd  # For reading/manipulating data.\n",
    "from sklearn.impute import SimpleImputer  # For imputing missing values.\n",
    "from sklearn.linear_model import LogisticRegression  # Simple classifier.\n",
    "from sklearn.model_selection import train_test_split  # Split train data into train/val.\n",
    "from sklearn.preprocessing import MinMaxScaler  # Simple preprocessing step.\n",
    "\n",
    "# Filtering out a scikit-learn warning related to the `LogisticRegression` model\n",
    "# not converging in the last section. This does not pertain to the tutorial so it\n",
    "# will be hidden.\n",
    "warnings.filterwarnings(action=\"ignore\", module=\"sklearn\")"
   ]
  },
  {
   "cell_type": "markdown",
   "id": "9b51c9fd",
   "metadata": {},
   "source": [
    "I'm using the Titanic data set from [Kaggle](https://www.kaggle.com/).\n",
    "You can download it from [here](https://www.kaggle.com/competitions/titanic/data).\n",
    "\n",
    "The goal of the competition is to build a classification model that can correctly predict if a passenger survived the Titanic.\n",
    "I'm not aiming for a state-of-the-art model here;\n",
    "I'm sharing how one might build a model and then introduce the `Pipeline` et al."
   ]
  },
  {
   "cell_type": "code",
   "execution_count": 3,
   "id": "c76769c9",
   "metadata": {},
   "outputs": [],
   "source": [
    "# Read the Titanic data set.\n",
    "train = pd.read_csv(\"train.csv\", index_col=\"PassengerId\")\n",
    "test = pd.read_csv(\"test.csv\", index_col=\"PassengerId\")\n",
    "\n",
    "# Separate X and y.\n",
    "X = train.drop(columns=\"Survived\")\n",
    "y = train.Survived\n",
    "\n",
    "# Split into train/val data.\n",
    "X_train, X_val, y_train, y_val = train_test_split(X, y, random_state=0, stratify=y)"
   ]
  },
  {
   "cell_type": "markdown",
   "id": "e00b6781",
   "metadata": {},
   "source": [
    "# Multi-step Transformation"
   ]
  },
  {
   "cell_type": "markdown",
   "id": "13e8af29",
   "metadata": {},
   "source": [
    "Let's start off simple.\n",
    "Suppose we want to use the continuous features to predict survival."
   ]
  },
  {
   "cell_type": "code",
   "execution_count": 4,
   "id": "84a67fd9",
   "metadata": {},
   "outputs": [],
   "source": [
    "# Limit to features with dtype float.\n",
    "cont_cols = X_train.select_dtypes(include=\"float\").columns\n",
    "X_train_float = X_train[cont_cols]\n",
    "X_val_float = X_val[cont_cols]"
   ]
  },
  {
   "cell_type": "markdown",
   "id": "deec22ca",
   "metadata": {},
   "source": [
    "We could scale the features between $[0, 1]$ using\n",
    "[`MinMaxScaler`](https://scikit-learn.org/stable/modules/generated/sklearn.preprocessing.MinMaxScaler.html)."
   ]
  },
  {
   "cell_type": "code",
   "execution_count": 5,
   "id": "85229ef1",
   "metadata": {},
   "outputs": [],
   "source": [
    "# Scale data.\n",
    "scaler = MinMaxScaler()\n",
    "X_train_scaled = scaler.fit_transform(X_train_float)\n",
    "X_val_scaled = scaler.transform(X_val_float)"
   ]
  },
  {
   "cell_type": "markdown",
   "id": "c87b2e79",
   "metadata": {},
   "source": [
    "Use the [`SimpleImputer`](https://scikit-learn.org/stable/modules/generated/sklearn.impute.SimpleImputer.html)\n",
    "to fill any missing values with the average across all passengers."
   ]
  },
  {
   "cell_type": "code",
   "execution_count": 6,
   "id": "23d0a8dd",
   "metadata": {},
   "outputs": [],
   "source": [
    "# Impute data.\n",
    "imputer = SimpleImputer()\n",
    "X_train_imputed = imputer.fit_transform(X_train_scaled)\n",
    "X_val_imputed = imputer.transform(X_val_scaled)"
   ]
  },
  {
   "cell_type": "markdown",
   "id": "35bd09c4",
   "metadata": {},
   "source": [
    "And fit our\n",
    "[`LogisticRegression`](https://scikit-learn.org/stable/modules/generated/sklearn.linear_model.LogisticRegression.html)\n",
    "with our scaled-then-imputed data and check out the score on our held-out data."
   ]
  },
  {
   "cell_type": "code",
   "execution_count": 7,
   "id": "6490b1ab",
   "metadata": {},
   "outputs": [
    {
     "data": {
      "text/plain": [
       "0.6457399103139013"
      ]
     },
     "execution_count": 7,
     "metadata": {},
     "output_type": "execute_result"
    }
   ],
   "source": [
    "# Fit the model and grade against val data.\n",
    "clf = LogisticRegression(random_state=0)\n",
    "clf.fit(X_train_imputed, y_train)\n",
    "clf.score(X_val_imputed, y_val)"
   ]
  },
  {
   "cell_type": "markdown",
   "id": "416d564f",
   "metadata": {},
   "source": [
    "It's a straightforward and easy-to-understand series of steps.\n",
    "1. Scale\n",
    "2. Impute\n",
    "3. Fit"
   ]
  },
  {
   "cell_type": "markdown",
   "id": "d7ffb916",
   "metadata": {},
   "source": [
    "# [`Pipeline`](https://scikit-learn.org/stable/modules/generated/sklearn.pipeline.Pipeline.html)"
   ]
  },
  {
   "cell_type": "markdown",
   "id": "81acf3c5",
   "metadata": {},
   "source": [
    "Here's how we'd do it with a `Pipeline`."
   ]
  },
  {
   "cell_type": "code",
   "execution_count": 8,
   "id": "e7ee6bae",
   "metadata": {},
   "outputs": [],
   "source": [
    "# Import Pipeline.\n",
    "from sklearn.pipeline import Pipeline"
   ]
  },
  {
   "cell_type": "code",
   "execution_count": 9,
   "id": "2181b3c6",
   "metadata": {},
   "outputs": [],
   "source": [
    "# Limit to features with dtype float.\n",
    "cont_cols = X_train.select_dtypes(include=\"float\").columns\n",
    "X_train_float = X_train[cont_cols]\n",
    "X_val_float = X_val[cont_cols]"
   ]
  },
  {
   "cell_type": "code",
   "execution_count": 10,
   "id": "a8b186e2",
   "metadata": {},
   "outputs": [
    {
     "data": {
      "text/plain": [
       "0.6457399103139013"
      ]
     },
     "execution_count": 10,
     "metadata": {},
     "output_type": "execute_result"
    }
   ],
   "source": [
    "# Define a pipe with three steps: scale -> impute -> classify.\n",
    "pipe = Pipeline(\n",
    "    steps=[\n",
    "        (\"scale\", MinMaxScaler()),\n",
    "        (\"impute\", SimpleImputer()),\n",
    "        (\"clf\", LogisticRegression(random_state=0)),\n",
    "    ],\n",
    ")\n",
    "pipe.fit(X_train_float, y_train)\n",
    "pipe.score(X_val_float, y_val)"
   ]
  },
  {
   "cell_type": "markdown",
   "id": "9f0092ad",
   "metadata": {},
   "source": [
    "In 10 lines of code (with whitespace) we created a process to take data as input, scale it, impute it, and classify it.\n",
    "Here's what our `pipe` looks like."
   ]
  },
  {
   "cell_type": "code",
   "execution_count": 11,
   "id": "cd96949a",
   "metadata": {},
   "outputs": [
    {
     "data": {
      "text/html": [
       "<style>#sk-container-id-1 {color: black;}#sk-container-id-1 pre{padding: 0;}#sk-container-id-1 div.sk-toggleable {background-color: white;}#sk-container-id-1 label.sk-toggleable__label {cursor: pointer;display: block;width: 100%;margin-bottom: 0;padding: 0.3em;box-sizing: border-box;text-align: center;}#sk-container-id-1 label.sk-toggleable__label-arrow:before {content: \"▸\";float: left;margin-right: 0.25em;color: #696969;}#sk-container-id-1 label.sk-toggleable__label-arrow:hover:before {color: black;}#sk-container-id-1 div.sk-estimator:hover label.sk-toggleable__label-arrow:before {color: black;}#sk-container-id-1 div.sk-toggleable__content {max-height: 0;max-width: 0;overflow: hidden;text-align: left;background-color: #f0f8ff;}#sk-container-id-1 div.sk-toggleable__content pre {margin: 0.2em;color: black;border-radius: 0.25em;background-color: #f0f8ff;}#sk-container-id-1 input.sk-toggleable__control:checked~div.sk-toggleable__content {max-height: 200px;max-width: 100%;overflow: auto;}#sk-container-id-1 input.sk-toggleable__control:checked~label.sk-toggleable__label-arrow:before {content: \"▾\";}#sk-container-id-1 div.sk-estimator input.sk-toggleable__control:checked~label.sk-toggleable__label {background-color: #d4ebff;}#sk-container-id-1 div.sk-label input.sk-toggleable__control:checked~label.sk-toggleable__label {background-color: #d4ebff;}#sk-container-id-1 input.sk-hidden--visually {border: 0;clip: rect(1px 1px 1px 1px);clip: rect(1px, 1px, 1px, 1px);height: 1px;margin: -1px;overflow: hidden;padding: 0;position: absolute;width: 1px;}#sk-container-id-1 div.sk-estimator {font-family: monospace;background-color: #f0f8ff;border: 1px dotted black;border-radius: 0.25em;box-sizing: border-box;margin-bottom: 0.5em;}#sk-container-id-1 div.sk-estimator:hover {background-color: #d4ebff;}#sk-container-id-1 div.sk-parallel-item::after {content: \"\";width: 100%;border-bottom: 1px solid gray;flex-grow: 1;}#sk-container-id-1 div.sk-label:hover label.sk-toggleable__label {background-color: #d4ebff;}#sk-container-id-1 div.sk-serial::before {content: \"\";position: absolute;border-left: 1px solid gray;box-sizing: border-box;top: 0;bottom: 0;left: 50%;z-index: 0;}#sk-container-id-1 div.sk-serial {display: flex;flex-direction: column;align-items: center;background-color: white;padding-right: 0.2em;padding-left: 0.2em;position: relative;}#sk-container-id-1 div.sk-item {position: relative;z-index: 1;}#sk-container-id-1 div.sk-parallel {display: flex;align-items: stretch;justify-content: center;background-color: white;position: relative;}#sk-container-id-1 div.sk-item::before, #sk-container-id-1 div.sk-parallel-item::before {content: \"\";position: absolute;border-left: 1px solid gray;box-sizing: border-box;top: 0;bottom: 0;left: 50%;z-index: -1;}#sk-container-id-1 div.sk-parallel-item {display: flex;flex-direction: column;z-index: 1;position: relative;background-color: white;}#sk-container-id-1 div.sk-parallel-item:first-child::after {align-self: flex-end;width: 50%;}#sk-container-id-1 div.sk-parallel-item:last-child::after {align-self: flex-start;width: 50%;}#sk-container-id-1 div.sk-parallel-item:only-child::after {width: 0;}#sk-container-id-1 div.sk-dashed-wrapped {border: 1px dashed gray;margin: 0 0.4em 0.5em 0.4em;box-sizing: border-box;padding-bottom: 0.4em;background-color: white;}#sk-container-id-1 div.sk-label label {font-family: monospace;font-weight: bold;display: inline-block;line-height: 1.2em;}#sk-container-id-1 div.sk-label-container {text-align: center;}#sk-container-id-1 div.sk-container {/* jupyter's `normalize.less` sets `[hidden] { display: none; }` but bootstrap.min.css set `[hidden] { display: none !important; }` so we also need the `!important` here to be able to override the default hidden behavior on the sphinx rendered scikit-learn.org. See: https://github.com/scikit-learn/scikit-learn/issues/21755 */display: inline-block !important;position: relative;}#sk-container-id-1 div.sk-text-repr-fallback {display: none;}</style><div id=\"sk-container-id-1\" class=\"sk-top-container\"><div class=\"sk-text-repr-fallback\"><pre>Pipeline(steps=[(&#x27;scale&#x27;, MinMaxScaler()), (&#x27;impute&#x27;, SimpleImputer()),\n",
       "                (&#x27;clf&#x27;, LogisticRegression(random_state=0))])</pre><b>In a Jupyter environment, please rerun this cell to show the HTML representation or trust the notebook. <br />On GitHub, the HTML representation is unable to render, please try loading this page with nbviewer.org.</b></div><div class=\"sk-container\" hidden><div class=\"sk-item sk-dashed-wrapped\"><div class=\"sk-label-container\"><div class=\"sk-label sk-toggleable\"><input class=\"sk-toggleable__control sk-hidden--visually\" id=\"sk-estimator-id-1\" type=\"checkbox\" ><label for=\"sk-estimator-id-1\" class=\"sk-toggleable__label sk-toggleable__label-arrow\">Pipeline</label><div class=\"sk-toggleable__content\"><pre>Pipeline(steps=[(&#x27;scale&#x27;, MinMaxScaler()), (&#x27;impute&#x27;, SimpleImputer()),\n",
       "                (&#x27;clf&#x27;, LogisticRegression(random_state=0))])</pre></div></div></div><div class=\"sk-serial\"><div class=\"sk-item\"><div class=\"sk-estimator sk-toggleable\"><input class=\"sk-toggleable__control sk-hidden--visually\" id=\"sk-estimator-id-2\" type=\"checkbox\" ><label for=\"sk-estimator-id-2\" class=\"sk-toggleable__label sk-toggleable__label-arrow\">MinMaxScaler</label><div class=\"sk-toggleable__content\"><pre>MinMaxScaler()</pre></div></div></div><div class=\"sk-item\"><div class=\"sk-estimator sk-toggleable\"><input class=\"sk-toggleable__control sk-hidden--visually\" id=\"sk-estimator-id-3\" type=\"checkbox\" ><label for=\"sk-estimator-id-3\" class=\"sk-toggleable__label sk-toggleable__label-arrow\">SimpleImputer</label><div class=\"sk-toggleable__content\"><pre>SimpleImputer()</pre></div></div></div><div class=\"sk-item\"><div class=\"sk-estimator sk-toggleable\"><input class=\"sk-toggleable__control sk-hidden--visually\" id=\"sk-estimator-id-4\" type=\"checkbox\" ><label for=\"sk-estimator-id-4\" class=\"sk-toggleable__label sk-toggleable__label-arrow\">LogisticRegression</label><div class=\"sk-toggleable__content\"><pre>LogisticRegression(random_state=0)</pre></div></div></div></div></div></div></div>"
      ],
      "text/plain": [
       "Pipeline(steps=[('scale', MinMaxScaler()), ('impute', SimpleImputer()),\n",
       "                ('clf', LogisticRegression(random_state=0))])"
      ]
     },
     "execution_count": 11,
     "metadata": {},
     "output_type": "execute_result"
    }
   ],
   "source": [
    "# HTML representation of the pipe.\n",
    "pipe"
   ]
  },
  {
   "cell_type": "markdown",
   "id": "bdd205ff",
   "metadata": {},
   "source": [
    "Compared to the previous method, the `pipe` keeps everything in one composable object.\n",
    "We don't have to store each transformer or estimator as its own variable that we may or may not forget later.\n",
    "And we don't have to store the output after each transformation, which includes both the training and validation data.\n",
    "All together we create four variables: `cont_cols`, `X_train_float`, `X_val_float`, and `pipe`.\n",
    "The previous method has ten:\n",
    "`cont_cols`, `X_train_float`, `X_val_float`,\n",
    "`scaler`, `X_train_scaled`, `X_val_scaled`,\n",
    "`imputer`, `X_train_imputed`, `X_val_imputed`,\n",
    "and `clf`."
   ]
  },
  {
   "cell_type": "markdown",
   "id": "05ed9d7c",
   "metadata": {},
   "source": [
    "# Expanding Feature Space"
   ]
  },
  {
   "cell_type": "markdown",
   "id": "f8b7af8a",
   "metadata": {},
   "source": [
    "What if we wanted to transform features in not one, but two ways?\n",
    "First let's use the\n",
    "[`OneHotEncoder`](https://scikit-learn.org/stable/modules/generated/sklearn.preprocessing.OneHotEncoder.html)\n",
    "to transform some categorical/ordinal features.\n",
    "Then we'll independently use the\n",
    "[`TargetEncoder`](https://scikit-learn.org/stable/modules/generated/sklearn.preprocessing.TargetEncoder.html)\n",
    "to transform those same features."
   ]
  },
  {
   "cell_type": "code",
   "execution_count": 12,
   "id": "55ef6120",
   "metadata": {},
   "outputs": [],
   "source": [
    "# Import one-hot and target encoding transformers\n",
    "from sklearn.preprocessing import OneHotEncoder, TargetEncoder"
   ]
  },
  {
   "cell_type": "markdown",
   "id": "1d08399a",
   "metadata": {},
   "source": [
    "We will consider features with less than 10 unique values to be categorical/ordinal."
   ]
  },
  {
   "cell_type": "code",
   "execution_count": 13,
   "id": "5d0874ba",
   "metadata": {},
   "outputs": [
    {
     "data": {
      "text/plain": [
       "Sex           2\n",
       "Pclass        3\n",
       "Embarked      3\n",
       "SibSp         7\n",
       "Parch         7\n",
       "Age          82\n",
       "Cabin       120\n",
       "Fare        216\n",
       "Ticket      537\n",
       "Name        668\n",
       "dtype: int64"
      ]
     },
     "execution_count": 13,
     "metadata": {},
     "output_type": "execute_result"
    }
   ],
   "source": [
    "# Get the number of unique values in each feature sorted ascendingly.\n",
    "X_train.nunique().sort_values()"
   ]
  },
  {
   "cell_type": "code",
   "execution_count": 14,
   "id": "14ba31d5",
   "metadata": {},
   "outputs": [],
   "source": [
    "# Limit to categorical/ordinal features.\n",
    "cat_ord_cols = [\"Sex\", \"Pclass\", \"Embarked\", \"SibSp\", \"Parch\"]\n",
    "X_train_enc = X_train[cat_ord_cols]\n",
    "X_val_enc = X_val[cat_ord_cols]"
   ]
  },
  {
   "cell_type": "markdown",
   "id": "1055154c",
   "metadata": {},
   "source": [
    "We one-hot-encode the features, dropping the first and only tracking the five most frequent values.\n",
    "This helps us to avoid \"exploding\" our feature space."
   ]
  },
  {
   "cell_type": "code",
   "execution_count": 15,
   "id": "139b2f3f",
   "metadata": {},
   "outputs": [],
   "source": [
    "# One-hot-encode categorical/ordinal features.\n",
    "ohe = OneHotEncoder(drop=\"first\", sparse_output=False, max_categories=5)\n",
    "X_train_ohe = ohe.fit_transform(X_train_enc)\n",
    "X_val_ohe = ohe.transform(X_val_enc)"
   ]
  },
  {
   "cell_type": "markdown",
   "id": "f35bc90f",
   "metadata": {},
   "source": [
    "Target encoding only transforms the values of each feature, so we don't have to worry about the number of columns growing."
   ]
  },
  {
   "cell_type": "code",
   "execution_count": 16,
   "id": "6a6e91bd",
   "metadata": {},
   "outputs": [],
   "source": [
    "# Target encode categorical/ordinal features.\n",
    "tgt = TargetEncoder(random_state=0)\n",
    "X_train_tgt = tgt.fit_transform(X_train_enc, y_train)\n",
    "X_val_tgt = tgt.transform(X_val_enc)"
   ]
  },
  {
   "cell_type": "markdown",
   "id": "657a0160",
   "metadata": {},
   "source": [
    "We stack our two transformed data sets along the column-axis,\n",
    "keeping our row count the same but increasing the number of columns."
   ]
  },
  {
   "cell_type": "code",
   "execution_count": 17,
   "id": "7a7dda30",
   "metadata": {},
   "outputs": [],
   "source": [
    "# Join One-hot-encoded features with target-encoded features.\n",
    "X_train_feat_union = np.hstack((X_train_ohe, X_train_tgt))\n",
    "X_val_feat_union = np.hstack((X_val_ohe, X_val_tgt))"
   ]
  },
  {
   "cell_type": "code",
   "execution_count": 18,
   "id": "8f624b37",
   "metadata": {},
   "outputs": [
    {
     "data": {
      "text/plain": [
       "0.7847533632286996"
      ]
     },
     "execution_count": 18,
     "metadata": {},
     "output_type": "execute_result"
    }
   ],
   "source": [
    "clf.fit(X_train_feat_union, y_train)\n",
    "clf.score(X_val_feat_union, y_val)"
   ]
  },
  {
   "cell_type": "markdown",
   "id": "dbe44423",
   "metadata": {},
   "source": [
    "It looks like there's some signal coming from the `cat_ord_cols`!"
   ]
  },
  {
   "cell_type": "markdown",
   "id": "fc748d54",
   "metadata": {},
   "source": [
    "# [`FeatureUnion`](https://scikit-learn.org/stable/modules/generated/sklearn.pipeline.FeatureUnion.html)"
   ]
  },
  {
   "cell_type": "markdown",
   "id": "0d08a9f7",
   "metadata": {},
   "source": [
    "Using a `FeatureUnion` saves us variable assignments similar to the `Pipeline`,\n",
    "and allows us to execute all transformers in parallel by setting the `n_jobs=-1`."
   ]
  },
  {
   "cell_type": "code",
   "execution_count": 19,
   "id": "cfe2046d",
   "metadata": {},
   "outputs": [],
   "source": [
    "# Import FeatureUnion\n",
    "from sklearn.pipeline import FeatureUnion"
   ]
  },
  {
   "cell_type": "code",
   "execution_count": 20,
   "id": "2c2be427",
   "metadata": {},
   "outputs": [],
   "source": [
    "# Define a feature union with two transformers: ohe & tgt.\n",
    "cat_ord = FeatureUnion(\n",
    "    transformer_list=[\n",
    "        (\"ohe\", OneHotEncoder(drop=\"first\", sparse_output=False, max_categories=5)),\n",
    "        (\"tgt\", TargetEncoder(random_state=0)),\n",
    "    ],\n",
    "    n_jobs=-1,  # Execute all transformers in parallel.\n",
    ")"
   ]
  },
  {
   "cell_type": "markdown",
   "id": "945127dd",
   "metadata": {},
   "source": [
    "Because of how the `scikit-learn` API functions, we can drop the `cat_ord` into a `pipe` as a component."
   ]
  },
  {
   "cell_type": "code",
   "execution_count": 21,
   "id": "8dbead48",
   "metadata": {},
   "outputs": [
    {
     "data": {
      "text/plain": [
       "0.7847533632286996"
      ]
     },
     "execution_count": 21,
     "metadata": {},
     "output_type": "execute_result"
    }
   ],
   "source": [
    "# Define a pipeline to run the cat_ord, and then classify.\n",
    "pipe = Pipeline(\n",
    "    steps=[\n",
    "        (\"cat_ord\", cat_ord),\n",
    "        (\"clf\", LogisticRegression(random_state=0)),\n",
    "    ],\n",
    ")\n",
    "pipe.fit(X_train_enc, y_train)\n",
    "pipe.score(X_val_enc, y_val)"
   ]
  },
  {
   "cell_type": "markdown",
   "id": "af08613f",
   "metadata": {},
   "source": [
    "The HTML representation of the `pipe` shows which items will be ran in parallel (horizontal),\n",
    "and which will be run sequentially (vertical)."
   ]
  },
  {
   "cell_type": "code",
   "execution_count": 22,
   "id": "df96bacf",
   "metadata": {},
   "outputs": [
    {
     "data": {
      "text/html": [
       "<style>#sk-container-id-2 {color: black;}#sk-container-id-2 pre{padding: 0;}#sk-container-id-2 div.sk-toggleable {background-color: white;}#sk-container-id-2 label.sk-toggleable__label {cursor: pointer;display: block;width: 100%;margin-bottom: 0;padding: 0.3em;box-sizing: border-box;text-align: center;}#sk-container-id-2 label.sk-toggleable__label-arrow:before {content: \"▸\";float: left;margin-right: 0.25em;color: #696969;}#sk-container-id-2 label.sk-toggleable__label-arrow:hover:before {color: black;}#sk-container-id-2 div.sk-estimator:hover label.sk-toggleable__label-arrow:before {color: black;}#sk-container-id-2 div.sk-toggleable__content {max-height: 0;max-width: 0;overflow: hidden;text-align: left;background-color: #f0f8ff;}#sk-container-id-2 div.sk-toggleable__content pre {margin: 0.2em;color: black;border-radius: 0.25em;background-color: #f0f8ff;}#sk-container-id-2 input.sk-toggleable__control:checked~div.sk-toggleable__content {max-height: 200px;max-width: 100%;overflow: auto;}#sk-container-id-2 input.sk-toggleable__control:checked~label.sk-toggleable__label-arrow:before {content: \"▾\";}#sk-container-id-2 div.sk-estimator input.sk-toggleable__control:checked~label.sk-toggleable__label {background-color: #d4ebff;}#sk-container-id-2 div.sk-label input.sk-toggleable__control:checked~label.sk-toggleable__label {background-color: #d4ebff;}#sk-container-id-2 input.sk-hidden--visually {border: 0;clip: rect(1px 1px 1px 1px);clip: rect(1px, 1px, 1px, 1px);height: 1px;margin: -1px;overflow: hidden;padding: 0;position: absolute;width: 1px;}#sk-container-id-2 div.sk-estimator {font-family: monospace;background-color: #f0f8ff;border: 1px dotted black;border-radius: 0.25em;box-sizing: border-box;margin-bottom: 0.5em;}#sk-container-id-2 div.sk-estimator:hover {background-color: #d4ebff;}#sk-container-id-2 div.sk-parallel-item::after {content: \"\";width: 100%;border-bottom: 1px solid gray;flex-grow: 1;}#sk-container-id-2 div.sk-label:hover label.sk-toggleable__label {background-color: #d4ebff;}#sk-container-id-2 div.sk-serial::before {content: \"\";position: absolute;border-left: 1px solid gray;box-sizing: border-box;top: 0;bottom: 0;left: 50%;z-index: 0;}#sk-container-id-2 div.sk-serial {display: flex;flex-direction: column;align-items: center;background-color: white;padding-right: 0.2em;padding-left: 0.2em;position: relative;}#sk-container-id-2 div.sk-item {position: relative;z-index: 1;}#sk-container-id-2 div.sk-parallel {display: flex;align-items: stretch;justify-content: center;background-color: white;position: relative;}#sk-container-id-2 div.sk-item::before, #sk-container-id-2 div.sk-parallel-item::before {content: \"\";position: absolute;border-left: 1px solid gray;box-sizing: border-box;top: 0;bottom: 0;left: 50%;z-index: -1;}#sk-container-id-2 div.sk-parallel-item {display: flex;flex-direction: column;z-index: 1;position: relative;background-color: white;}#sk-container-id-2 div.sk-parallel-item:first-child::after {align-self: flex-end;width: 50%;}#sk-container-id-2 div.sk-parallel-item:last-child::after {align-self: flex-start;width: 50%;}#sk-container-id-2 div.sk-parallel-item:only-child::after {width: 0;}#sk-container-id-2 div.sk-dashed-wrapped {border: 1px dashed gray;margin: 0 0.4em 0.5em 0.4em;box-sizing: border-box;padding-bottom: 0.4em;background-color: white;}#sk-container-id-2 div.sk-label label {font-family: monospace;font-weight: bold;display: inline-block;line-height: 1.2em;}#sk-container-id-2 div.sk-label-container {text-align: center;}#sk-container-id-2 div.sk-container {/* jupyter's `normalize.less` sets `[hidden] { display: none; }` but bootstrap.min.css set `[hidden] { display: none !important; }` so we also need the `!important` here to be able to override the default hidden behavior on the sphinx rendered scikit-learn.org. See: https://github.com/scikit-learn/scikit-learn/issues/21755 */display: inline-block !important;position: relative;}#sk-container-id-2 div.sk-text-repr-fallback {display: none;}</style><div id=\"sk-container-id-2\" class=\"sk-top-container\"><div class=\"sk-text-repr-fallback\"><pre>Pipeline(steps=[(&#x27;cat_ord&#x27;,\n",
       "                 FeatureUnion(n_jobs=-1,\n",
       "                              transformer_list=[(&#x27;ohe&#x27;,\n",
       "                                                 OneHotEncoder(drop=&#x27;first&#x27;,\n",
       "                                                               max_categories=5,\n",
       "                                                               sparse_output=False)),\n",
       "                                                (&#x27;tgt&#x27;,\n",
       "                                                 TargetEncoder(random_state=0))])),\n",
       "                (&#x27;clf&#x27;, LogisticRegression(random_state=0))])</pre><b>In a Jupyter environment, please rerun this cell to show the HTML representation or trust the notebook. <br />On GitHub, the HTML representation is unable to render, please try loading this page with nbviewer.org.</b></div><div class=\"sk-container\" hidden><div class=\"sk-item sk-dashed-wrapped\"><div class=\"sk-label-container\"><div class=\"sk-label sk-toggleable\"><input class=\"sk-toggleable__control sk-hidden--visually\" id=\"sk-estimator-id-5\" type=\"checkbox\" ><label for=\"sk-estimator-id-5\" class=\"sk-toggleable__label sk-toggleable__label-arrow\">Pipeline</label><div class=\"sk-toggleable__content\"><pre>Pipeline(steps=[(&#x27;cat_ord&#x27;,\n",
       "                 FeatureUnion(n_jobs=-1,\n",
       "                              transformer_list=[(&#x27;ohe&#x27;,\n",
       "                                                 OneHotEncoder(drop=&#x27;first&#x27;,\n",
       "                                                               max_categories=5,\n",
       "                                                               sparse_output=False)),\n",
       "                                                (&#x27;tgt&#x27;,\n",
       "                                                 TargetEncoder(random_state=0))])),\n",
       "                (&#x27;clf&#x27;, LogisticRegression(random_state=0))])</pre></div></div></div><div class=\"sk-serial\"><div class=\"sk-item sk-dashed-wrapped\"><div class=\"sk-label-container\"><div class=\"sk-label sk-toggleable\"><input class=\"sk-toggleable__control sk-hidden--visually\" id=\"sk-estimator-id-6\" type=\"checkbox\" ><label for=\"sk-estimator-id-6\" class=\"sk-toggleable__label sk-toggleable__label-arrow\">cat_ord: FeatureUnion</label><div class=\"sk-toggleable__content\"><pre>FeatureUnion(n_jobs=-1,\n",
       "             transformer_list=[(&#x27;ohe&#x27;,\n",
       "                                OneHotEncoder(drop=&#x27;first&#x27;, max_categories=5,\n",
       "                                              sparse_output=False)),\n",
       "                               (&#x27;tgt&#x27;, TargetEncoder(random_state=0))])</pre></div></div></div><div class=\"sk-parallel\"><div class=\"sk-parallel-item\"><div class=\"sk-item\"><div class=\"sk-label-container\"><div class=\"sk-label sk-toggleable\"><label>ohe</label></div></div><div class=\"sk-serial\"><div class=\"sk-item\"><div class=\"sk-estimator sk-toggleable\"><input class=\"sk-toggleable__control sk-hidden--visually\" id=\"sk-estimator-id-7\" type=\"checkbox\" ><label for=\"sk-estimator-id-7\" class=\"sk-toggleable__label sk-toggleable__label-arrow\">OneHotEncoder</label><div class=\"sk-toggleable__content\"><pre>OneHotEncoder(drop=&#x27;first&#x27;, max_categories=5, sparse_output=False)</pre></div></div></div></div></div></div><div class=\"sk-parallel-item\"><div class=\"sk-item\"><div class=\"sk-label-container\"><div class=\"sk-label sk-toggleable\"><label>tgt</label></div></div><div class=\"sk-serial\"><div class=\"sk-item\"><div class=\"sk-estimator sk-toggleable\"><input class=\"sk-toggleable__control sk-hidden--visually\" id=\"sk-estimator-id-8\" type=\"checkbox\" ><label for=\"sk-estimator-id-8\" class=\"sk-toggleable__label sk-toggleable__label-arrow\">TargetEncoder</label><div class=\"sk-toggleable__content\"><pre>TargetEncoder(random_state=0)</pre></div></div></div></div></div></div></div></div><div class=\"sk-item\"><div class=\"sk-estimator sk-toggleable\"><input class=\"sk-toggleable__control sk-hidden--visually\" id=\"sk-estimator-id-9\" type=\"checkbox\" ><label for=\"sk-estimator-id-9\" class=\"sk-toggleable__label sk-toggleable__label-arrow\">LogisticRegression</label><div class=\"sk-toggleable__content\"><pre>LogisticRegression(random_state=0)</pre></div></div></div></div></div></div></div>"
      ],
      "text/plain": [
       "Pipeline(steps=[('cat_ord',\n",
       "                 FeatureUnion(n_jobs=-1,\n",
       "                              transformer_list=[('ohe',\n",
       "                                                 OneHotEncoder(drop='first',\n",
       "                                                               max_categories=5,\n",
       "                                                               sparse_output=False)),\n",
       "                                                ('tgt',\n",
       "                                                 TargetEncoder(random_state=0))])),\n",
       "                ('clf', LogisticRegression(random_state=0))])"
      ]
     },
     "execution_count": 22,
     "metadata": {},
     "output_type": "execute_result"
    }
   ],
   "source": [
    "pipe"
   ]
  },
  {
   "cell_type": "markdown",
   "id": "6cbddc68",
   "metadata": {},
   "source": [
    "# Transform Feature Subsets"
   ]
  },
  {
   "cell_type": "markdown",
   "id": "6ffed661",
   "metadata": {},
   "source": [
    "We can now pipe data through a series of transformers (sequentially and in parallel) into a classifier.\n",
    "How would we go about joining the features from both our pipelines together and using that as input into a model?\n",
    "Let's define a `cont_pipe` to handle the preprocessing of our continuous features."
   ]
  },
  {
   "cell_type": "code",
   "execution_count": 23,
   "id": "ce65760c",
   "metadata": {},
   "outputs": [],
   "source": [
    "# Limit to features with dtype float.\n",
    "cont_cols = X_train.select_dtypes(include=\"float\").columns\n",
    "X_train_float = X_train[cont_cols]\n",
    "X_val_float = X_val[cont_cols]\n",
    "\n",
    "# Continuous feature pipeline.\n",
    "cont_pipe = Pipeline(\n",
    "    steps=[\n",
    "        (\"scale\", MinMaxScaler()),\n",
    "        (\"impute\", SimpleImputer()),\n",
    "    ],\n",
    ")\n",
    "X_train_cont = cont_pipe.fit_transform(X_train_float)\n",
    "X_val_cont = cont_pipe.transform(X_val_float)"
   ]
  },
  {
   "cell_type": "markdown",
   "id": "c440268a",
   "metadata": {},
   "source": [
    "And let's also use our `cat_ord` to preprocess our `cat_ord_cols`."
   ]
  },
  {
   "cell_type": "code",
   "execution_count": 24,
   "id": "87667878",
   "metadata": {},
   "outputs": [],
   "source": [
    "# Limit to categorical/ordinal features.\n",
    "cat_ord_cols = [\"Sex\", \"Pclass\", \"Embarked\", \"SibSp\", \"Parch\"]\n",
    "X_train_enc = X_train[cat_ord_cols]\n",
    "X_val_enc = X_val[cat_ord_cols]\n",
    "\n",
    "# Categorical/ordinal feature union.\n",
    "cat_ord = FeatureUnion(\n",
    "    transformer_list=[\n",
    "        (\"ohe\", OneHotEncoder(drop=\"first\", sparse_output=False, max_categories=5)),\n",
    "        (\"tgt\", TargetEncoder(random_state=0)),\n",
    "    ],\n",
    ")\n",
    "X_train_feat_union = cat_ord.fit_transform(X_train_enc, y_train)\n",
    "X_val_feat_union = cat_ord.transform(X_val_enc)"
   ]
  },
  {
   "cell_type": "markdown",
   "id": "5d34b020",
   "metadata": {},
   "source": [
    "We'll need to join the output of each preprocessor and then feed that into our classifier."
   ]
  },
  {
   "cell_type": "code",
   "execution_count": 25,
   "id": "68090fcd",
   "metadata": {},
   "outputs": [],
   "source": [
    "# Join continuous transformations with categorical/ordinal transformations.\n",
    "X_train_join = np.hstack((X_train_cont, X_train_feat_union))\n",
    "X_val_join = np.hstack((X_val_cont, X_val_feat_union))"
   ]
  },
  {
   "cell_type": "code",
   "execution_count": 26,
   "id": "6c336846",
   "metadata": {},
   "outputs": [
    {
     "data": {
      "text/plain": [
       "0.8026905829596412"
      ]
     },
     "execution_count": 26,
     "metadata": {},
     "output_type": "execute_result"
    }
   ],
   "source": [
    "clf.fit(X_train_join, y_train)\n",
    "clf.score(X_val_join, y_val)"
   ]
  },
  {
   "cell_type": "markdown",
   "id": "ea892aab",
   "metadata": {},
   "source": [
    "Another improvement!"
   ]
  },
  {
   "cell_type": "markdown",
   "id": "71b343fe",
   "metadata": {},
   "source": [
    "# [`ColumnTransformer`](https://scikit-learn.org/stable/modules/generated/sklearn.compose.ColumnTransformer.html)"
   ]
  },
  {
   "cell_type": "markdown",
   "id": "f1713e95",
   "metadata": {},
   "source": [
    "Similar to `FeatureUnion`, the `ColumnTransformer` allows us to execute multiple transformers in parallel.\n",
    "The difference is that a `FeatureUnion`'s transformers will be applied to the same input.\n",
    "The `ColumnTransformer` allows us to pick and choose which features are given to a transformer.\n",
    "In our current example it wouldn't make sense to apply the same transformations to both the `cont_cols` and `cat_ord_cols`.\n",
    "So we delegate the `cont_pipe` to the `cont_cols` and the `cat_ord` to the `cat_ord_cols`."
   ]
  },
  {
   "cell_type": "code",
   "execution_count": 27,
   "id": "5bc3fc36",
   "metadata": {},
   "outputs": [],
   "source": [
    "# Import ColumnTransformer.\n",
    "from sklearn.compose import ColumnTransformer"
   ]
  },
  {
   "cell_type": "code",
   "execution_count": 28,
   "id": "d5dcb152",
   "metadata": {},
   "outputs": [],
   "source": [
    "# Define a column transformer with two transformers: the cont_pipe pipeline and the cat_ord feature union.\n",
    "col_trf = ColumnTransformer(\n",
    "    transformers=[\n",
    "        (\"cont_pipe\", cont_pipe, cont_cols),\n",
    "        (\"cat_ord\", cat_ord, cat_ord_cols),\n",
    "    ],\n",
    "    remainder=\"drop\",  # Drop features not used in the transformers.\n",
    "    n_jobs=-1,\n",
    ")"
   ]
  },
  {
   "cell_type": "markdown",
   "id": "9b1177c5",
   "metadata": {},
   "source": [
    "We can drop the `col_trf` into a `pipe` as a component, just like we did with the `cat_ord` before."
   ]
  },
  {
   "cell_type": "code",
   "execution_count": 29,
   "id": "5313c4ed",
   "metadata": {},
   "outputs": [
    {
     "data": {
      "text/plain": [
       "0.8026905829596412"
      ]
     },
     "execution_count": 29,
     "metadata": {},
     "output_type": "execute_result"
    }
   ],
   "source": [
    "# Define a pipeline to run the col_ord, and then classify.\n",
    "pipe = Pipeline(\n",
    "    steps=[\n",
    "        (\"col_trf\", col_trf),\n",
    "        (\"clf\", LogisticRegression(random_state=0)),\n",
    "    ],\n",
    ")\n",
    "pipe.fit(X_train, y_train)\n",
    "pipe.score(X_val, y_val)"
   ]
  },
  {
   "cell_type": "markdown",
   "id": "73ed1a04",
   "metadata": {},
   "source": [
    "We now have a `pipe` with an internal `Pipeline` and `FeatureUnion` running next to each other."
   ]
  },
  {
   "cell_type": "code",
   "execution_count": 30,
   "id": "5faeb5d1",
   "metadata": {},
   "outputs": [
    {
     "data": {
      "text/html": [
       "<style>#sk-container-id-3 {color: black;}#sk-container-id-3 pre{padding: 0;}#sk-container-id-3 div.sk-toggleable {background-color: white;}#sk-container-id-3 label.sk-toggleable__label {cursor: pointer;display: block;width: 100%;margin-bottom: 0;padding: 0.3em;box-sizing: border-box;text-align: center;}#sk-container-id-3 label.sk-toggleable__label-arrow:before {content: \"▸\";float: left;margin-right: 0.25em;color: #696969;}#sk-container-id-3 label.sk-toggleable__label-arrow:hover:before {color: black;}#sk-container-id-3 div.sk-estimator:hover label.sk-toggleable__label-arrow:before {color: black;}#sk-container-id-3 div.sk-toggleable__content {max-height: 0;max-width: 0;overflow: hidden;text-align: left;background-color: #f0f8ff;}#sk-container-id-3 div.sk-toggleable__content pre {margin: 0.2em;color: black;border-radius: 0.25em;background-color: #f0f8ff;}#sk-container-id-3 input.sk-toggleable__control:checked~div.sk-toggleable__content {max-height: 200px;max-width: 100%;overflow: auto;}#sk-container-id-3 input.sk-toggleable__control:checked~label.sk-toggleable__label-arrow:before {content: \"▾\";}#sk-container-id-3 div.sk-estimator input.sk-toggleable__control:checked~label.sk-toggleable__label {background-color: #d4ebff;}#sk-container-id-3 div.sk-label input.sk-toggleable__control:checked~label.sk-toggleable__label {background-color: #d4ebff;}#sk-container-id-3 input.sk-hidden--visually {border: 0;clip: rect(1px 1px 1px 1px);clip: rect(1px, 1px, 1px, 1px);height: 1px;margin: -1px;overflow: hidden;padding: 0;position: absolute;width: 1px;}#sk-container-id-3 div.sk-estimator {font-family: monospace;background-color: #f0f8ff;border: 1px dotted black;border-radius: 0.25em;box-sizing: border-box;margin-bottom: 0.5em;}#sk-container-id-3 div.sk-estimator:hover {background-color: #d4ebff;}#sk-container-id-3 div.sk-parallel-item::after {content: \"\";width: 100%;border-bottom: 1px solid gray;flex-grow: 1;}#sk-container-id-3 div.sk-label:hover label.sk-toggleable__label {background-color: #d4ebff;}#sk-container-id-3 div.sk-serial::before {content: \"\";position: absolute;border-left: 1px solid gray;box-sizing: border-box;top: 0;bottom: 0;left: 50%;z-index: 0;}#sk-container-id-3 div.sk-serial {display: flex;flex-direction: column;align-items: center;background-color: white;padding-right: 0.2em;padding-left: 0.2em;position: relative;}#sk-container-id-3 div.sk-item {position: relative;z-index: 1;}#sk-container-id-3 div.sk-parallel {display: flex;align-items: stretch;justify-content: center;background-color: white;position: relative;}#sk-container-id-3 div.sk-item::before, #sk-container-id-3 div.sk-parallel-item::before {content: \"\";position: absolute;border-left: 1px solid gray;box-sizing: border-box;top: 0;bottom: 0;left: 50%;z-index: -1;}#sk-container-id-3 div.sk-parallel-item {display: flex;flex-direction: column;z-index: 1;position: relative;background-color: white;}#sk-container-id-3 div.sk-parallel-item:first-child::after {align-self: flex-end;width: 50%;}#sk-container-id-3 div.sk-parallel-item:last-child::after {align-self: flex-start;width: 50%;}#sk-container-id-3 div.sk-parallel-item:only-child::after {width: 0;}#sk-container-id-3 div.sk-dashed-wrapped {border: 1px dashed gray;margin: 0 0.4em 0.5em 0.4em;box-sizing: border-box;padding-bottom: 0.4em;background-color: white;}#sk-container-id-3 div.sk-label label {font-family: monospace;font-weight: bold;display: inline-block;line-height: 1.2em;}#sk-container-id-3 div.sk-label-container {text-align: center;}#sk-container-id-3 div.sk-container {/* jupyter's `normalize.less` sets `[hidden] { display: none; }` but bootstrap.min.css set `[hidden] { display: none !important; }` so we also need the `!important` here to be able to override the default hidden behavior on the sphinx rendered scikit-learn.org. See: https://github.com/scikit-learn/scikit-learn/issues/21755 */display: inline-block !important;position: relative;}#sk-container-id-3 div.sk-text-repr-fallback {display: none;}</style><div id=\"sk-container-id-3\" class=\"sk-top-container\"><div class=\"sk-text-repr-fallback\"><pre>Pipeline(steps=[(&#x27;col_trf&#x27;,\n",
       "                 ColumnTransformer(n_jobs=-1,\n",
       "                                   transformers=[(&#x27;cont_pipe&#x27;,\n",
       "                                                  Pipeline(steps=[(&#x27;scale&#x27;,\n",
       "                                                                   MinMaxScaler()),\n",
       "                                                                  (&#x27;impute&#x27;,\n",
       "                                                                   SimpleImputer())]),\n",
       "                                                  Index([&#x27;Age&#x27;, &#x27;Fare&#x27;], dtype=&#x27;object&#x27;)),\n",
       "                                                 (&#x27;cat_ord&#x27;,\n",
       "                                                  FeatureUnion(transformer_list=[(&#x27;ohe&#x27;,\n",
       "                                                                                  OneHotEncoder(drop=&#x27;first&#x27;,\n",
       "                                                                                                max_categories=5,\n",
       "                                                                                                sparse_output=False)),\n",
       "                                                                                 (&#x27;tgt&#x27;,\n",
       "                                                                                  TargetEncoder(random_state=0))]),\n",
       "                                                  [&#x27;Sex&#x27;, &#x27;Pclass&#x27;, &#x27;Embarked&#x27;,\n",
       "                                                   &#x27;SibSp&#x27;, &#x27;Parch&#x27;])])),\n",
       "                (&#x27;clf&#x27;, LogisticRegression(random_state=0))])</pre><b>In a Jupyter environment, please rerun this cell to show the HTML representation or trust the notebook. <br />On GitHub, the HTML representation is unable to render, please try loading this page with nbviewer.org.</b></div><div class=\"sk-container\" hidden><div class=\"sk-item sk-dashed-wrapped\"><div class=\"sk-label-container\"><div class=\"sk-label sk-toggleable\"><input class=\"sk-toggleable__control sk-hidden--visually\" id=\"sk-estimator-id-10\" type=\"checkbox\" ><label for=\"sk-estimator-id-10\" class=\"sk-toggleable__label sk-toggleable__label-arrow\">Pipeline</label><div class=\"sk-toggleable__content\"><pre>Pipeline(steps=[(&#x27;col_trf&#x27;,\n",
       "                 ColumnTransformer(n_jobs=-1,\n",
       "                                   transformers=[(&#x27;cont_pipe&#x27;,\n",
       "                                                  Pipeline(steps=[(&#x27;scale&#x27;,\n",
       "                                                                   MinMaxScaler()),\n",
       "                                                                  (&#x27;impute&#x27;,\n",
       "                                                                   SimpleImputer())]),\n",
       "                                                  Index([&#x27;Age&#x27;, &#x27;Fare&#x27;], dtype=&#x27;object&#x27;)),\n",
       "                                                 (&#x27;cat_ord&#x27;,\n",
       "                                                  FeatureUnion(transformer_list=[(&#x27;ohe&#x27;,\n",
       "                                                                                  OneHotEncoder(drop=&#x27;first&#x27;,\n",
       "                                                                                                max_categories=5,\n",
       "                                                                                                sparse_output=False)),\n",
       "                                                                                 (&#x27;tgt&#x27;,\n",
       "                                                                                  TargetEncoder(random_state=0))]),\n",
       "                                                  [&#x27;Sex&#x27;, &#x27;Pclass&#x27;, &#x27;Embarked&#x27;,\n",
       "                                                   &#x27;SibSp&#x27;, &#x27;Parch&#x27;])])),\n",
       "                (&#x27;clf&#x27;, LogisticRegression(random_state=0))])</pre></div></div></div><div class=\"sk-serial\"><div class=\"sk-item sk-dashed-wrapped\"><div class=\"sk-label-container\"><div class=\"sk-label sk-toggleable\"><input class=\"sk-toggleable__control sk-hidden--visually\" id=\"sk-estimator-id-11\" type=\"checkbox\" ><label for=\"sk-estimator-id-11\" class=\"sk-toggleable__label sk-toggleable__label-arrow\">col_trf: ColumnTransformer</label><div class=\"sk-toggleable__content\"><pre>ColumnTransformer(n_jobs=-1,\n",
       "                  transformers=[(&#x27;cont_pipe&#x27;,\n",
       "                                 Pipeline(steps=[(&#x27;scale&#x27;, MinMaxScaler()),\n",
       "                                                 (&#x27;impute&#x27;, SimpleImputer())]),\n",
       "                                 Index([&#x27;Age&#x27;, &#x27;Fare&#x27;], dtype=&#x27;object&#x27;)),\n",
       "                                (&#x27;cat_ord&#x27;,\n",
       "                                 FeatureUnion(transformer_list=[(&#x27;ohe&#x27;,\n",
       "                                                                 OneHotEncoder(drop=&#x27;first&#x27;,\n",
       "                                                                               max_categories=5,\n",
       "                                                                               sparse_output=False)),\n",
       "                                                                (&#x27;tgt&#x27;,\n",
       "                                                                 TargetEncoder(random_state=0))]),\n",
       "                                 [&#x27;Sex&#x27;, &#x27;Pclass&#x27;, &#x27;Embarked&#x27;, &#x27;SibSp&#x27;,\n",
       "                                  &#x27;Parch&#x27;])])</pre></div></div></div><div class=\"sk-parallel\"><div class=\"sk-parallel-item\"><div class=\"sk-item\"><div class=\"sk-label-container\"><div class=\"sk-label sk-toggleable\"><input class=\"sk-toggleable__control sk-hidden--visually\" id=\"sk-estimator-id-12\" type=\"checkbox\" ><label for=\"sk-estimator-id-12\" class=\"sk-toggleable__label sk-toggleable__label-arrow\">cont_pipe</label><div class=\"sk-toggleable__content\"><pre>Index([&#x27;Age&#x27;, &#x27;Fare&#x27;], dtype=&#x27;object&#x27;)</pre></div></div></div><div class=\"sk-serial\"><div class=\"sk-item\"><div class=\"sk-serial\"><div class=\"sk-item\"><div class=\"sk-estimator sk-toggleable\"><input class=\"sk-toggleable__control sk-hidden--visually\" id=\"sk-estimator-id-13\" type=\"checkbox\" ><label for=\"sk-estimator-id-13\" class=\"sk-toggleable__label sk-toggleable__label-arrow\">MinMaxScaler</label><div class=\"sk-toggleable__content\"><pre>MinMaxScaler()</pre></div></div></div><div class=\"sk-item\"><div class=\"sk-estimator sk-toggleable\"><input class=\"sk-toggleable__control sk-hidden--visually\" id=\"sk-estimator-id-14\" type=\"checkbox\" ><label for=\"sk-estimator-id-14\" class=\"sk-toggleable__label sk-toggleable__label-arrow\">SimpleImputer</label><div class=\"sk-toggleable__content\"><pre>SimpleImputer()</pre></div></div></div></div></div></div></div></div><div class=\"sk-parallel-item\"><div class=\"sk-item\"><div class=\"sk-label-container\"><div class=\"sk-label sk-toggleable\"><input class=\"sk-toggleable__control sk-hidden--visually\" id=\"sk-estimator-id-15\" type=\"checkbox\" ><label for=\"sk-estimator-id-15\" class=\"sk-toggleable__label sk-toggleable__label-arrow\">cat_ord</label><div class=\"sk-toggleable__content\"><pre>[&#x27;Sex&#x27;, &#x27;Pclass&#x27;, &#x27;Embarked&#x27;, &#x27;SibSp&#x27;, &#x27;Parch&#x27;]</pre></div></div></div><div class=\"sk-serial\"><div class=\"sk-item sk-dashed-wrapped\"><div class=\"sk-parallel\"><div class=\"sk-parallel-item\"><div class=\"sk-item\"><div class=\"sk-label-container\"><div class=\"sk-label sk-toggleable\"><label>ohe</label></div></div><div class=\"sk-serial\"><div class=\"sk-item\"><div class=\"sk-estimator sk-toggleable\"><input class=\"sk-toggleable__control sk-hidden--visually\" id=\"sk-estimator-id-16\" type=\"checkbox\" ><label for=\"sk-estimator-id-16\" class=\"sk-toggleable__label sk-toggleable__label-arrow\">OneHotEncoder</label><div class=\"sk-toggleable__content\"><pre>OneHotEncoder(drop=&#x27;first&#x27;, max_categories=5, sparse_output=False)</pre></div></div></div></div></div></div><div class=\"sk-parallel-item\"><div class=\"sk-item\"><div class=\"sk-label-container\"><div class=\"sk-label sk-toggleable\"><label>tgt</label></div></div><div class=\"sk-serial\"><div class=\"sk-item\"><div class=\"sk-estimator sk-toggleable\"><input class=\"sk-toggleable__control sk-hidden--visually\" id=\"sk-estimator-id-17\" type=\"checkbox\" ><label for=\"sk-estimator-id-17\" class=\"sk-toggleable__label sk-toggleable__label-arrow\">TargetEncoder</label><div class=\"sk-toggleable__content\"><pre>TargetEncoder(random_state=0)</pre></div></div></div></div></div></div></div></div></div></div></div></div></div><div class=\"sk-item\"><div class=\"sk-estimator sk-toggleable\"><input class=\"sk-toggleable__control sk-hidden--visually\" id=\"sk-estimator-id-18\" type=\"checkbox\" ><label for=\"sk-estimator-id-18\" class=\"sk-toggleable__label sk-toggleable__label-arrow\">LogisticRegression</label><div class=\"sk-toggleable__content\"><pre>LogisticRegression(random_state=0)</pre></div></div></div></div></div></div></div>"
      ],
      "text/plain": [
       "Pipeline(steps=[('col_trf',\n",
       "                 ColumnTransformer(n_jobs=-1,\n",
       "                                   transformers=[('cont_pipe',\n",
       "                                                  Pipeline(steps=[('scale',\n",
       "                                                                   MinMaxScaler()),\n",
       "                                                                  ('impute',\n",
       "                                                                   SimpleImputer())]),\n",
       "                                                  Index(['Age', 'Fare'], dtype='object')),\n",
       "                                                 ('cat_ord',\n",
       "                                                  FeatureUnion(transformer_list=[('ohe',\n",
       "                                                                                  OneHotEncoder(drop='first',\n",
       "                                                                                                max_categories=5,\n",
       "                                                                                                sparse_output=False)),\n",
       "                                                                                 ('tgt',\n",
       "                                                                                  TargetEncoder(random_state=0))]),\n",
       "                                                  ['Sex', 'Pclass', 'Embarked',\n",
       "                                                   'SibSp', 'Parch'])])),\n",
       "                ('clf', LogisticRegression(random_state=0))])"
      ]
     },
     "execution_count": 30,
     "metadata": {},
     "output_type": "execute_result"
    }
   ],
   "source": [
    "pipe"
   ]
  },
  {
   "cell_type": "markdown",
   "id": "b1db2109",
   "metadata": {},
   "source": [
    "# Custom Transformer"
   ]
  },
  {
   "cell_type": "markdown",
   "id": "7526750e",
   "metadata": {},
   "source": [
    "Building a machine learning model involves creativity.\n",
    "Sometimes we need to engineer our own features using methods that don't exist out-of-the-box.\n",
    "Take our *Name* feature for instance."
   ]
  },
  {
   "cell_type": "code",
   "execution_count": 31,
   "id": "9d4f27a3",
   "metadata": {},
   "outputs": [
    {
     "data": {
      "text/plain": [
       "PassengerId\n",
       "44     Laroche, Miss. Simonne Marie Anne Andree\n",
       "257              Thorne, Mrs. Gertrude Maybelle\n",
       "232                    Larsson, Mr. Bengt Edvin\n",
       "213                      Perkin, Mr. John Henry\n",
       "290                        Connolly, Miss. Kate\n",
       "Name: Name, dtype: object"
      ]
     },
     "execution_count": 31,
     "metadata": {},
     "output_type": "execute_result"
    }
   ],
   "source": [
    "X_train.Name.sample(n=5, random_state=0)"
   ]
  },
  {
   "cell_type": "markdown",
   "id": "78ab6bda",
   "metadata": {},
   "source": [
    "With a little research, you'll find that the titles in a passengers' names give us an idea of their age.\n",
    "This is useful because some of our passengers' ages were missing.\n",
    "We could extract the title from the name, and then estimate the missing ages using the known ages and the titles.\n",
    "To do that we'll need to write a custom function to get the titles."
   ]
  },
  {
   "cell_type": "code",
   "execution_count": 32,
   "id": "1329ed57",
   "metadata": {},
   "outputs": [],
   "source": [
    "import re\n",
    "\n",
    "def get_title(\n",
    "    text: str,\n",
    "    title_pattern: str = r\"Mrs?|Miss|Master\",\n",
    ") -> str | None:\n",
    "    \"\"\"Get a passenger's title if present.\n",
    "    \n",
    "    If more than one title found, return title with\n",
    "    the least number of characters.\n",
    "    \n",
    "    If no title found, return None.\n",
    "    \n",
    "    The defalut title_pattern will detect:\n",
    "    - Mr\n",
    "    - Mrs\n",
    "    - Miss\n",
    "    - Master\n",
    "    \"\"\"\n",
    "    possible_titles: set[str] = set(re.findall(pattern=title_pattern, string=text))\n",
    "    title: list[str] = sorted(possible_titles, key=len)\n",
    "    if title:\n",
    "        return title.pop(0)\n",
    "\n",
    "# Assert function extracts expected title.\n",
    "assert get_title(\"Turpin, Mr. William John Robert\") == \"Mr\"\n",
    "\n",
    "# Assert function returns nothing if no title present.\n",
    "assert get_title(\"Rothes, the Countess. of (Lucy Noel Martha Dyer-Edwards)\") is None\n",
    "\n",
    "# Assert function returns title with least number of characters.\n",
    "assert get_title(\"Mr. and Mrs. Smith\") == \"Mr\""
   ]
  },
  {
   "cell_type": "markdown",
   "id": "d26202a9",
   "metadata": {},
   "source": [
    "The `get_title` function works well,\n",
    "but vectorizing it will allow us to provide an array of names as input instead of a single text."
   ]
  },
  {
   "cell_type": "code",
   "execution_count": 33,
   "id": "8021559d",
   "metadata": {},
   "outputs": [
    {
     "data": {
      "text/plain": [
       "(array(['Master', 'Miss', 'Mr', 'Mrs', 'None'], dtype='<U6'),\n",
       " array([ 33, 133, 384,  98,  20], dtype=int64))"
      ]
     },
     "execution_count": 33,
     "metadata": {},
     "output_type": "execute_result"
    }
   ],
   "source": [
    "# Vectorize get_title allowing input to be array-like.\n",
    "# Note that output dtypes will all be the same (None -> \"None\")\n",
    "get_title_vec = np.vectorize(get_title)\n",
    "\n",
    "np.unique(get_title_vec(X_train.Name), return_counts=True)"
   ]
  },
  {
   "cell_type": "markdown",
   "id": "294f29a0",
   "metadata": {},
   "source": [
    "We assign the extracted titles as a column in our data so we can use them to impute age."
   ]
  },
  {
   "cell_type": "code",
   "execution_count": 34,
   "id": "045910d0",
   "metadata": {},
   "outputs": [],
   "source": [
    "# Get titles from names.\n",
    "X_train_title = X_train.assign(Title=get_title_vec(X_train.Name))\n",
    "X_val_title = X_val.assign(Title=get_title_vec(X_val.Name))"
   ]
  },
  {
   "cell_type": "markdown",
   "id": "e3ebca0e",
   "metadata": {},
   "source": [
    "We can't use the titles directly as our imputer only accepts numeric values.\n",
    "We will one-hot-encode them, dropping the \"None\" title as it's handled when the other titles equal $0$.\n",
    "Taking advantage of the tools we've learned,\n",
    "we'll use a `ColumnTransformer` to keep age and title together, dropping everything else."
   ]
  },
  {
   "cell_type": "code",
   "execution_count": 35,
   "id": "d89073d0",
   "metadata": {},
   "outputs": [],
   "source": [
    "# One-hot-encode title and join with age.\n",
    "age_trf = ColumnTransformer(\n",
    "    transformers=[\n",
    "        (\"age\", \"passthrough\", [\"Age\"]),\n",
    "        (\"ohe\", OneHotEncoder(drop=[\"None\"], sparse_output=False), [\"Title\"]),\n",
    "    ],\n",
    "    remainder=\"drop\",\n",
    ")"
   ]
  },
  {
   "cell_type": "markdown",
   "id": "3a6abb32",
   "metadata": {},
   "source": [
    "Next we define a `knn_impute_pipe` to process title and age, then feed the results into the\n",
    "[`KNNImputer`](https://scikit-learn.org/stable/modules/generated/sklearn.impute.KNNImputer.html)."
   ]
  },
  {
   "cell_type": "code",
   "execution_count": 36,
   "id": "b5385271",
   "metadata": {},
   "outputs": [],
   "source": [
    "# Import KNNImputer.\n",
    "from sklearn.impute import KNNImputer\n",
    "\n",
    "# Impute missing values (age) using title and age.\n",
    "knn_impute_pipe = Pipeline(\n",
    "    steps=[\n",
    "        (\"age_trf\", age_trf),\n",
    "        (\"knn_impute\", KNNImputer()),\n",
    "    ],\n",
    ")"
   ]
  },
  {
   "cell_type": "markdown",
   "id": "f067eb7d",
   "metadata": {},
   "source": [
    "To continue preprocessing fare the same way, we'll need to separate it from age with a `ColumnTransformer`."
   ]
  },
  {
   "cell_type": "code",
   "execution_count": 37,
   "id": "9ddb5ec8",
   "metadata": {},
   "outputs": [],
   "source": [
    "# Separate fare from age in the preprocessing steps.\n",
    "col_trf = ColumnTransformer(\n",
    "    transformers=[\n",
    "        (\"fare\", cont_pipe, [\"Fare\"]),\n",
    "        (\"age\", knn_impute_pipe, [\"Age\", \"Title\"]),\n",
    "        (\"cat_ord\", cat_ord, cat_ord_cols),\n",
    "    ],\n",
    "    n_jobs=-1,\n",
    ")"
   ]
  },
  {
   "cell_type": "markdown",
   "id": "8f6f812c",
   "metadata": {},
   "source": [
    "Lastly we define our `pipe` and see if anything changed."
   ]
  },
  {
   "cell_type": "code",
   "execution_count": 38,
   "id": "c27b8898",
   "metadata": {},
   "outputs": [
    {
     "data": {
      "text/plain": [
       "0.8071748878923767"
      ]
     },
     "execution_count": 38,
     "metadata": {},
     "output_type": "execute_result"
    }
   ],
   "source": [
    "pipe = Pipeline(\n",
    "    steps=[\n",
    "        (\"col_trf\", col_trf),\n",
    "        (\"clf\", LogisticRegression(random_state=0)),\n",
    "    ],\n",
    ")\n",
    "pipe.fit(X_train_title, y_train)\n",
    "pipe.score(X_val_title, y_val)"
   ]
  },
  {
   "cell_type": "markdown",
   "id": "f561ebba",
   "metadata": {},
   "source": [
    "A tiny improvement, but I'll take it."
   ]
  },
  {
   "cell_type": "markdown",
   "id": "18c25e3d",
   "metadata": {},
   "source": [
    "# [`FunctionTransformer`](https://scikit-learn.org/stable/modules/generated/sklearn.preprocessing.FunctionTransformer.html)"
   ]
  },
  {
   "cell_type": "markdown",
   "id": "c76759cf",
   "metadata": {},
   "source": [
    "All the above works, but it required us to create a new data set to hold the title column.\n",
    "We could have appended the field to our original,\n",
    "but I like to leave the original in its raw state so I can track changes through the pipeline.\n",
    "This leaves us with trying to figure out how to put the `get_title_vec` function into our `pipe`.\n",
    "Introducing the `FunctionTransformer`."
   ]
  },
  {
   "cell_type": "code",
   "execution_count": 39,
   "id": "04cfdff5",
   "metadata": {},
   "outputs": [],
   "source": [
    "# Import FunctionTransformer.\n",
    "from sklearn.preprocessing import FunctionTransformer"
   ]
  },
  {
   "cell_type": "markdown",
   "id": "fa248a23",
   "metadata": {},
   "source": [
    "Converting a function is simple; set the `func` argument to the function you want to convert and you're done.\n",
    "The caveat is that your function should be vectorized, i.e. able to handle arrays as input, and return an array with the same shape as the input."
   ]
  },
  {
   "cell_type": "code",
   "execution_count": 40,
   "id": "a6b490c1",
   "metadata": {},
   "outputs": [],
   "source": [
    "# Convert get_title_vec into an sklearn transformer\n",
    "title_func = FunctionTransformer(func=get_title_vec)"
   ]
  },
  {
   "cell_type": "markdown",
   "id": "88b41b97",
   "metadata": {},
   "source": [
    "We can now define a `Pipeline` to extract titles."
   ]
  },
  {
   "cell_type": "code",
   "execution_count": 41,
   "id": "ebac9180",
   "metadata": {},
   "outputs": [],
   "source": [
    "# Pipeline to get titles, then one-hot-encode.\n",
    "title_pipe = Pipeline(\n",
    "    steps=[\n",
    "        (\"title_func\", title_func),\n",
    "        (\"ohe\", OneHotEncoder(drop=[\"None\"], sparse_output=False)),\n",
    "    ],\n",
    ")"
   ]
  },
  {
   "cell_type": "markdown",
   "id": "425b8b47",
   "metadata": {},
   "source": [
    "Pass `title_pipe` into a `ColumnTransformer` to keep age and name together."
   ]
  },
  {
   "cell_type": "code",
   "execution_count": 42,
   "id": "7de2aa85",
   "metadata": {},
   "outputs": [],
   "source": [
    "# Pipeline to get titles and passthrough age.\n",
    "age_title_trf = ColumnTransformer(\n",
    "    transformers=[\n",
    "        (\"title_pipe\", title_pipe, [\"Name\"]),\n",
    "        (\"age\", \"passthrough\", [\"Age\"])\n",
    "    ],\n",
    "    remainder=\"drop\",\n",
    ")"
   ]
  },
  {
   "cell_type": "markdown",
   "id": "4d61808e",
   "metadata": {},
   "source": [
    "Create a `Pipeline` to impute age using the output of our `age_title_trf`."
   ]
  },
  {
   "cell_type": "code",
   "execution_count": 43,
   "id": "b1200d3c",
   "metadata": {},
   "outputs": [],
   "source": [
    "# Pipeline to impute age given ages of neighbors with given titles.\n",
    "age_pipe = Pipeline(\n",
    "    steps=[\n",
    "        (\"age_title_trf\", age_title_trf),\n",
    "        (\"impute_knn\", KNNImputer()),\n",
    "    ],\n",
    ")"
   ]
  },
  {
   "cell_type": "markdown",
   "id": "e44ad22a",
   "metadata": {},
   "source": [
    "Combine all our preprocessing transformers into a single `ColumnTransformer`."
   ]
  },
  {
   "cell_type": "code",
   "execution_count": 44,
   "id": "cefd234e",
   "metadata": {},
   "outputs": [],
   "source": [
    "# Separate fare from age in the preprocessing steps.\n",
    "col_trf = ColumnTransformer(\n",
    "    transformers=[\n",
    "        (\"fare\", cont_pipe, [\"Fare\"]),\n",
    "        (\"age\", age_pipe, [\"Age\", \"Name\"]),\n",
    "        (\"cat_ord\", cat_ord, cat_ord_cols),\n",
    "    ],\n",
    "    remainder=\"drop\",\n",
    ")"
   ]
  },
  {
   "cell_type": "markdown",
   "id": "d16cfffd",
   "metadata": {},
   "source": [
    "And set `col_trf` as the first step in our final `pipe`."
   ]
  },
  {
   "cell_type": "code",
   "execution_count": 45,
   "id": "6bb74186",
   "metadata": {},
   "outputs": [
    {
     "data": {
      "text/plain": [
       "0.8071748878923767"
      ]
     },
     "execution_count": 45,
     "metadata": {},
     "output_type": "execute_result"
    }
   ],
   "source": [
    "pipe = Pipeline(\n",
    "    steps=[\n",
    "        (\"col_trf\", col_trf),\n",
    "        (\"clf\", LogisticRegression(random_state=0)),\n",
    "    ],\n",
    ")\n",
    "pipe.fit(X_train, y_train)\n",
    "pipe.score(X_val, y_val)"
   ]
  },
  {
   "cell_type": "code",
   "execution_count": 46,
   "id": "9a66b9bd",
   "metadata": {
    "scrolled": true
   },
   "outputs": [
    {
     "data": {
      "text/html": [
       "<style>#sk-container-id-4 {color: black;}#sk-container-id-4 pre{padding: 0;}#sk-container-id-4 div.sk-toggleable {background-color: white;}#sk-container-id-4 label.sk-toggleable__label {cursor: pointer;display: block;width: 100%;margin-bottom: 0;padding: 0.3em;box-sizing: border-box;text-align: center;}#sk-container-id-4 label.sk-toggleable__label-arrow:before {content: \"▸\";float: left;margin-right: 0.25em;color: #696969;}#sk-container-id-4 label.sk-toggleable__label-arrow:hover:before {color: black;}#sk-container-id-4 div.sk-estimator:hover label.sk-toggleable__label-arrow:before {color: black;}#sk-container-id-4 div.sk-toggleable__content {max-height: 0;max-width: 0;overflow: hidden;text-align: left;background-color: #f0f8ff;}#sk-container-id-4 div.sk-toggleable__content pre {margin: 0.2em;color: black;border-radius: 0.25em;background-color: #f0f8ff;}#sk-container-id-4 input.sk-toggleable__control:checked~div.sk-toggleable__content {max-height: 200px;max-width: 100%;overflow: auto;}#sk-container-id-4 input.sk-toggleable__control:checked~label.sk-toggleable__label-arrow:before {content: \"▾\";}#sk-container-id-4 div.sk-estimator input.sk-toggleable__control:checked~label.sk-toggleable__label {background-color: #d4ebff;}#sk-container-id-4 div.sk-label input.sk-toggleable__control:checked~label.sk-toggleable__label {background-color: #d4ebff;}#sk-container-id-4 input.sk-hidden--visually {border: 0;clip: rect(1px 1px 1px 1px);clip: rect(1px, 1px, 1px, 1px);height: 1px;margin: -1px;overflow: hidden;padding: 0;position: absolute;width: 1px;}#sk-container-id-4 div.sk-estimator {font-family: monospace;background-color: #f0f8ff;border: 1px dotted black;border-radius: 0.25em;box-sizing: border-box;margin-bottom: 0.5em;}#sk-container-id-4 div.sk-estimator:hover {background-color: #d4ebff;}#sk-container-id-4 div.sk-parallel-item::after {content: \"\";width: 100%;border-bottom: 1px solid gray;flex-grow: 1;}#sk-container-id-4 div.sk-label:hover label.sk-toggleable__label {background-color: #d4ebff;}#sk-container-id-4 div.sk-serial::before {content: \"\";position: absolute;border-left: 1px solid gray;box-sizing: border-box;top: 0;bottom: 0;left: 50%;z-index: 0;}#sk-container-id-4 div.sk-serial {display: flex;flex-direction: column;align-items: center;background-color: white;padding-right: 0.2em;padding-left: 0.2em;position: relative;}#sk-container-id-4 div.sk-item {position: relative;z-index: 1;}#sk-container-id-4 div.sk-parallel {display: flex;align-items: stretch;justify-content: center;background-color: white;position: relative;}#sk-container-id-4 div.sk-item::before, #sk-container-id-4 div.sk-parallel-item::before {content: \"\";position: absolute;border-left: 1px solid gray;box-sizing: border-box;top: 0;bottom: 0;left: 50%;z-index: -1;}#sk-container-id-4 div.sk-parallel-item {display: flex;flex-direction: column;z-index: 1;position: relative;background-color: white;}#sk-container-id-4 div.sk-parallel-item:first-child::after {align-self: flex-end;width: 50%;}#sk-container-id-4 div.sk-parallel-item:last-child::after {align-self: flex-start;width: 50%;}#sk-container-id-4 div.sk-parallel-item:only-child::after {width: 0;}#sk-container-id-4 div.sk-dashed-wrapped {border: 1px dashed gray;margin: 0 0.4em 0.5em 0.4em;box-sizing: border-box;padding-bottom: 0.4em;background-color: white;}#sk-container-id-4 div.sk-label label {font-family: monospace;font-weight: bold;display: inline-block;line-height: 1.2em;}#sk-container-id-4 div.sk-label-container {text-align: center;}#sk-container-id-4 div.sk-container {/* jupyter's `normalize.less` sets `[hidden] { display: none; }` but bootstrap.min.css set `[hidden] { display: none !important; }` so we also need the `!important` here to be able to override the default hidden behavior on the sphinx rendered scikit-learn.org. See: https://github.com/scikit-learn/scikit-learn/issues/21755 */display: inline-block !important;position: relative;}#sk-container-id-4 div.sk-text-repr-fallback {display: none;}</style><div id=\"sk-container-id-4\" class=\"sk-top-container\"><div class=\"sk-text-repr-fallback\"><pre>Pipeline(steps=[(&#x27;col_trf&#x27;,\n",
       "                 ColumnTransformer(transformers=[(&#x27;fare&#x27;,\n",
       "                                                  Pipeline(steps=[(&#x27;scale&#x27;,\n",
       "                                                                   MinMaxScaler()),\n",
       "                                                                  (&#x27;impute&#x27;,\n",
       "                                                                   SimpleImputer())]),\n",
       "                                                  [&#x27;Fare&#x27;]),\n",
       "                                                 (&#x27;age&#x27;,\n",
       "                                                  Pipeline(steps=[(&#x27;age_title_trf&#x27;,\n",
       "                                                                   ColumnTransformer(transformers=[(&#x27;title_pipe&#x27;,\n",
       "                                                                                                    Pipeline(steps=[(&#x27;title_func&#x27;,\n",
       "                                                                                                                     FunctionTransformer(func=&lt;numpy.vectorize object at 0x000001EBEC16D9D0&gt;)),\n",
       "                                                                                                                    (&#x27;ohe&#x27;,\n",
       "                                                                                                                     OneHotEnc...\n",
       "                                                                                                                                   sparse_output=False))]),\n",
       "                                                                                                    [&#x27;Name&#x27;]),\n",
       "                                                                                                   (&#x27;age&#x27;,\n",
       "                                                                                                    &#x27;passthrough&#x27;,\n",
       "                                                                                                    [&#x27;Age&#x27;])])),\n",
       "                                                                  (&#x27;impute_knn&#x27;,\n",
       "                                                                   KNNImputer())]),\n",
       "                                                  [&#x27;Age&#x27;, &#x27;Name&#x27;]),\n",
       "                                                 (&#x27;cat_ord&#x27;,\n",
       "                                                  FeatureUnion(transformer_list=[(&#x27;ohe&#x27;,\n",
       "                                                                                  OneHotEncoder(drop=&#x27;first&#x27;,\n",
       "                                                                                                max_categories=5,\n",
       "                                                                                                sparse_output=False)),\n",
       "                                                                                 (&#x27;tgt&#x27;,\n",
       "                                                                                  TargetEncoder(random_state=0))]),\n",
       "                                                  [&#x27;Sex&#x27;, &#x27;Pclass&#x27;, &#x27;Embarked&#x27;,\n",
       "                                                   &#x27;SibSp&#x27;, &#x27;Parch&#x27;])])),\n",
       "                (&#x27;clf&#x27;, LogisticRegression(random_state=0))])</pre><b>In a Jupyter environment, please rerun this cell to show the HTML representation or trust the notebook. <br />On GitHub, the HTML representation is unable to render, please try loading this page with nbviewer.org.</b></div><div class=\"sk-container\" hidden><div class=\"sk-item sk-dashed-wrapped\"><div class=\"sk-label-container\"><div class=\"sk-label sk-toggleable\"><input class=\"sk-toggleable__control sk-hidden--visually\" id=\"sk-estimator-id-19\" type=\"checkbox\" ><label for=\"sk-estimator-id-19\" class=\"sk-toggleable__label sk-toggleable__label-arrow\">Pipeline</label><div class=\"sk-toggleable__content\"><pre>Pipeline(steps=[(&#x27;col_trf&#x27;,\n",
       "                 ColumnTransformer(transformers=[(&#x27;fare&#x27;,\n",
       "                                                  Pipeline(steps=[(&#x27;scale&#x27;,\n",
       "                                                                   MinMaxScaler()),\n",
       "                                                                  (&#x27;impute&#x27;,\n",
       "                                                                   SimpleImputer())]),\n",
       "                                                  [&#x27;Fare&#x27;]),\n",
       "                                                 (&#x27;age&#x27;,\n",
       "                                                  Pipeline(steps=[(&#x27;age_title_trf&#x27;,\n",
       "                                                                   ColumnTransformer(transformers=[(&#x27;title_pipe&#x27;,\n",
       "                                                                                                    Pipeline(steps=[(&#x27;title_func&#x27;,\n",
       "                                                                                                                     FunctionTransformer(func=&lt;numpy.vectorize object at 0x000001EBEC16D9D0&gt;)),\n",
       "                                                                                                                    (&#x27;ohe&#x27;,\n",
       "                                                                                                                     OneHotEnc...\n",
       "                                                                                                                                   sparse_output=False))]),\n",
       "                                                                                                    [&#x27;Name&#x27;]),\n",
       "                                                                                                   (&#x27;age&#x27;,\n",
       "                                                                                                    &#x27;passthrough&#x27;,\n",
       "                                                                                                    [&#x27;Age&#x27;])])),\n",
       "                                                                  (&#x27;impute_knn&#x27;,\n",
       "                                                                   KNNImputer())]),\n",
       "                                                  [&#x27;Age&#x27;, &#x27;Name&#x27;]),\n",
       "                                                 (&#x27;cat_ord&#x27;,\n",
       "                                                  FeatureUnion(transformer_list=[(&#x27;ohe&#x27;,\n",
       "                                                                                  OneHotEncoder(drop=&#x27;first&#x27;,\n",
       "                                                                                                max_categories=5,\n",
       "                                                                                                sparse_output=False)),\n",
       "                                                                                 (&#x27;tgt&#x27;,\n",
       "                                                                                  TargetEncoder(random_state=0))]),\n",
       "                                                  [&#x27;Sex&#x27;, &#x27;Pclass&#x27;, &#x27;Embarked&#x27;,\n",
       "                                                   &#x27;SibSp&#x27;, &#x27;Parch&#x27;])])),\n",
       "                (&#x27;clf&#x27;, LogisticRegression(random_state=0))])</pre></div></div></div><div class=\"sk-serial\"><div class=\"sk-item sk-dashed-wrapped\"><div class=\"sk-label-container\"><div class=\"sk-label sk-toggleable\"><input class=\"sk-toggleable__control sk-hidden--visually\" id=\"sk-estimator-id-20\" type=\"checkbox\" ><label for=\"sk-estimator-id-20\" class=\"sk-toggleable__label sk-toggleable__label-arrow\">col_trf: ColumnTransformer</label><div class=\"sk-toggleable__content\"><pre>ColumnTransformer(transformers=[(&#x27;fare&#x27;,\n",
       "                                 Pipeline(steps=[(&#x27;scale&#x27;, MinMaxScaler()),\n",
       "                                                 (&#x27;impute&#x27;, SimpleImputer())]),\n",
       "                                 [&#x27;Fare&#x27;]),\n",
       "                                (&#x27;age&#x27;,\n",
       "                                 Pipeline(steps=[(&#x27;age_title_trf&#x27;,\n",
       "                                                  ColumnTransformer(transformers=[(&#x27;title_pipe&#x27;,\n",
       "                                                                                   Pipeline(steps=[(&#x27;title_func&#x27;,\n",
       "                                                                                                    FunctionTransformer(func=&lt;numpy.vectorize object at 0x000001EBEC16D9D0&gt;)),\n",
       "                                                                                                   (&#x27;ohe&#x27;,\n",
       "                                                                                                    OneHotEncoder(drop=[&#x27;None&#x27;],\n",
       "                                                                                                                  sparse_output=False))]),\n",
       "                                                                                   [&#x27;Name&#x27;]),\n",
       "                                                                                  (&#x27;age&#x27;,\n",
       "                                                                                   &#x27;passthrough&#x27;,\n",
       "                                                                                   [&#x27;Age&#x27;])])),\n",
       "                                                 (&#x27;impute_knn&#x27;, KNNImputer())]),\n",
       "                                 [&#x27;Age&#x27;, &#x27;Name&#x27;]),\n",
       "                                (&#x27;cat_ord&#x27;,\n",
       "                                 FeatureUnion(transformer_list=[(&#x27;ohe&#x27;,\n",
       "                                                                 OneHotEncoder(drop=&#x27;first&#x27;,\n",
       "                                                                               max_categories=5,\n",
       "                                                                               sparse_output=False)),\n",
       "                                                                (&#x27;tgt&#x27;,\n",
       "                                                                 TargetEncoder(random_state=0))]),\n",
       "                                 [&#x27;Sex&#x27;, &#x27;Pclass&#x27;, &#x27;Embarked&#x27;, &#x27;SibSp&#x27;,\n",
       "                                  &#x27;Parch&#x27;])])</pre></div></div></div><div class=\"sk-parallel\"><div class=\"sk-parallel-item\"><div class=\"sk-item\"><div class=\"sk-label-container\"><div class=\"sk-label sk-toggleable\"><input class=\"sk-toggleable__control sk-hidden--visually\" id=\"sk-estimator-id-21\" type=\"checkbox\" ><label for=\"sk-estimator-id-21\" class=\"sk-toggleable__label sk-toggleable__label-arrow\">fare</label><div class=\"sk-toggleable__content\"><pre>[&#x27;Fare&#x27;]</pre></div></div></div><div class=\"sk-serial\"><div class=\"sk-item\"><div class=\"sk-serial\"><div class=\"sk-item\"><div class=\"sk-estimator sk-toggleable\"><input class=\"sk-toggleable__control sk-hidden--visually\" id=\"sk-estimator-id-22\" type=\"checkbox\" ><label for=\"sk-estimator-id-22\" class=\"sk-toggleable__label sk-toggleable__label-arrow\">MinMaxScaler</label><div class=\"sk-toggleable__content\"><pre>MinMaxScaler()</pre></div></div></div><div class=\"sk-item\"><div class=\"sk-estimator sk-toggleable\"><input class=\"sk-toggleable__control sk-hidden--visually\" id=\"sk-estimator-id-23\" type=\"checkbox\" ><label for=\"sk-estimator-id-23\" class=\"sk-toggleable__label sk-toggleable__label-arrow\">SimpleImputer</label><div class=\"sk-toggleable__content\"><pre>SimpleImputer()</pre></div></div></div></div></div></div></div></div><div class=\"sk-parallel-item\"><div class=\"sk-item\"><div class=\"sk-label-container\"><div class=\"sk-label sk-toggleable\"><input class=\"sk-toggleable__control sk-hidden--visually\" id=\"sk-estimator-id-24\" type=\"checkbox\" ><label for=\"sk-estimator-id-24\" class=\"sk-toggleable__label sk-toggleable__label-arrow\">age</label><div class=\"sk-toggleable__content\"><pre>[&#x27;Age&#x27;, &#x27;Name&#x27;]</pre></div></div></div><div class=\"sk-serial\"><div class=\"sk-item\"><div class=\"sk-serial\"><div class=\"sk-item sk-dashed-wrapped\"><div class=\"sk-label-container\"><div class=\"sk-label sk-toggleable\"><input class=\"sk-toggleable__control sk-hidden--visually\" id=\"sk-estimator-id-25\" type=\"checkbox\" ><label for=\"sk-estimator-id-25\" class=\"sk-toggleable__label sk-toggleable__label-arrow\">age_title_trf: ColumnTransformer</label><div class=\"sk-toggleable__content\"><pre>ColumnTransformer(transformers=[(&#x27;title_pipe&#x27;,\n",
       "                                 Pipeline(steps=[(&#x27;title_func&#x27;,\n",
       "                                                  FunctionTransformer(func=&lt;numpy.vectorize object at 0x000001EBEC16D9D0&gt;)),\n",
       "                                                 (&#x27;ohe&#x27;,\n",
       "                                                  OneHotEncoder(drop=[&#x27;None&#x27;],\n",
       "                                                                sparse_output=False))]),\n",
       "                                 [&#x27;Name&#x27;]),\n",
       "                                (&#x27;age&#x27;, &#x27;passthrough&#x27;, [&#x27;Age&#x27;])])</pre></div></div></div><div class=\"sk-parallel\"><div class=\"sk-parallel-item\"><div class=\"sk-item\"><div class=\"sk-label-container\"><div class=\"sk-label sk-toggleable\"><input class=\"sk-toggleable__control sk-hidden--visually\" id=\"sk-estimator-id-26\" type=\"checkbox\" ><label for=\"sk-estimator-id-26\" class=\"sk-toggleable__label sk-toggleable__label-arrow\">title_pipe</label><div class=\"sk-toggleable__content\"><pre>[&#x27;Name&#x27;]</pre></div></div></div><div class=\"sk-serial\"><div class=\"sk-item\"><div class=\"sk-serial\"><div class=\"sk-item\"><div class=\"sk-estimator sk-toggleable\"><input class=\"sk-toggleable__control sk-hidden--visually\" id=\"sk-estimator-id-27\" type=\"checkbox\" ><label for=\"sk-estimator-id-27\" class=\"sk-toggleable__label sk-toggleable__label-arrow\">FunctionTransformer</label><div class=\"sk-toggleable__content\"><pre>FunctionTransformer(func=&lt;numpy.vectorize object at 0x000001EBEC16D9D0&gt;)</pre></div></div></div><div class=\"sk-item\"><div class=\"sk-estimator sk-toggleable\"><input class=\"sk-toggleable__control sk-hidden--visually\" id=\"sk-estimator-id-28\" type=\"checkbox\" ><label for=\"sk-estimator-id-28\" class=\"sk-toggleable__label sk-toggleable__label-arrow\">OneHotEncoder</label><div class=\"sk-toggleable__content\"><pre>OneHotEncoder(drop=[&#x27;None&#x27;], sparse_output=False)</pre></div></div></div></div></div></div></div></div><div class=\"sk-parallel-item\"><div class=\"sk-item\"><div class=\"sk-label-container\"><div class=\"sk-label sk-toggleable\"><input class=\"sk-toggleable__control sk-hidden--visually\" id=\"sk-estimator-id-29\" type=\"checkbox\" ><label for=\"sk-estimator-id-29\" class=\"sk-toggleable__label sk-toggleable__label-arrow\">age</label><div class=\"sk-toggleable__content\"><pre>[&#x27;Age&#x27;]</pre></div></div></div><div class=\"sk-serial\"><div class=\"sk-item\"><div class=\"sk-estimator sk-toggleable\"><input class=\"sk-toggleable__control sk-hidden--visually\" id=\"sk-estimator-id-30\" type=\"checkbox\" ><label for=\"sk-estimator-id-30\" class=\"sk-toggleable__label sk-toggleable__label-arrow\">passthrough</label><div class=\"sk-toggleable__content\"><pre>passthrough</pre></div></div></div></div></div></div></div></div><div class=\"sk-item\"><div class=\"sk-estimator sk-toggleable\"><input class=\"sk-toggleable__control sk-hidden--visually\" id=\"sk-estimator-id-31\" type=\"checkbox\" ><label for=\"sk-estimator-id-31\" class=\"sk-toggleable__label sk-toggleable__label-arrow\">KNNImputer</label><div class=\"sk-toggleable__content\"><pre>KNNImputer()</pre></div></div></div></div></div></div></div></div><div class=\"sk-parallel-item\"><div class=\"sk-item\"><div class=\"sk-label-container\"><div class=\"sk-label sk-toggleable\"><input class=\"sk-toggleable__control sk-hidden--visually\" id=\"sk-estimator-id-32\" type=\"checkbox\" ><label for=\"sk-estimator-id-32\" class=\"sk-toggleable__label sk-toggleable__label-arrow\">cat_ord</label><div class=\"sk-toggleable__content\"><pre>[&#x27;Sex&#x27;, &#x27;Pclass&#x27;, &#x27;Embarked&#x27;, &#x27;SibSp&#x27;, &#x27;Parch&#x27;]</pre></div></div></div><div class=\"sk-serial\"><div class=\"sk-item sk-dashed-wrapped\"><div class=\"sk-parallel\"><div class=\"sk-parallel-item\"><div class=\"sk-item\"><div class=\"sk-label-container\"><div class=\"sk-label sk-toggleable\"><label>ohe</label></div></div><div class=\"sk-serial\"><div class=\"sk-item\"><div class=\"sk-estimator sk-toggleable\"><input class=\"sk-toggleable__control sk-hidden--visually\" id=\"sk-estimator-id-33\" type=\"checkbox\" ><label for=\"sk-estimator-id-33\" class=\"sk-toggleable__label sk-toggleable__label-arrow\">OneHotEncoder</label><div class=\"sk-toggleable__content\"><pre>OneHotEncoder(drop=&#x27;first&#x27;, max_categories=5, sparse_output=False)</pre></div></div></div></div></div></div><div class=\"sk-parallel-item\"><div class=\"sk-item\"><div class=\"sk-label-container\"><div class=\"sk-label sk-toggleable\"><label>tgt</label></div></div><div class=\"sk-serial\"><div class=\"sk-item\"><div class=\"sk-estimator sk-toggleable\"><input class=\"sk-toggleable__control sk-hidden--visually\" id=\"sk-estimator-id-34\" type=\"checkbox\" ><label for=\"sk-estimator-id-34\" class=\"sk-toggleable__label sk-toggleable__label-arrow\">TargetEncoder</label><div class=\"sk-toggleable__content\"><pre>TargetEncoder(random_state=0)</pre></div></div></div></div></div></div></div></div></div></div></div></div></div><div class=\"sk-item\"><div class=\"sk-estimator sk-toggleable\"><input class=\"sk-toggleable__control sk-hidden--visually\" id=\"sk-estimator-id-35\" type=\"checkbox\" ><label for=\"sk-estimator-id-35\" class=\"sk-toggleable__label sk-toggleable__label-arrow\">LogisticRegression</label><div class=\"sk-toggleable__content\"><pre>LogisticRegression(random_state=0)</pre></div></div></div></div></div></div></div>"
      ],
      "text/plain": [
       "Pipeline(steps=[('col_trf',\n",
       "                 ColumnTransformer(transformers=[('fare',\n",
       "                                                  Pipeline(steps=[('scale',\n",
       "                                                                   MinMaxScaler()),\n",
       "                                                                  ('impute',\n",
       "                                                                   SimpleImputer())]),\n",
       "                                                  ['Fare']),\n",
       "                                                 ('age',\n",
       "                                                  Pipeline(steps=[('age_title_trf',\n",
       "                                                                   ColumnTransformer(transformers=[('title_pipe',\n",
       "                                                                                                    Pipeline(steps=[('title_func',\n",
       "                                                                                                                     FunctionTransformer(func=<numpy.vectorize object at 0x000001EBEC16D9D0>)),\n",
       "                                                                                                                    ('ohe',\n",
       "                                                                                                                     OneHotEnc...\n",
       "                                                                                                                                   sparse_output=False))]),\n",
       "                                                                                                    ['Name']),\n",
       "                                                                                                   ('age',\n",
       "                                                                                                    'passthrough',\n",
       "                                                                                                    ['Age'])])),\n",
       "                                                                  ('impute_knn',\n",
       "                                                                   KNNImputer())]),\n",
       "                                                  ['Age', 'Name']),\n",
       "                                                 ('cat_ord',\n",
       "                                                  FeatureUnion(transformer_list=[('ohe',\n",
       "                                                                                  OneHotEncoder(drop='first',\n",
       "                                                                                                max_categories=5,\n",
       "                                                                                                sparse_output=False)),\n",
       "                                                                                 ('tgt',\n",
       "                                                                                  TargetEncoder(random_state=0))]),\n",
       "                                                  ['Sex', 'Pclass', 'Embarked',\n",
       "                                                   'SibSp', 'Parch'])])),\n",
       "                ('clf', LogisticRegression(random_state=0))])"
      ]
     },
     "execution_count": 46,
     "metadata": {},
     "output_type": "execute_result"
    }
   ],
   "source": [
    "pipe"
   ]
  },
  {
   "cell_type": "markdown",
   "id": "4df041b0",
   "metadata": {},
   "source": [
    "# Conclusion"
   ]
  },
  {
   "cell_type": "markdown",
   "id": "a5d742bf",
   "metadata": {},
   "source": [
    "To wrap this up I'd like to draw some parallels to *The Zen of Python*."
   ]
  },
  {
   "cell_type": "code",
   "execution_count": 47,
   "id": "9aebc465",
   "metadata": {},
   "outputs": [
    {
     "name": "stdout",
     "output_type": "stream",
     "text": [
      "The Zen of Python, by Tim Peters\n",
      "\n",
      "Beautiful is better than ugly.\n",
      "Explicit is better than implicit.\n",
      "Simple is better than complex.\n",
      "Complex is better than complicated.\n",
      "Flat is better than nested.\n",
      "Sparse is better than dense.\n",
      "Readability counts.\n",
      "Special cases aren't special enough to break the rules.\n",
      "Although practicality beats purity.\n",
      "Errors should never pass silently.\n",
      "Unless explicitly silenced.\n",
      "In the face of ambiguity, refuse the temptation to guess.\n",
      "There should be one-- and preferably only one --obvious way to do it.\n",
      "Although that way may not be obvious at first unless you're Dutch.\n",
      "Now is better than never.\n",
      "Although never is often better than *right* now.\n",
      "If the implementation is hard to explain, it's a bad idea.\n",
      "If the implementation is easy to explain, it may be a good idea.\n",
      "Namespaces are one honking great idea -- let's do more of those!\n"
     ]
    }
   ],
   "source": [
    "import this"
   ]
  },
  {
   "cell_type": "markdown",
   "id": "704e0141",
   "metadata": {},
   "source": [
    "1. I find `scikit-learn` to be beautiful, but that's my subjective opinion. You may think it's the ugliest machine learning software to ever exist, and that's okay.\n",
    "2. As a beginner I didn't find the `scikit-learn` docs to be as explicit as I'd want—where are the type hints? I hope this post reduces some of the implicitness.\n",
    "3. I think `scikit-learn`'s `Pipeline` and friends are simple, but my path to understanding them was complex.\n",
    "4. Our final `pipe` is both nested and dense, but at least it's readable!\n",
    "5. Don't use all the mentioned features if it's not practical. Don't be a purist.\n",
    "6. Test your code before using it. It may seem silly, but if I hadn't tested my `get_title` function I wouldn't have found instances where the original function failed. Do it. It will save you time in the end.\n",
    "7. Think through (write down?) your process before translating to code. This will also save you time.\n",
    "8. Machine learning is an iterative process. What you build first will probably be your worst.\n",
    "9. Commit clean, tested code knowing that there will be a version two.\n",
    "10. Keep it simple, stupid.\n",
    "\n",
    "I hope this post has shed some light on the `Pipeline`, `FeatureUnion`, `ColumnTransformer`, and `FunctionTransformer`.\n",
    "If you have any questions, comments, or concerns please post a comment below.\n",
    "Thanks for reading!!!"
   ]
  }
 ],
 "metadata": {
  "kernelspec": {
   "display_name": "Python 3 (ipykernel)",
   "language": "python",
   "name": "python3"
  },
  "language_info": {
   "codemirror_mode": {
    "name": "ipython",
    "version": 3
   },
   "file_extension": ".py",
   "mimetype": "text/x-python",
   "name": "python",
   "nbconvert_exporter": "python",
   "pygments_lexer": "ipython3",
   "version": "3.11.7"
  }
 },
 "nbformat": 4,
 "nbformat_minor": 5
}
