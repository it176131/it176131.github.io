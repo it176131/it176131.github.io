{
 "cells": [
  {
   "cell_type": "markdown",
   "id": "120ee492",
   "metadata": {},
   "source": [
    "As I was working to keep my promise from my\n",
    "<a href=\"{{ site.baseurl }}{% link _posts/2024-03-09-stack-overflow-api.html %}\">previous post</a>,\n",
    "I came across a scenario that I thought was worth a blog post.\n",
    "I was using the\n",
    "[`mlxtend`](https://rasbt.github.io/mlxtend/)\n",
    "package to show how one might perform a basket analysis on question tags when I discovered a feature that I expected to exist, didn't.\n",
    "I'll elaborate."
   ]
  },
  {
   "cell_type": "markdown",
   "id": "5adb9543",
   "metadata": {},
   "source": [
    "# The Missing Feature"
   ]
  },
  {
   "cell_type": "markdown",
   "id": "6b390c11",
   "metadata": {},
   "source": [
    "I connected to the API as I had previously written about and pulled questions."
   ]
  },
  {
   "cell_type": "code",
   "execution_count": 1,
   "id": "c16eafa9",
   "metadata": {},
   "outputs": [
    {
     "data": {
      "text/plain": [
       "{'tags': ['tensorflow', 'deep-learning', 'neural-network'],\n",
       " 'owner': {'account_id': 23218154,\n",
       "  'reputation': 7,\n",
       "  'user_id': 17310800,\n",
       "  'user_type': 'registered',\n",
       "  'profile_image': 'https://www.gravatar.com/avatar/3529b0d82274d548d0f5dc5aa084f934?s=256&d=identicon&r=PG&f=y&so-version=2',\n",
       "  'display_name': 'Bhairav Sharma',\n",
       "  'link': 'https://stackoverflow.com/users/17310800/bhairav-sharma'},\n",
       " 'is_answered': False,\n",
       " 'view_count': 34,\n",
       " 'answer_count': 0,\n",
       " 'score': -1,\n",
       " 'last_activity_date': 1710116135,\n",
       " 'creation_date': 1710057887,\n",
       " 'last_edit_date': 1710116135,\n",
       " 'question_id': 78135146,\n",
       " 'content_license': 'CC BY-SA 4.0',\n",
       " 'link': 'https://stackoverflow.com/questions/78135146/type-error-in-user-code-while-making-a-neural-network-using-tensorflow',\n",
       " 'title': 'Type error in user code while making a neural network using tensorflow'}"
      ]
     },
     "execution_count": 1,
     "metadata": {},
     "output_type": "execute_result"
    }
   ],
   "source": [
    "from os import getenv\n",
    "\n",
    "from stackapi import StackAPI\n",
    "\n",
    "\n",
    "key = getenv(\"STACK_API_KEY\")\n",
    "SITE = StackAPI(\"stackoverflow\", key=key)\n",
    "questions = SITE.fetch(\"questions\")\n",
    "\n",
    "questions[\"items\"][0]"
   ]
  },
  {
   "cell_type": "markdown",
   "id": "e92e003d",
   "metadata": {},
   "source": [
    "In the question items there's a field called \"tags\", which I want to use for the analysis.\n",
    "The tags are presented as a list of strings.\n",
    "To keep them tied to their questions and make analysis a bit easier,\n",
    "I decided to convert the list of question items to a `pandas.DataFrame`."
   ]
  },
  {
   "cell_type": "code",
   "execution_count": 2,
   "id": "d85d91c3",
   "metadata": {},
   "outputs": [
    {
     "name": "stdout",
     "output_type": "stream",
     "text": [
      "question_id\n",
      "78135146          [tensorflow, deep-learning, neural-network]\n",
      "78132659    [java, android, firebase, firebase-realtime-da...\n",
      "78137900                 [ios, xcode, google-cloud-firestore]\n",
      "78133446                                                [sql]\n",
      "78137890                                       [excel-online]\n",
      "Name: tags, dtype: object\n"
     ]
    }
   ],
   "source": [
    "import pandas as pd\n",
    "\n",
    "# Configuration settings\n",
    "pd.options.display.expand_frame_repr = False\n",
    "pd.options.display.max_columns = 8\n",
    "\n",
    "\n",
    "df = pd.DataFrame(questions[\"items\"])\n",
    "# Question Ids are unique to the row.\n",
    "df = df.set_index(\"question_id\")\n",
    "# Results may vary as the most recent questions are returned each call.\n",
    "print(df.tags.head())"
   ]
  },
  {
   "cell_type": "markdown",
   "id": "0a1de1b6",
   "metadata": {},
   "source": [
    "Preprocessing of the tags would be handled by the `mlxtend` library.\n",
    "I chose to use the\n",
    "[`TransactionEncoder`](https://rasbt.github.io/mlxtend/api_subpackages/mlxtend.preprocessing/#transactionencoder), which is similar to a [`OneHotEncoder`](https://scikit-learn.org/stable/modules/generated/sklearn.preprocessing.OneHotEncoder.html),\n",
    "but for converting item lists into transaction data rather than an array into columns."
   ]
  },
  {
   "cell_type": "code",
   "execution_count": 3,
   "id": "fb45badf",
   "metadata": {},
   "outputs": [
    {
     "data": {
      "text/plain": [
       "array([[False, False, False, ..., False, False, False],\n",
       "       [False, False, False, ..., False, False, False],\n",
       "       [False, False, False, ..., False, False, False],\n",
       "       ...,\n",
       "       [False, False, False, ..., False, False, False],\n",
       "       [False, False, False, ..., False, False, False],\n",
       "       [False, False, False, ..., False, False, False]])"
      ]
     },
     "execution_count": 3,
     "metadata": {},
     "output_type": "execute_result"
    }
   ],
   "source": [
    "from mlxtend.preprocessing.transactionencoder import TransactionEncoder\n",
    "\n",
    "\n",
    "encoder = TransactionEncoder()\n",
    "tag_encodings = encoder.fit_transform(df.tags)\n",
    "tag_encodings"
   ]
  },
  {
   "cell_type": "markdown",
   "id": "af7098d4",
   "metadata": {},
   "source": [
    "The returned results are an array.\n",
    "No problem with that.\n",
    "But while browsing\n",
    "[the example in the User Guide](https://rasbt.github.io/mlxtend/user_guide/preprocessing/TransactionEncoder/),\n",
    "I noticed how they converted the array into a\n",
    "[`pandas.DataFrame`](https://pandas.pydata.org/docs/reference/api/pandas.DataFrame.html)."
   ]
  },
  {
   "cell_type": "code",
   "execution_count": 4,
   "id": "b0ffa8b4",
   "metadata": {},
   "outputs": [
    {
     "name": "stdout",
     "output_type": "stream",
     "text": [
      "              .net  .net-6.0  .net-8.0     3d  ...  zephyr-rtos  zeroconf    zip    zod\n",
      "question_id                                    ...                                     \n",
      "78135146     False     False     False  False  ...        False     False  False  False\n",
      "78132659     False     False     False  False  ...        False     False  False  False\n",
      "78137900     False     False     False  False  ...        False     False  False  False\n",
      "78133446     False     False     False  False  ...        False     False  False  False\n",
      "78137890     False     False     False  False  ...        False     False  False  False\n",
      "\n",
      "[5 rows x 830 columns]\n"
     ]
    }
   ],
   "source": [
    "tag_df = pd.DataFrame(\n",
    "    tag_encodings,\n",
    "    index=df.index,  # I added the index to align with the input data.\n",
    "    columns=encoder.columns_,\n",
    ")\n",
    "print(tag_df.head())"
   ]
  },
  {
   "cell_type": "markdown",
   "id": "f079e000",
   "metadata": {},
   "source": [
    "There's nothing wrong with how this was done, but I wondered why the\n",
    "[`set_output`](https://scikit-learn.org/stable/auto_examples/miscellaneous/plot_set_output.html)\n",
    "method wasn't taken advantage of.\n",
    "That's when I realized it's not exposed in `mlxtend`."
   ]
  },
  {
   "cell_type": "code",
   "execution_count": 5,
   "id": "d8997473",
   "metadata": {},
   "outputs": [
    {
     "name": "stdout",
     "output_type": "stream",
     "text": [
      "AttributeError(\"This 'TransactionEncoder' has no attribute 'set_output'\")\n"
     ]
    }
   ],
   "source": [
    "try:\n",
    "    encoder = TransactionEncoder().set_output(transform=\"pandas\")\n",
    "\n",
    "except Exception as e:\n",
    "    print(repr(e))"
   ]
  },
  {
   "cell_type": "markdown",
   "id": "2859c0fd",
   "metadata": {},
   "source": [
    "\"That's odd,\" I thought.\n",
    "I'm pretty sure [`scikit-learn`](https://scikit-learn.org/stable/index.html) is a requirement for `mlxtend`.\n",
    "Surely the supported version is greater than 1.2?\n",
    "\n",
    "After looking at the [requirements.txt](https://github.com/rasbt/mlxtend/blob/master/requirements.txt) file,\n",
    "I was relieved to see that the package did in fact use the newest version of `scikit-learn`.\n",
    "But why didn't `set_output` work?\n",
    "\n",
    "Digging through the `TransactionEncoder`'s source code, the reason wasn't obvious at first.\n",
    "Then I saw it—the\n",
    "[`columns_` attribute](https://github.com/rasbt/mlxtend/blob/b3b81f4dd603e0ad9c8f3133f1b2bf2f5177cc9d/mlxtend/preprocessing/transactionencoder.py#L21).\n",
    "As of `scikit-learn` version 1.0:\n",
    "> [All estimators store `feature_names_in_` when fitted on pandas DataFrames.](https://scikit-learn.org/1.0/whats_new/v1.0.html#:~:text=All%20estimators%20store%20feature_names_in_%20when%20fitted%20on%20pandas%20Dataframes.)\n",
    "\n",
    "Seeing as the `TransactionEncoder` was developed prior to this API change in `scikit-learn`,\n",
    "it was probably missed and therefore not integrated.\n",
    "I believe it *should* be integrated, so I'm logging an issue for a feature enhancement and covering the process in this post."
   ]
  },
  {
   "cell_type": "markdown",
   "id": "4bca3eee",
   "metadata": {},
   "source": [
    "# New Issue"
   ]
  },
  {
   "cell_type": "markdown",
   "id": "ac59ebc0",
   "metadata": {},
   "source": [
    "If you haven't logged an issue to an open source project before, here are some general guidelines I like to follow:\n",
    "1. Check if a related issue has already been logged. Nobody wants to deal with closing duplicate tickets. Or worse, not closing them and having to deal with duplicate work that's already been completed.\n",
    "2. Read the package's contribution guidelines and code of conduct. If there's an existing process in place, follow it.\n",
    "\n",
    "I usually perform a few searches over the open issues with various keywords to see if anything comes up.\n",
    "For this particular issue I tried\n",
    "[\"set_output\"](https://github.com/rasbt/mlxtend/issues?q=is%3Aissue+is%3Aopen+set_output) and\n",
    "[\"TransactionEncoder\"](https://github.com/rasbt/mlxtend/issues?q=is%3Aissue+is%3Aopen+TransactionEncoder).\n",
    "The first yielded no results, and the second had results unrelated to the format of the output.\n",
    "I figured I'm good to proceed.\n",
    "\n",
    "`mlxtend`'s [issue template](https://github.com/rasbt/mlxtend/issues/new/choose) has four major categories:\n",
    "- Bug report\n",
    "- Documentation improvement\n",
    "- Feature request\n",
    "- Other\n",
    "- Usage question\n",
    "\n",
    "Since the `set_output` attribute doesn't exist in `mlxtend` I think this issue should be a feature request.\n",
    "\n",
    "I start off with a title: ***\"Integrate scikit-learn's `set_output` method into `TransactionEncoder`.\"***\n",
    "I want my feature request to be specific and small enough that it can be easily merged,\n",
    "as well as not break any preexisting code (though I do forsee some\n",
    "[`DeprecationWarning`](https://docs.python.org/3/library/exceptions.html#DeprecationWarning)s).\n",
    "\n",
    "Next, I need to fill out the following four sections:\n",
    "- Describe the workflow you want to enable\n",
    "- Describe your proposed solution\n",
    "- Describe alternatives you've considered, if relevant\n",
    "- Additional context"
   ]
  }
 ],
 "metadata": {
  "kernelspec": {
   "display_name": "Python 3 (ipykernel)",
   "language": "python",
   "name": "python3"
  },
  "language_info": {
   "codemirror_mode": {
    "name": "ipython",
    "version": 3
   },
   "file_extension": ".py",
   "mimetype": "text/x-python",
   "name": "python",
   "nbconvert_exporter": "python",
   "pygments_lexer": "ipython3",
   "version": "3.11.7"
  }
 },
 "nbformat": 4,
 "nbformat_minor": 5
}
