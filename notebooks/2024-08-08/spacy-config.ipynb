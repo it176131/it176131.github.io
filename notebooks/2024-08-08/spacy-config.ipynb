{
 "cells": [
  {
   "cell_type": "raw",
   "id": "c707f6a7",
   "metadata": {},
   "source": [
    "# Intro"
   ]
  },
  {
   "cell_type": "markdown",
   "id": "5b843d3b",
   "metadata": {},
   "source": [
    "I've been working with `spacy` more and more over the years, and I thought it'd be a good idea to write about the configuration system. There are mentions of it throughout the [docs](https://spacy.io/usage/training#config) and in some of the `spacy` 3.0 [videos](https://youtu.be/BWhh3r6W-qE), but I have yet to find a super detailed breakdown of what's going on (except maybe this [blog](https://explosion.ai/blog/spacy-v3-project-config-systems#spacy-config-system)). Hopefully this post will shed some light."
   ]
  },
  {
   "cell_type": "raw",
   "id": "a25e690b",
   "metadata": {},
   "source": [
    "# brief spaCy demo"
   ]
  },
  {
   "cell_type": "raw",
   "id": "f4d2080e",
   "metadata": {},
   "source": [
    "# nlp.pipeline components"
   ]
  },
  {
   "cell_type": "raw",
   "id": "77a51823",
   "metadata": {},
   "source": [
    "# highlight the arguments of a couple components: tok2vec + one other"
   ]
  },
  {
   "cell_type": "raw",
   "id": "d8fbb568",
   "metadata": {},
   "source": [
    "# construct a pipeline"
   ]
  },
  {
   "cell_type": "raw",
   "id": "554b5796",
   "metadata": {},
   "source": [
    "# write the pipeline to disk"
   ]
  },
  {
   "cell_type": "raw",
   "id": "5a92bb74",
   "metadata": {},
   "source": [
    "# load the pipeline from disk"
   ]
  },
  {
   "cell_type": "raw",
   "id": "4b4c21b1",
   "metadata": {},
   "source": [
    "# view the pipeline's config"
   ]
  }
 ],
 "metadata": {
  "kernelspec": {
   "display_name": "Python 3 (ipykernel)",
   "language": "python",
   "name": "python3"
  },
  "language_info": {
   "codemirror_mode": {
    "name": "ipython",
    "version": 3
   },
   "file_extension": ".py",
   "mimetype": "text/x-python",
   "name": "python",
   "nbconvert_exporter": "python",
   "pygments_lexer": "ipython3",
   "version": "3.11.9"
  }
 },
 "nbformat": 4,
 "nbformat_minor": 5
}
