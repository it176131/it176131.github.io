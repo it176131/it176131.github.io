{
 "cells": [
  {
   "cell_type": "markdown",
   "id": "5b843d3b",
   "metadata": {},
   "source": [
    "I've been working with [`spacy`](https://spacy.io/) more and more over the years, and I thought it'd be a good idea to write about the configuration system. There are mentions of it throughout the [docs](https://spacy.io/usage/training#config) and in some of the `spacy` 3.0 [videos](https://youtu.be/BWhh3r6W-qE), but I have yet to find a super detailed breakdown of what's going on (except maybe this [blog](https://explosion.ai/blog/spacy-v3-project-config-systems#spacy-config-system)). Hopefully this post will shed some light."
   ]
  },
  {
   "cell_type": "markdown",
   "id": "e3ddc295",
   "metadata": {},
   "source": [
    "Let's start with a brief demo of `spacy`.\n",
    "\n",
    "> Install spacy and the `en_core_web_sm` model if you want to follow along:\n",
    "> ```shell\n",
    "$ pip install spacy\n",
    "$ python -m spacy download en_core_web_sm\n",
    "```"
   ]
  },
  {
   "cell_type": "code",
   "execution_count": 3,
   "id": "b576bab1",
   "metadata": {},
   "outputs": [
    {
     "name": "stdout",
     "output_type": "stream",
     "text": [
      "Hi, my name is Ian and this is my blog.\n"
     ]
    }
   ],
   "source": [
    "import spacy\n",
    "\n",
    "nlp = spacy.load(\"en_core_web_sm\")\n",
    "doc = nlp(\"Hi, my name is Ian and this is my blog.\")\n",
    "print(doc)"
   ]
  },
  {
   "cell_type": "markdown",
   "id": "ebfd0777",
   "metadata": {},
   "source": [
    "Nothing fancy on the surface, but this [`doc`](https://spacy.io/api/doc) object that we've created is the product of sending our string of characters through a [pipeline of models](https://spacy.io/usage/processing-pipelines), or as `spacy` likes to call them, [components](https://spacy.io/usage/processing-pipelines#pipelines). We can view the pipeline components via the [`nlp.pipeline` property](https://spacy.io/api/language#attributes)."
   ]
  },
  {
   "cell_type": "code",
   "execution_count": 4,
   "id": "f7304b25",
   "metadata": {},
   "outputs": [
    {
     "data": {
      "text/plain": [
       "[('tok2vec', <spacy.pipeline.tok2vec.Tok2Vec at 0x1cc3df79970>),\n",
       " ('tagger', <spacy.pipeline.tagger.Tagger at 0x1cc3df7aed0>),\n",
       " ('parser', <spacy.pipeline.dep_parser.DependencyParser at 0x1cc3d103bc0>),\n",
       " ('attribute_ruler',\n",
       "  <spacy.pipeline.attributeruler.AttributeRuler at 0x1cc3d417450>),\n",
       " ('lemmatizer', <spacy.lang.en.lemmatizer.EnglishLemmatizer at 0x1cc3df4bf50>),\n",
       " ('ner', <spacy.pipeline.ner.EntityRecognizer at 0x1cc3d103b50>)]"
      ]
     },
     "execution_count": 4,
     "metadata": {},
     "output_type": "execute_result"
    }
   ],
   "source": [
    "nlp.pipeline"
   ]
  },
  {
   "cell_type": "markdown",
   "id": "bcd19a2b",
   "metadata": {},
   "source": [
    "And we can get more component information with [nlp.analyze_pipes](https://spacy.io/api/language#analyze_pipes) such as what each assigns, their requirements, their scoring metrics, and whether they retokenize."
   ]
  },
  {
   "cell_type": "code",
   "execution_count": 8,
   "id": "a73cd6d6",
   "metadata": {},
   "outputs": [
    {
     "name": "stdout",
     "output_type": "stream",
     "text": [
      "\u001b[1m\n",
      "============================= Pipeline Overview =============================\u001b[0m\n",
      "\n",
      "#   Component         Assigns               Requires   Scores             Retokenizes\n",
      "-   ---------------   -------------------   --------   ----------------   -----------\n",
      "0   tok2vec           doc.tensor                                          False      \n",
      "                                                                                     \n",
      "1   tagger            token.tag                        tag_acc            False      \n",
      "                                                                                     \n",
      "2   parser            token.dep                        dep_uas            False      \n",
      "                      token.head                       dep_las                       \n",
      "                      token.is_sent_start              dep_las_per_type              \n",
      "                      doc.sents                        sents_p                       \n",
      "                                                       sents_r                       \n",
      "                                                       sents_f                       \n",
      "                                                                                     \n",
      "3   attribute_ruler                                                       False      \n",
      "                                                                                     \n",
      "4   lemmatizer        token.lemma                      lemma_acc          False      \n",
      "                                                                                     \n",
      "5   ner               doc.ents                         ents_f             False      \n",
      "                      token.ent_iob                    ents_p                        \n",
      "                      token.ent_type                   ents_r                        \n",
      "                                                       ents_per_type                 \n",
      "\n",
      "\u001b[38;5;2m✔ No problems found.\u001b[0m\n"
     ]
    }
   ],
   "source": [
    "nlp.analyze_pipes(pretty=True);  # note the semicolon (;) to reduce output after the table."
   ]
  },
  {
   "cell_type": "markdown",
   "id": "ee35e396",
   "metadata": {},
   "source": [
    "I use the [`ner` component](https://spacy.io/api/entityrecognizer) quite a bit—let's take a closer look at what it [assigned to the `doc`](https://spacy.io/api/entityrecognizer#assigned-attributes)."
   ]
  },
  {
   "cell_type": "code",
   "execution_count": 12,
   "id": "92ec8437",
   "metadata": {},
   "outputs": [
    {
     "data": {
      "text/plain": [
       "(Ian,)"
      ]
     },
     "execution_count": 12,
     "metadata": {},
     "output_type": "execute_result"
    }
   ],
   "source": [
    "doc.ents"
   ]
  },
  {
   "cell_type": "markdown",
   "id": "e839348f",
   "metadata": {},
   "source": [
    "It identified \"Ian\"—that's me!—as an entity. We can find out more by looking at the individual [`token`](https://spacy.io/api/token) values and what the `ner` component assigned to those."
   ]
  },
  {
   "cell_type": "code",
   "execution_count": 14,
   "id": "d20c1a4b",
   "metadata": {},
   "outputs": [
    {
     "data": {
      "text/plain": [
       "[(Hi, 2, 0),\n",
       " (,, 2, 0),\n",
       " (my, 2, 0),\n",
       " (name, 2, 0),\n",
       " (is, 2, 0),\n",
       " (Ian, 3, 380),\n",
       " (and, 2, 0),\n",
       " (this, 2, 0),\n",
       " (is, 2, 0),\n",
       " (my, 2, 0),\n",
       " (blog, 2, 0),\n",
       " (., 2, 0)]"
      ]
     },
     "execution_count": 14,
     "metadata": {},
     "output_type": "execute_result"
    }
   ],
   "source": [
    "# `Doc` objects are made of tokens; we can iterate over them and access their attributes.\n",
    "[(token, token.ent_iob, token.ent_type) for token in doc]"
   ]
  },
  {
   "cell_type": "markdown",
   "id": "f8c6f9b2",
   "metadata": {},
   "source": [
    "Per the [docs](https://spacy.io/api/token#attributes):\n",
    "| Name | Description |\n",
    "|:-|:-|\n",
    "|`ent_iob`|IOB code of named entity tag. `3` means the token begins an entity, `2` means it is outside an entity, `1` means it is inside an entity, and `0` means no entity tag is set.<br><br>Type: `int`|\n",
    "|`ent_type`|Named entity type.<br><br>Type: `int`|"
   ]
  },
  {
   "cell_type": "markdown",
   "id": "75638b4b",
   "metadata": {},
   "source": [
    "All of the tokens have an `ent_iob` of `2` except \"Ian\" which has a `3`. Kind of helpful, but what does an `ent_type` of `380` mean? If we add an underscore (`_`) to the end we can see the \"human\" readable meaning."
   ]
  },
  {
   "cell_type": "code",
   "execution_count": 22,
   "id": "b8328424",
   "metadata": {},
   "outputs": [
    {
     "data": {
      "text/plain": [
       "'PERSON'"
      ]
     },
     "execution_count": 22,
     "metadata": {},
     "output_type": "execute_result"
    }
   ],
   "source": [
    "# \"Ian\" is the 5th token (zero indexed).\n",
    "doc[5].ent_type_"
   ]
  },
  {
   "cell_type": "markdown",
   "id": "c8ffc796",
   "metadata": {},
   "source": [
    "That's right! I am a `PERSON`."
   ]
  },
  {
   "cell_type": "code",
   "execution_count": 23,
   "id": "e48ea2b5",
   "metadata": {},
   "outputs": [],
   "source": [
    "ner = nlp.get_pipe(\"ner\")"
   ]
  },
  {
   "cell_type": "code",
   "execution_count": 25,
   "id": "a96984f5",
   "metadata": {},
   "outputs": [],
   "source": [
    "tok2vec = nlp.get_pipe(\"tok2vec\")"
   ]
  },
  {
   "cell_type": "code",
   "execution_count": 27,
   "id": "a288f0c9",
   "metadata": {},
   "outputs": [
    {
     "data": {
      "text/plain": [
       "<thinc.model.Model at 0x1cc42f6e740>"
      ]
     },
     "execution_count": 27,
     "metadata": {},
     "output_type": "execute_result"
    }
   ],
   "source": [
    "ner.tok2vec"
   ]
  },
  {
   "cell_type": "code",
   "execution_count": 29,
   "id": "3584ac0c",
   "metadata": {},
   "outputs": [
    {
     "data": {
      "text/plain": [
       "['tagger', 'parser']"
      ]
     },
     "execution_count": 29,
     "metadata": {},
     "output_type": "execute_result"
    }
   ],
   "source": [
    "tok2vec.listening_components"
   ]
  },
  {
   "cell_type": "code",
   "execution_count": 26,
   "id": "ff219c46",
   "metadata": {},
   "outputs": [
    {
     "data": {
      "text/plain": [
       "{'tagger': [<spacy.pipeline.tok2vec.Tok2VecListener at 0x1cc3d3c4a50>],\n",
       " 'parser': [<spacy.pipeline.tok2vec.Tok2VecListener at 0x1cc3ddf39d0>]}"
      ]
     },
     "execution_count": 26,
     "metadata": {},
     "output_type": "execute_result"
    }
   ],
   "source": [
    "tok2vec.listener_map"
   ]
  },
  {
   "cell_type": "raw",
   "id": "77a51823",
   "metadata": {},
   "source": [
    "# highlight the arguments of a couple components: tok2vec + one other"
   ]
  },
  {
   "cell_type": "raw",
   "id": "d8fbb568",
   "metadata": {},
   "source": [
    "# construct a pipeline"
   ]
  },
  {
   "cell_type": "raw",
   "id": "554b5796",
   "metadata": {},
   "source": [
    "# write the pipeline to disk"
   ]
  },
  {
   "cell_type": "raw",
   "id": "5a92bb74",
   "metadata": {},
   "source": [
    "# load the pipeline from disk"
   ]
  },
  {
   "cell_type": "raw",
   "id": "4b4c21b1",
   "metadata": {},
   "source": [
    "# view the pipeline's config"
   ]
  }
 ],
 "metadata": {
  "kernelspec": {
   "display_name": "Python 3 (ipykernel)",
   "language": "python",
   "name": "python3"
  },
  "language_info": {
   "codemirror_mode": {
    "name": "ipython",
    "version": 3
   },
   "file_extension": ".py",
   "mimetype": "text/x-python",
   "name": "python",
   "nbconvert_exporter": "python",
   "pygments_lexer": "ipython3",
   "version": "3.11.9"
  }
 },
 "nbformat": 4,
 "nbformat_minor": 5
}
