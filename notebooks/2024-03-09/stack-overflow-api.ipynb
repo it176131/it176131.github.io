{
 "cells": [
  {
   "cell_type": "markdown",
   "id": "f1ca6ffb",
   "metadata": {},
   "source": [
    "Thoughts have been running through my head for a few weeks about what my next blog post would be about.\n",
    "I know I promised a few people that it would be over [basket analysis](https://en.wikipedia.org/wiki/Affinity_analysis),\n",
    "but the more I tried to write about it the more I realized that I needed data to really make it stick.\n",
    "None of the data sets I found on the web jumped out at me,\n",
    "and that's probably because I didn't have an interest in what they were related to.\n",
    "\n",
    "I don't know exactly when it clicked, but the idea of using Stack Overflow data sounded perfect.\n",
    "So I aplogize to my readers for my delayed promise.\n",
    "This post will be about using the python package\n",
    "[`StackAPI`](https://pypi.org/project/StackAPI/) to connect and interact with the\n",
    "[Stack Exchange API](https://api.stackexchange.com/)."
   ]
  },
  {
   "cell_type": "markdown",
   "id": "c0b600a5",
   "metadata": {},
   "source": [
    "# Registration"
   ]
  },
  {
   "cell_type": "markdown",
   "id": "2b380889",
   "metadata": {},
   "source": [
    "To use the API we need to [*Register For An App Key*](http://stackapps.com/apps/oauth/register),\n",
    "also sometimes referred to as an API key.\n",
    "I've done this a couple times in the past (the second time because I couldn't find my first key).\n",
    "\n",
    "> If you ever forget or lose your key(s), you can find them at [*View Your Apps*](https://stackapps.com/apps/oauth).\n",
    "> Hindsight is 20/20.\n",
    "\n",
    "Give your app a name and a description of what you'll use it for.\n",
    "I've never actually built an \"app\" per se; I generally only use the API to pull and analyze data for funsies.\n",
    "The **OAuth Domain** would be your website's domain (if you have one), and the application website would be...\n",
    "well...\n",
    "wherever you plan on hosting your app!\n",
    "The previous times I've done this I set my OAuth domain to \"stackexchange.com\" and \"NA\" as my application website.\n",
    "Since I actually have a website now (my blog counts, right?), I'm going to register for a new App Key.\n",
    "Here's what mine looks like:\n",
    "\n",
    "<img alt=\"register_app.png\" src=\"{{ page.images | relative_url }}/register_app.png\"/>\n",
    "\n",
    "Clicking **Register Your Application** will send you to a new page where you can see the values you chose for\n",
    "**OAuth Domain** and **Application Website**.\n",
    "Towards the top is the more important stuff: **Client Id**, **Client Secret**, and **Key**.\n",
    "The **Key** is what we'll use to make requests against the API.\n",
    "\n",
    "> It's worth noting that we technically don't need to do this as we can make calls to the API *without* a key. However, having a key means we have a higher request quota, i.e. we can send more requests. I'll explain more below."
   ]
  },
  {
   "cell_type": "markdown",
   "id": "2ac05ab2",
   "metadata": {},
   "source": [
    "# `StackAPI`"
   ]
  },
  {
   "cell_type": "markdown",
   "id": "8ec44465",
   "metadata": {},
   "source": [
    "To make a call to the API we'll first install `StackAPI`.\n",
    "You can do that by uncommenting the cell below and running it."
   ]
  },
  {
   "cell_type": "code",
   "execution_count": 1,
   "id": "df4b01b4",
   "metadata": {
    "scrolled": false
   },
   "outputs": [],
   "source": [
    "# !pip install StackAPI"
   ]
  },
  {
   "cell_type": "markdown",
   "id": "b32db90a",
   "metadata": {},
   "source": [
    "After installing, let's run the example from the\n",
    "[docs](https://github.com/AWegnerGitHub/stackapi?tab=readme-ov-file#example-usage)."
   ]
  },
  {
   "cell_type": "code",
   "execution_count": 2,
   "id": "f5faa446",
   "metadata": {},
   "outputs": [],
   "source": [
    "from stackapi import StackAPI\n",
    "\n",
    "SITE = StackAPI(\"stackoverflow\")\n",
    "comments = SITE.fetch(\"comments\")"
   ]
  },
  {
   "cell_type": "markdown",
   "id": "a804f48e",
   "metadata": {},
   "source": [
    "The `comments` will be a python dictionary with both results from the call, as well as metadata."
   ]
  },
  {
   "cell_type": "code",
   "execution_count": 3,
   "id": "ac21e8d9",
   "metadata": {},
   "outputs": [
    {
     "data": {
      "text/plain": [
       "dict"
      ]
     },
     "execution_count": 3,
     "metadata": {},
     "output_type": "execute_result"
    }
   ],
   "source": [
    "type(comments)"
   ]
  },
  {
   "cell_type": "code",
   "execution_count": 4,
   "id": "8f65f242",
   "metadata": {},
   "outputs": [
    {
     "data": {
      "text/plain": [
       "dict_keys(['backoff', 'has_more', 'page', 'quota_max', 'quota_remaining', 'total', 'items'])"
      ]
     },
     "execution_count": 4,
     "metadata": {},
     "output_type": "execute_result"
    }
   ],
   "source": [
    "comments.keys()"
   ]
  },
  {
   "cell_type": "markdown",
   "id": "1aa4a3b6",
   "metadata": {},
   "source": [
    "The `\"quota_max\"` tells us our max quota—the max number of calls we can make to the API in a day.\n",
    "\n",
    "> Note that I haven't tested this, but I believe the quota is based on 24 hours from your first call."
   ]
  },
  {
   "cell_type": "code",
   "execution_count": 5,
   "id": "3d295758",
   "metadata": {},
   "outputs": [
    {
     "data": {
      "text/plain": [
       "300"
      ]
     },
     "execution_count": 5,
     "metadata": {},
     "output_type": "execute_result"
    }
   ],
   "source": [
    "# Our max quota is...\n",
    "comments[\"quota_max\"]"
   ]
  },
  {
   "cell_type": "markdown",
   "id": "73b2d8a9",
   "metadata": {},
   "source": [
    "The `\"quota_remaining\"` is how many more results we can fetch from the API.\n",
    "When it hits zero, we have to wait for it to reset.\n",
    "This is called *throttling* and you can read more about it [here](https://api.stackexchange.com/docs/throttle)."
   ]
  },
  {
   "cell_type": "code",
   "execution_count": 6,
   "id": "39c49c54",
   "metadata": {},
   "outputs": [
    {
     "data": {
      "text/plain": [
       "215"
      ]
     },
     "execution_count": 6,
     "metadata": {},
     "output_type": "execute_result"
    }
   ],
   "source": [
    "# Results may vary depending on the number of times the API was called.\n",
    "comments[\"quota_remaining\"]"
   ]
  },
  {
   "cell_type": "markdown",
   "id": "be3ae6da",
   "metadata": {},
   "source": [
    "# The API Key"
   ]
  },
  {
   "cell_type": "markdown",
   "id": "1c171cbc",
   "metadata": {},
   "source": [
    "Before exploring more of `comments`, I want to call out that we have yet to use our API key.\n",
    "While the key isn't technically a secret, I like to keep mine hidden away in my environment variables.\n",
    "This keeps me from accidentally pushing it to the repo for others to use willy-nilly, wasting my quota.\n",
    "\n",
    "To access my API key I import `getenv` from `os` and set the `key` argument in `StackAPI` to the result.\n",
    "\n",
    "> You may have to restart your terminal for the environment variable change to take affect."
   ]
  },
  {
   "cell_type": "code",
   "execution_count": 7,
   "id": "7d5fe6c6",
   "metadata": {},
   "outputs": [],
   "source": [
    "from os import getenv\n",
    "\n",
    "key = getenv(\"STACK_API_KEY\")\n",
    "SITE = StackAPI(\"stackoverflow\", key=key)\n",
    "comments = SITE.fetch(\"comments\")"
   ]
  },
  {
   "cell_type": "markdown",
   "id": "4751c85b",
   "metadata": {},
   "source": [
    "We can now see that my `\"quota_max\"` has increased to $10,000$."
   ]
  },
  {
   "cell_type": "code",
   "execution_count": 8,
   "id": "767890d9",
   "metadata": {},
   "outputs": [
    {
     "data": {
      "text/plain": [
       "10000"
      ]
     },
     "execution_count": 8,
     "metadata": {},
     "output_type": "execute_result"
    }
   ],
   "source": [
    "comments[\"quota_max\"]"
   ]
  },
  {
   "cell_type": "markdown",
   "id": "5914ff51",
   "metadata": {},
   "source": [
    "# Data"
   ]
  },
  {
   "cell_type": "markdown",
   "id": "bc6d8920",
   "metadata": {},
   "source": [
    "We've increased our quota, now let's get some data.\n",
    "Inside of `comments` there's a key called `\"items\"`.\n",
    "Each `item` is a [comments object](https://api.stackexchange.com/docs/types/comment)."
   ]
  },
  {
   "cell_type": "code",
   "execution_count": 9,
   "id": "dfb6f675",
   "metadata": {},
   "outputs": [
    {
     "data": {
      "text/plain": [
       "{'owner': {'account_id': 64461,\n",
       "  'reputation': 217363,\n",
       "  'user_id': 190277,\n",
       "  'user_type': 'registered',\n",
       "  'accept_rate': 94,\n",
       "  'profile_image': 'https://www.gravatar.com/avatar/dcf9672c1893e4b7c5d86ca1bc2bf88f?s=256&d=identicon&r=PG',\n",
       "  'display_name': 'Ben Bolker',\n",
       "  'link': 'https://stackoverflow.com/users/190277/ben-bolker'},\n",
       " 'edited': False,\n",
       " 'score': 0,\n",
       " 'creation_date': 1710030491,\n",
       " 'post_id': 78134082,\n",
       " 'comment_id': 137747959,\n",
       " 'content_license': 'CC BY-SA 4.0'}"
      ]
     },
     "execution_count": 9,
     "metadata": {},
     "output_type": "execute_result"
    }
   ],
   "source": [
    "comment_0 = comments[\"items\"][0]\n",
    "comment_0"
   ]
  },
  {
   "cell_type": "markdown",
   "id": "4ac9acad",
   "metadata": {},
   "source": [
    "There are *millions*, if not billions, of comments on [Stack Overflow](https://stackoverflow.com/).\n",
    "To avoid crashing the site's servers,\n",
    "the API limits the number of items returned to 100 results per page for a max of five pages.\n",
    "That's $100 \\times 5 = 500$ results *at most*."
   ]
  },
  {
   "cell_type": "code",
   "execution_count": 10,
   "id": "b2c38ec4",
   "metadata": {},
   "outputs": [
    {
     "data": {
      "text/plain": [
       "500"
      ]
     },
     "execution_count": 10,
     "metadata": {},
     "output_type": "execute_result"
    }
   ],
   "source": [
    "len(comments[\"items\"])"
   ]
  },
  {
   "cell_type": "markdown",
   "id": "227ad134",
   "metadata": {},
   "source": [
    "Typically the results returned are the most recently created (*descending* order)."
   ]
  },
  {
   "cell_type": "code",
   "execution_count": 11,
   "id": "d9cb61f7",
   "metadata": {},
   "outputs": [
    {
     "data": {
      "text/plain": [
       "datetime.datetime(2024, 3, 9, 18, 28, 11)"
      ]
     },
     "execution_count": 11,
     "metadata": {},
     "output_type": "execute_result"
    }
   ],
   "source": [
    "from datetime import datetime\n",
    "\n",
    "# The creation date is relatively recent.\n",
    "# Results may vary depending on when data was fetched.\n",
    "datetime.fromtimestamp(comment_0[\"creation_date\"])"
   ]
  },
  {
   "cell_type": "markdown",
   "id": "9bb779a9",
   "metadata": {},
   "source": [
    "You can modify the underlying query by supplying different keyword arguments (`kwargs`) to the `fetch` method.\n",
    "For example, this is how you'd return the *oldest* comments first (*ascending* order)."
   ]
  },
  {
   "cell_type": "code",
   "execution_count": 12,
   "id": "6035aab2",
   "metadata": {},
   "outputs": [
    {
     "data": {
      "text/plain": [
       "datetime.datetime(2008, 8, 1, 9, 58, 15)"
      ]
     },
     "execution_count": 12,
     "metadata": {},
     "output_type": "execute_result"
    }
   ],
   "source": [
    "comments_asc = SITE.fetch(\"comments\", **{\"order\": \"asc\"})\n",
    "comments_asc_0 = comments_asc[\"items\"][0]\n",
    "datetime.fromtimestamp(comments_asc_0[\"creation_date\"])"
   ]
  },
  {
   "cell_type": "markdown",
   "id": "4c1bb3ba",
   "metadata": {},
   "source": [
    "Per the [*Usage of /comments*](https://api.stackexchange.com/docs/comments),\n",
    "I knew to set `order=\"asc\"` based on the URL query at the bottom.\n",
    "You can try changing other parameters and see how these affect the returned results.\n",
    "After that you may wish to define your own custom filters.\n",
    "See [here](https://api.stackexchange.com/docs/filters) for more documenation."
   ]
  },
  {
   "cell_type": "markdown",
   "id": "553ee39b",
   "metadata": {},
   "source": [
    "# Conclusion"
   ]
  },
  {
   "cell_type": "markdown",
   "id": "3df131b6",
   "metadata": {},
   "source": [
    "This has been a *very* high level intro to the Stack Exchange API using the `StackAPI` package.\n",
    "I will reference back to it in future posts whenever I need to pull data related to the site.\n",
    "I encourage you to play around with it yourself.\n",
    "As an exercise, try to fetch all comments written by [me](https://stackoverflow.com/users/6509519/ian-thompson).\n",
    "\n",
    "> Hint: The number of comments should match the number on this\n",
    "> [page](https://stackoverflow.com/users/6509519/ian-thompson?tab=activity&sort=comments)."
   ]
  }
 ],
 "metadata": {
  "kernelspec": {
   "display_name": "Python 3 (ipykernel)",
   "language": "python",
   "name": "python3"
  },
  "language_info": {
   "codemirror_mode": {
    "name": "ipython",
    "version": 3
   },
   "file_extension": ".py",
   "mimetype": "text/x-python",
   "name": "python",
   "nbconvert_exporter": "python",
   "pygments_lexer": "ipython3",
   "version": "3.11.7"
  }
 },
 "nbformat": 4,
 "nbformat_minor": 5
}
