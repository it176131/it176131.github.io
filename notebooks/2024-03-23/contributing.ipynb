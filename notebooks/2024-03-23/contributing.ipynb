{
 "cells": [
  {
   "cell_type": "markdown",
   "id": "38d51e9f",
   "metadata": {},
   "source": [
    "As I was working to keep my promise from a\n",
    "<a href=\"{{ site.baseurl }}{% link _posts/2024-03-09-stack-overflow-api.html %}\">previous entry</a>,\n",
    "I came across a scenario that I thought was worth a blog post.\n",
    "I was using the\n",
    "[`mlxtend`](https://rasbt.github.io/mlxtend/)\n",
    "package to show how one might perform a basket analysis on question tags when I discovered a feature that I expected to exist, didn't.\n",
    "I'll elaborate."
   ]
  },
  {
   "cell_type": "markdown",
   "id": "95bd2a92",
   "metadata": {},
   "source": [
    "# The Missing Feature"
   ]
  },
  {
   "cell_type": "markdown",
   "id": "128dbf66",
   "metadata": {},
   "source": [
    "I connected to the API as I had previously written about and pulled questions."
   ]
  },
  {
   "cell_type": "code",
   "execution_count": 1,
   "id": "af120e36",
   "metadata": {},
   "outputs": [
    {
     "data": {
      "text/plain": [
       "{'tags': ['html', 'css', 'flexbox', 'responsive-design', 'centering'],\n",
       " 'owner': {'account_id': 26330658,\n",
       "  'reputation': 73,\n",
       "  'user_id': 19991177,\n",
       "  'user_type': 'registered',\n",
       "  'profile_image': 'https://www.gravatar.com/avatar/1379e1c185626a10b0ddac93c5326254?s=256&d=identicon&r=PG',\n",
       "  'display_name': 'TheNickster',\n",
       "  'link': 'https://stackoverflow.com/users/19991177/thenickster'},\n",
       " 'is_answered': True,\n",
       " 'view_count': 18,\n",
       " 'answer_count': 2,\n",
       " 'score': 0,\n",
       " 'last_activity_date': 1711251161,\n",
       " 'creation_date': 1711235354,\n",
       " 'question_id': 78212821,\n",
       " 'content_license': 'CC BY-SA 4.0',\n",
       " 'link': 'https://stackoverflow.com/questions/78212821/how-do-i-center-score-text-for-a-basketball-scoreboard',\n",
       " 'title': 'How do I Center Score Text for a Basketball Scoreboard?'}"
      ]
     },
     "execution_count": 1,
     "metadata": {},
     "output_type": "execute_result"
    }
   ],
   "source": [
    "from os import getenv\n",
    "\n",
    "from stackapi import StackAPI\n",
    "\n",
    "\n",
    "key = getenv(\"STACK_API_KEY\")\n",
    "SITE = StackAPI(\"stackoverflow\", key=key)\n",
    "questions = SITE.fetch(\"questions\")\n",
    "\n",
    "questions[\"items\"][0]"
   ]
  },
  {
   "cell_type": "markdown",
   "id": "6efb000e",
   "metadata": {},
   "source": [
    "In the question items there's a field called \"tags\", which I want to use for the analysis.\n",
    "The tags are presented as a list of strings.\n",
    "To keep them tied to their questions and make analysis a bit easier,\n",
    "I decided to convert the list of question items to a `pandas.DataFrame`."
   ]
  },
  {
   "cell_type": "code",
   "execution_count": 2,
   "id": "3dba130b",
   "metadata": {},
   "outputs": [
    {
     "name": "stdout",
     "output_type": "stream",
     "text": [
      "question_id\n",
      "78212821    [html, css, flexbox, responsive-design, center...\n",
      "76143172                                 [php, symfony, twig]\n",
      "35707320            [ruby-on-rails, mongodb, ruby-on-rails-4]\n",
      "48057197               [php, apache, xampp, php-7.1, php-7.2]\n",
      "49476559    [java, compiler-errors, java-9, java-module, m...\n",
      "Name: tags, dtype: object\n"
     ]
    }
   ],
   "source": [
    "import pandas as pd\n",
    "\n",
    "# Configuration settings\n",
    "pd.options.display.expand_frame_repr = False\n",
    "pd.options.display.max_columns = 6\n",
    "\n",
    "\n",
    "df = pd.DataFrame(questions[\"items\"])\n",
    "# Question Ids are unique to the row.\n",
    "df = df.set_index(\"question_id\")\n",
    "# Results may vary as the most recent questions are returned each call.\n",
    "print(df.tags.head())"
   ]
  },
  {
   "cell_type": "markdown",
   "id": "ee455fe8",
   "metadata": {},
   "source": [
    "Preprocessing of the tags would be handled by the `mlxtend` library.\n",
    "I chose to use the\n",
    "[`TransactionEncoder`](https://rasbt.github.io/mlxtend/api_subpackages/mlxtend.preprocessing/#transactionencoder), which is similar to a [`OneHotEncoder`](https://scikit-learn.org/stable/modules/generated/sklearn.preprocessing.OneHotEncoder.html),\n",
    "but for converting item lists (think lists of lists; nested lists) into transaction data rather than an array (one value per cell) into columns."
   ]
  },
  {
   "cell_type": "code",
   "execution_count": 3,
   "id": "ed73b1af",
   "metadata": {},
   "outputs": [
    {
     "data": {
      "text/plain": [
       "array([[False, False, False, ..., False, False, False],\n",
       "       [False, False, False, ..., False, False, False],\n",
       "       [False, False, False, ..., False, False, False],\n",
       "       ...,\n",
       "       [False, False, False, ..., False, False, False],\n",
       "       [False, False, False, ..., False, False, False],\n",
       "       [False, False, False, ..., False, False, False]])"
      ]
     },
     "execution_count": 3,
     "metadata": {},
     "output_type": "execute_result"
    }
   ],
   "source": [
    "from mlxtend.preprocessing.transactionencoder import TransactionEncoder\n",
    "\n",
    "\n",
    "encoder = TransactionEncoder()\n",
    "tag_encodings = encoder.fit_transform(df.tags)\n",
    "tag_encodings"
   ]
  },
  {
   "cell_type": "markdown",
   "id": "a1817816",
   "metadata": {},
   "source": [
    "The returned results are an array.\n",
    "No problem with that.\n",
    "But while browsing\n",
    "[the example in the User Guide](https://rasbt.github.io/mlxtend/user_guide/preprocessing/TransactionEncoder/),\n",
    "I noticed how they converted the array into a\n",
    "[`pandas.DataFrame`](https://pandas.pydata.org/docs/reference/api/pandas.DataFrame.html)."
   ]
  },
  {
   "cell_type": "code",
   "execution_count": 4,
   "id": "0596b48c",
   "metadata": {},
   "outputs": [
    {
     "name": "stdout",
     "output_type": "stream",
     "text": [
      "              .net  .net-6.0  .net-attributes  ...  zooming    zsh  zustand\n",
      "question_id                                    ...                         \n",
      "78212821     False     False            False  ...    False  False    False\n",
      "76143172     False     False            False  ...    False  False    False\n",
      "35707320     False     False            False  ...    False  False    False\n",
      "48057197     False     False            False  ...    False  False    False\n",
      "49476559     False     False            False  ...    False  False    False\n",
      "\n",
      "[5 rows x 900 columns]\n"
     ]
    }
   ],
   "source": [
    "tag_df = pd.DataFrame(\n",
    "    tag_encodings,\n",
    "    index=df.index,  # I added the index to align with the input data.\n",
    "    columns=encoder.columns_,\n",
    ")\n",
    "print(tag_df.head())"
   ]
  },
  {
   "cell_type": "markdown",
   "id": "6d721754",
   "metadata": {},
   "source": [
    "There's nothing wrong with how this was done, but I wondered why the\n",
    "[`set_output`](https://scikit-learn.org/stable/auto_examples/miscellaneous/plot_set_output.html)\n",
    "method wasn't taken advantage of.\n",
    "That's when I realized it's not exposed in `mlxtend`."
   ]
  },
  {
   "cell_type": "code",
   "execution_count": 5,
   "id": "6944b0af",
   "metadata": {},
   "outputs": [
    {
     "name": "stdout",
     "output_type": "stream",
     "text": [
      "AttributeError(\"This 'TransactionEncoder' has no attribute 'set_output'\")\n"
     ]
    }
   ],
   "source": [
    "try:\n",
    "    encoder = TransactionEncoder().set_output(transform=\"pandas\")\n",
    "\n",
    "except Exception as e:\n",
    "    print(repr(e))"
   ]
  },
  {
   "cell_type": "markdown",
   "id": "e7029a8d",
   "metadata": {},
   "source": [
    "\"That's odd,\" I thought.\n",
    "I'm pretty sure [`scikit-learn`](https://scikit-learn.org/stable/index.html) is a requirement for `mlxtend`.\n",
    "Surely the supported version is greater than 1.2?\n",
    "\n",
    "After looking at the [requirements.txt](https://github.com/rasbt/mlxtend/blob/master/requirements.txt) file,\n",
    "I was relieved to see that the package did in fact use the newest version of `scikit-learn`.\n",
    "But why didn't `set_output` work?\n",
    "\n",
    "The reason wasn't obvious after digging through the `TransactionEncoder`'s source code.\n",
    "Switching to how `set_output` works in `scikit-learn`, I found what I was looking for in the documentation for the\n",
    "[`TransformerMixin`](https://scikit-learn.org/stable/modules/generated/sklearn.base.TransformerMixin.html#sklearn.base.TransformerMixin) class:\n",
    "\n",
    "> Mixin class for all transformers in scikit-learn.\n",
    "> \n",
    "> This mixin defines the following functionality:\n",
    "> \n",
    "> - a `fit_transform` method that delegates to `fit` and `transform`;\n",
    "> - a `set_output` method to output `X` as a specific container type.\n",
    "> \n",
    "> If [`get_feature_names_out`](https://scikit-learn.org/stable/glossary.html#term-get_feature_names_out) is defined,\n",
    "> then [`BaseEstimator`](https://scikit-learn.org/stable/modules/generated/sklearn.base.BaseEstimator.html#sklearn.base.BaseEstimator)\n",
    "> will automatically wrap `transform` and `fit_transform` to follow the `set_output` API.\n",
    "> See the [Developer API for `set_output`](https://scikit-learn.org/stable/developers/develop.html#developer-api-set-output)\n",
    "> for details.\n",
    "> \n",
    "> [`OneToOneFeatureMixin`](https://scikit-learn.org/stable/modules/generated/sklearn.base.OneToOneFeatureMixin.html#sklearn.base.OneToOneFeatureMixin) and [`ClassNamePrefixFeaturesOutMixin`](https://scikit-learn.org/stable/modules/generated/sklearn.base.ClassNamePrefixFeaturesOutMixin.html#sklearn.base.ClassNamePrefixFeaturesOutMixin) are helpful mixins for defining [`get_feature_names_out`](https://scikit-learn.org/stable/glossary.html#term-get_feature_names_out).\n",
    "\n",
    "The current version of `TransactionEncoder` *does* inherit from `scikit-learn`'s `TransformerMixin`,\n",
    "but *does not* define the `get_feature_names_out` method.\n",
    "Implementing the method would allow the `TransactionEncoder` to output a `pandas.DataFrame` by default.\n",
    "I'm up for the challenge 😎."
   ]
  },
  {
   "cell_type": "markdown",
   "id": "85cfa7f4",
   "metadata": {},
   "source": [
    "# New Issue (Feature)"
   ]
  },
  {
   "cell_type": "markdown",
   "id": "6f88f443",
   "metadata": {},
   "source": [
    "If you haven't contributed to an open source project before, here are some general guidelines I like to follow:\n",
    "1. Check if a related issue has already been logged.\n",
    "Nobody wants to deal with closing duplicate tickets.\n",
    "Or worse, not closing them and having to deal with duplicate work that's already been completed.\n",
    "2. Read the package's contribution guidelines and code of conduct.\n",
    "If there's an existing process in place, follow it.\n",
    "\n",
    "I usually perform a few searches over the open issues with various keywords to see if anything comes up.\n",
    "For this particular issue I tried\n",
    "[\"set_output\"](https://github.com/rasbt/mlxtend/issues?q=is%3Aissue+is%3Aopen+set_output),\n",
    "[\"TransactionEncoder\"](https://github.com/rasbt/mlxtend/issues?q=is%3Aissue+is%3Aopen+TransactionEncoder), and\n",
    "[\"get_feature_names_out\"](https://github.com/rasbt/mlxtend/issues?q=is%3Aissue+is%3Aopen+get_feature_names_out).\n",
    "The first and third yielded no results, and the second had some unrelated to the format of the output.\n",
    "I'm good to proceed.\n",
    "\n",
    "`mlxtend`'s [issue template](https://github.com/rasbt/mlxtend/issues/new/choose) has four major categories:\n",
    "- Bug report\n",
    "- Documentation improvement\n",
    "- Feature request\n",
    "- Other\n",
    "- Usage question\n",
    "\n",
    "Since the `get_feature_names_out` method doesn't exist in the `TransactionEncoder`,\n",
    "I think this should be a feature request.\n",
    "\n",
    "I started off with a title: ***\"Integrate scikit-learn's `set_output` method into `TransactionEncoder`.\"***\n",
    "I want my feature request to be specific and small enough that it can be easily merged,\n",
    "as well as not break any preexisting code (though I do forsee a `scikit-learn` version bump).\n",
    "\n",
    "Next, I need to fill out the following four sections:\n",
    "- Describe the workflow you want to enable\n",
    "- Describe your proposed solution\n",
    "- Describe alternatives you've considered, if relevant\n",
    "- Additional context\n",
    "\n",
    "Here's what I put for each:"
   ]
  },
  {
   "cell_type": "markdown",
   "id": "3a4171fc",
   "metadata": {},
   "source": [
    "### Describe the workflow you want to enable"
   ]
  },
  {
   "cell_type": "markdown",
   "id": "7c547e0c",
   "metadata": {},
   "source": [
    "In `scikit-learn` [version 1.2](https://scikit-learn.org/1.2/whats_new/v1.2.html#id8),\n",
    "[the `set_output` API was introduced](https://scikit-learn.org/stable/auto_examples/miscellaneous/plot_set_output.html).\n",
    "I would like to expose the API inside of the\n",
    "[`mlxtend.preprocessing.transactionencoder.TransactionEncoder`](https://rasbt.github.io/mlxtend/api_subpackages/mlxtend.preprocessing/#transactionencoder) class.\n",
    "This would allow the user to set the output of :method:`TransactionEncoder.fit_transform` and :method:`TransactionEncoder.transform` to a\n",
    "[`pandas.DataFrame`](https://pandas.pydata.org/docs/reference/api/pandas.DataFrame.html) by default,\n",
    "rather than having to manually create the object after transformation."
   ]
  },
  {
   "cell_type": "markdown",
   "id": "efb41cf7",
   "metadata": {},
   "source": [
    "### Describe your proposed solution"
   ]
  },
  {
   "cell_type": "markdown",
   "id": "733bca57",
   "metadata": {},
   "source": [
    "My proposed solution is to define the\n",
    "[:method:`get_feature_names_out`](https://scikit-learn.org/stable/glossary.html#term-get_feature_names_out)\n",
    "in :class:`TransactionEncoder` as this is required to expose the :method:`set_output`.\n",
    "See [:class:`TransformerMixin`](https://scikit-learn.org/stable/modules/generated/sklearn.base.TransformerMixin.html#sklearn.base.TransformerMixin)\n",
    "and [Developer API for `set_output`](https://scikit-learn.org/stable/developers/develop.html#developer-api-set-output)\n",
    "for more details."
   ]
  },
  {
   "cell_type": "markdown",
   "id": "d9563f83",
   "metadata": {},
   "source": [
    "### Describe alternatives you've considered, if relevant"
   ]
  },
  {
   "cell_type": "markdown",
   "id": "56711f79",
   "metadata": {},
   "source": [
    "Continue using the method described in the\n",
    "[User Guide](https://rasbt.github.io/mlxtend/user_guide/preprocessing/TransactionEncoder/)\n",
    "—convert the output of the transformer to a `pandas.DataFrame` manually."
   ]
  },
  {
   "cell_type": "markdown",
   "id": "01be97a6",
   "metadata": {},
   "source": [
    "### Additional context"
   ]
  },
  {
   "cell_type": "markdown",
   "id": "91c82ffb",
   "metadata": {},
   "source": [
    "- This would require the minimum version of `scikit-learn` to increase from 1.0.2 to 1.2.2.\n",
    "- I'm willing to take on the PR for this work."
   ]
  },
  {
   "cell_type": "markdown",
   "id": "2ce071cc",
   "metadata": {},
   "source": [
    "# Submit"
   ]
  },
  {
   "cell_type": "markdown",
   "id": "97b94ad0",
   "metadata": {},
   "source": [
    "After doing my due diligence, I submitted the feature request/issue.\n",
    "You can keep tabs on it here 👉 \n",
    "[Integrate scikit-learn's `set_output` method into `TransactionEncoder`](https://github.com/rasbt/mlxtend/issues/1085).\n",
    "While I wait for one of the package maintainers to green-light my request,\n",
    "I'll scope out how difficult it will be to implement the `get_feature_names_out` method.\n",
    "I should also see if I need to write or update any [unit tests](https://en.wikipedia.org/wiki/Unit_testing).\n",
    "Catch you in part deuce ✌️."
   ]
  }
 ],
 "metadata": {
  "kernelspec": {
   "display_name": "Python 3 (ipykernel)",
   "language": "python",
   "name": "python3"
  },
  "language_info": {
   "codemirror_mode": {
    "name": "ipython",
    "version": 3
   },
   "file_extension": ".py",
   "mimetype": "text/x-python",
   "name": "python",
   "nbconvert_exporter": "python",
   "pygments_lexer": "ipython3",
   "version": "3.11.7"
  }
 },
 "nbformat": 4,
 "nbformat_minor": 5
}
