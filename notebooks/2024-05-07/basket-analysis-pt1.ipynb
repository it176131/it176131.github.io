{
 "cells": [
  {
   "cell_type": "markdown",
   "id": "4be3e742",
   "metadata": {},
   "source": [
    "[Stack Overflow](https://stackoverflow.com/) has this thing called\n",
    "[reputation](https://stackoverflow.com/help/whats-reputation).\n",
    "It's like a reward given to members of the site when they contribute well-written answers and/or questions.\n",
    "If you write a solid answer to a question,\n",
    "other users with a minimum reputation can upvote your post, granting you 10 rep each time (up to the daily limit of 200).\n",
    "On the flip side, if you write a poor answer, users can downvote it,\n",
    "each time reducing your current rep by two—all the way down to one rep.\n",
    "\n",
    "Each time your reputation increases, you get closer to receiving a new [privilege](https://stackoverflow.com/help/privileges).\n",
    "You could think of them as checkpoints with the\n",
    "[last one granted at 25,000](https://stackoverflow.com/help/privileges/site-analytics).\n",
    "At the time of writing, I'm only at 3,182 rep with my next privilege\n",
    "—[approve tag wiki edits](https://stackoverflow.com/help/privileges/approve-tag-wiki-edits)—coming at 5,000.\n",
    "\n",
    "<br><br>\n",
    "<a href=\"https://stackoverflow.com/users/6509519/ian-thompson\">\n",
    "    <center>\n",
    "        <figure align=\"center\">\n",
    "            <img src=\"https://stackoverflow.com/users/flair/6509519.png?theme=dark\" width=\"208\" height=\"58\" alt=\"profile for Ian Thompson at Stack Overflow, Q&amp;A for professional and enthusiast programmers\" title=\"profile for Ian Thompson at Stack Overflow, Q&amp;A for professional and enthusiast programmers\" style=\"margin:auto\">\n",
    "            <figcaption><i>Note, this is linked directly to my profile so the values may change</i></figcaption>\n",
    "        </figure>\n",
    "    </center>\n",
    "</a>\n",
    "<br><br>\n",
    "\n",
    "In addition to reputation,\n",
    "there are [badges](https://stackoverflow.com/help/badges) and [tag badges](https://stackoverflow.com/help/badges?tab=tags).\n",
    "Those are represented by the <font color=\"bronze\">bronze</font>, <font color=\"silver\">silver</font>,\n",
    "and <font color=\"gold\">gold</font> numbers on my user profile.\n",
    "If we take reputation to be a measure of how well you answer and ask questions\n",
    "(and maybe _how often_ if compared with time 🤔), then _tag badges_ measure your area of expertise.\n",
    "Or maybe the area you're most interested in 🤷.\n",
    "\n",
    "In November 2022 I earned a [bronze `python` tag badge](https://stackoverflow.com/help/badges/267/python?userid=6509519) and a\n",
    "[bronze `pandas` tag badge](https://stackoverflow.com/help/badges/1914/pandas?userid=6509519).\n",
    "Earning these motivated me to earn more, but I wasn't sure if I should focus only on silver tag badges,\n",
    "or if I could pick up another bronze badge along the way.\n",
    "The requirements for a bronze and silver tag badge are:\n",
    "> **Bronze**: Earn at least 100 total score for at least 20 non-community wiki answers in the tag\n",
    "> \n",
    "> **Silver**: Earn at least 400 total score for at least 80 non-community wiki answers in the tag\n",
    "\n",
    "On your [profile activity page](https://stackoverflow.com/users/6509519/ian-thompson?tab=topactivity),\n",
    "Stack Overflow gives its recommendation on which tag badge you should try to earn next.\n",
    "With a total score of 47 (out of 100) and 73 (out of 20) answers, mine is the\n",
    "[bronze `dataframe` tag badge](https://stackoverflow.com/help/badges/5915/dataframe).\n",
    "Before writing this, I had been attempting to kill *three* birds with one stone: earn silver `python` and `pandas` tag badges and a bronze `dataframe` tag badge *at the same time*.\n",
    "My thought was that because [`pandas`](https://pandas.pydata.org/) is a [`python`](https://www.python.org/) package and [`dataframe`](https://pandas.pydata.org/docs/reference/api/pandas.DataFrame.html) is one of the primary objects in `pandas`,\n",
    "I would be able to find questions that had all three tags fairly often.\n",
    "\n",
    "After some time,\n",
    "I've decided to reconsider my strategy as new questions with all three tags don't appear as frequently as I had hoped.\n",
    "I'm going to look at users who have already earned silver `python` or `pandas` tag badges, or a bronze `dataframe` badge.\n",
    "Maybe the questions they've answered will help me guide me towards what badge(s) I should chase next."
   ]
  },
  {
   "cell_type": "markdown",
   "id": "c839489d",
   "metadata": {},
   "source": [
    "# Tag Badges"
   ]
  },
  {
   "cell_type": "markdown",
   "id": "e1d33c0f",
   "metadata": {},
   "source": [
    "To start, I need to learn more about the tag badges I'm currently trying to earn.\n",
    "I establish a connection to the Stack Exchange API like I did in my post,\n",
    "<a href=\"{{ site.baseurl }}{% link _posts/2024-03-09-stack-overflow-api.html %}\">*Stack Overflow's API*</a>."
   ]
  },
  {
   "cell_type": "code",
   "execution_count": 1,
   "id": "518555d4",
   "metadata": {},
   "outputs": [],
   "source": [
    "from os import getenv\n",
    "\n",
    "import pandas as pd\n",
    "from stackapi import StackAPI\n",
    "\n",
    "# Configuration settings.\n",
    "pd.options.display.expand_frame_repr = False\n",
    "pd.options.display.max_columns = 4\n",
    "\n",
    "# For connecting to the API.\n",
    "key = getenv(\"STACK_API_KEY\")\n",
    "SITE = StackAPI(name=\"stackoverflow\", key=key)"
   ]
  },
  {
   "cell_type": "markdown",
   "id": "cadb4017",
   "metadata": {},
   "source": [
    "Exploring the API docs, I found an endpoint for fetching tag badges: \n",
    "[`/badges/tags`](https://api.stackexchange.com/docs/badges-by-tag).\n",
    "Looking at the page I can see that I need to include the `inname` parameter to filter by tag badge name,\n",
    "and both the `min` and `max` parameters to limit rank.\n",
    "I define a collection of tuples—one for each badge—and iterate over them,\n",
    "fetching and filtering the results to the items I'm interested in."
   ]
  },
  {
   "cell_type": "code",
   "execution_count": 2,
   "id": "8c528404",
   "metadata": {},
   "outputs": [
    {
     "name": "stdout",
     "output_type": "stream",
     "text": [
      "{'python': [50], 'pandas': [2426], 'dataframe': [5915]}\n"
     ]
    }
   ],
   "source": [
    "tags = ((\"python\", \"silver\"), (\"pandas\", \"silver\"), (\"dataframe\", \"bronze\"))\n",
    "tag_ids = {}\n",
    "for tag, rank in tags:\n",
    "    results = SITE.fetch(endpoint=\"badges/tags\", inname=tag, max=rank, min=rank)\n",
    "    items = results[\"items\"]\n",
    "    df = pd.DataFrame.from_records(data=items, index=\"badge_id\")\n",
    "    tag_ids[tag] = df.loc[df.name.eq(tag)].index.to_list()\n",
    "\n",
    "print(tag_ids)"
   ]
  },
  {
   "cell_type": "markdown",
   "id": "e6e322d6",
   "metadata": {},
   "source": [
    "I extract the `badge_id` value for each badge to help me limit my API calls going forward."
   ]
  },
  {
   "cell_type": "markdown",
   "id": "d917fe63",
   "metadata": {},
   "source": [
    "# Badge Recipients"
   ]
  },
  {
   "cell_type": "markdown",
   "id": "5b132a8b",
   "metadata": {},
   "source": [
    "Badges by themselves don't do a lot for me; I need to find users who have earned them.\n",
    "Back on the API docs there is an endpoint for fetching badge recipients: \n",
    "[`/badges/{ids}/recipients`](https://api.stackexchange.com/docs/badge-recipients-by-ids).\n",
    "The `ids` parameter expects a `badge_id`.\n",
    "We can use the three `badge_ids` we fetched in the previous section, iterating over them and extending our list of recipients."
   ]
  },
  {
   "cell_type": "code",
   "execution_count": 3,
   "id": "0e91a489",
   "metadata": {},
   "outputs": [
    {
     "name": "stdout",
     "output_type": "stream",
     "text": [
      "name\n",
      "python       500\n",
      "dataframe    435\n",
      "pandas       193\n",
      "Name: count, dtype: int64\n"
     ]
    }
   ],
   "source": [
    "recipients = []\n",
    "for tag, ids in tag_ids.items():\n",
    "    results = SITE.fetch(endpoint=\"badges/{ids}/recipients\", ids=ids)\n",
    "    items = results[\"items\"]\n",
    "    recipients.extend(items)\n",
    "\n",
    "recipients = pd.json_normalize(data=recipients)\n",
    "recipients = recipients.set_index(keys=\"user.user_id\")\n",
    "\n",
    "print(recipients.name.value_counts())"
   ]
  },
  {
   "cell_type": "markdown",
   "id": "3d04a0ee",
   "metadata": {},
   "source": [
    "We fetched:\n",
    "- 500 recipients of the silver `python` tag badge\n",
    "- 435 of the bronze `dataframe` tag badge\n",
    "- 193 of the silver `pandas` tag badge\n",
    "\n",
    "> Note that the max number of result items returned in one fetch is 500.\n",
    "> This means only 435 and 193 users have earned the bronze `dataframe` and silver `pandas` tag badges, respectively.\n",
    "> We can see how many users earned each badge by looking at the `award_count` field returned by the `/badges/tags` endpoint."
   ]
  },
  {
   "cell_type": "markdown",
   "id": "f433af56",
   "metadata": {},
   "source": [
    "# Reverse Engineering"
   ]
  },
  {
   "cell_type": "markdown",
   "id": "d382d7e6",
   "metadata": {},
   "source": [
    "There isn't an endpoint to return the questions a user wrote answers for that contributed to them earning a tag badge.\n",
    "We'll have to do a little grunt work, starting with determining when the a user earned its silver `pandas` tag badge.\n",
    "The [`/users/{ids}/timeline`](https://api.stackexchange.com/docs/timeline-on-users)\n",
    "endpoint will return users' public actions and accomplishment in chronological order.\n",
    "We can use that to get the date and time a user earned a tag badge.\n",
    "\n",
    "To make sure we get *all* timeline events, we'll increment the `page` parameter by 5 on each iteration.\n",
    "This will fetch us 500 items each time, stopping if `items` is empty."
   ]
  },
  {
   "cell_type": "code",
   "execution_count": 4,
   "id": "e346a3cd",
   "metadata": {},
   "outputs": [
    {
     "name": "stdout",
     "output_type": "stream",
     "text": [
      "1709611287\n"
     ]
    }
   ],
   "source": [
    "from functools import partial\n",
    "\n",
    "# The first silver pandas tag badge recipient.\n",
    "pd_users = recipients.loc[recipients.name.eq(\"pandas\")]\n",
    "user = pd_users.index[0]\n",
    "\n",
    "fetch_timeline = partial(SITE.fetch, endpoint=\"users/{ids}/timeline\")\n",
    "page = 1\n",
    "timeline = []\n",
    "results = fetch_timeline(ids=user, page=page)\n",
    "items = results[\"items\"]\n",
    "while items:\n",
    "    # Repeat until no `items` are returned\n",
    "    timeline.extend(items)\n",
    "    page += 5\n",
    "    results = fetch_timeline(ids=user, page=page)\n",
    "    items = results[\"items\"]\n",
    "\n",
    "timeline = pd.json_normalize(timeline)\n",
    "badge_date = timeline.loc[\n",
    "    timeline.timeline_type.eq(\"badge\")\n",
    "    & timeline.badge_id.isin(tag_ids[\"pandas\"]),\n",
    "    \"creation_date\"\n",
    "].iloc[0]\n",
    "\n",
    "print(badge_date)"
   ]
  },
  {
   "cell_type": "markdown",
   "id": "293461c0",
   "metadata": {},
   "source": [
    "Per the [docs](https://api.stackexchange.com/docs/dates),\n",
    "> All dates in the API are in \n",
    "> [unix epoch time](http://en.wikipedia.org/wiki/Unix_time),\n",
    "> which is the number of seconds since midnight UTC January 1st, 1970.\n",
    "\n",
    "We can convert the `badge_date` to a more human readable format using the \n",
    "[`datetime`](https://docs.python.org/3/library/datetime.html) library."
   ]
  },
  {
   "cell_type": "code",
   "execution_count": 5,
   "id": "1804b956",
   "metadata": {},
   "outputs": [
    {
     "name": "stdout",
     "output_type": "stream",
     "text": [
      "2024-03-05 04:01:27\n"
     ]
    }
   ],
   "source": [
    "from datetime import datetime as dt\n",
    "\n",
    "human_readable_badge_date = dt.utcfromtimestamp(badge_date).strftime(\"%Y-%m-%d %H:%M:%S\")\n",
    "\n",
    "print(human_readable_badge_date)"
   ]
  },
  {
   "cell_type": "markdown",
   "id": "931dfccc",
   "metadata": {},
   "source": [
    "# User Answers"
   ]
  },
  {
   "cell_type": "markdown",
   "id": "7b3034e5",
   "metadata": {},
   "source": [
    "With the `badge_date`, we can limit our answer to those posted by the user *before and including the `badge_date`*.\n",
    "The endpoint to find answers written by a specific user is \n",
    "[`/users/{ids}/answers`](https://api.stackexchange.com/docs/answers-on-users)."
   ]
  },
  {
   "cell_type": "code",
   "execution_count": 6,
   "id": "c9a0ec16",
   "metadata": {},
   "outputs": [
    {
     "name": "stdout",
     "output_type": "stream",
     "text": [
      "894\n"
     ]
    }
   ],
   "source": [
    "fetch_answers = partial(\n",
    "    SITE.fetch,\n",
    "    endpoint=\"users/{ids}/answers\",\n",
    "    sort=\"creation\",\n",
    "    max=badge_date,\n",
    ")\n",
    "page = 1\n",
    "answers = []\n",
    "results = fetch_answers(ids=user, page=page)\n",
    "items = results[\"items\"]\n",
    "while items:\n",
    "    # Repeat until no `items` are returned\n",
    "    answers.extend(items)\n",
    "    page += 5\n",
    "    results = fetch_answers(ids=user, page=page)\n",
    "    items = results[\"items\"]\n",
    "\n",
    "answers = pd.json_normalize(answers)\n",
    "answers = answers.set_index(keys=\"answer_id\")\n",
    "\n",
    "print(answers.index.nunique())"
   ]
  },
  {
   "cell_type": "markdown",
   "id": "1c38c2f5",
   "metadata": {},
   "source": [
    "This particular user wrote 894 answers between their account creation and the `badge_date`!"
   ]
  },
  {
   "cell_type": "markdown",
   "id": "26b75be1",
   "metadata": {},
   "source": [
    "# Questions"
   ]
  },
  {
   "cell_type": "markdown",
   "id": "cb744b00",
   "metadata": {},
   "source": [
    "The final piece of data collection proces: the questions.\n",
    "The questions tags control how an answer and its score contributes to earning a tag badge.\n",
    "To get the questions to our users' answers,\n",
    "we use the [`/questons/{ids}`](https://api.stackexchange.com/docs/questions-by-ids) endpoint.\n",
    "\n",
    "> It's worth noting that a user can write multiple answers to the same question.\n",
    "> This doesn't appear to be against Stack Exchange policy—see \n",
    "[Are multiple answers by the same user acceptable?](https://meta.stackoverflow.com/questions/251070/are-multiple-answers-by-the-same-user-acceptable)\n",
    "—so it's best to remove duplicates before fetching results to avoid running the same query."
   ]
  },
  {
   "cell_type": "code",
   "execution_count": 7,
   "id": "212c8cd2",
   "metadata": {},
   "outputs": [],
   "source": [
    "# Convert to set as some users may provide multiple answers to the same question.\n",
    "question_ids = [*set(answers.question_id)]\n",
    "\n",
    "questions = []\n",
    "# The endpoint only accepts 100 ids at a time, so we increment in batches of 100.\n",
    "for i in range(0, len(question_ids), 100):\n",
    "    ids = question_ids[i:i + 100]\n",
    "    results = SITE.fetch(endpoint=\"questions/{ids}\", ids=ids)\n",
    "    items = results[\"items\"]\n",
    "    questions.extend(items)\n",
    "\n",
    "questions = pd.json_normalize(questions)\n",
    "questions = questions.set_index(\"question_id\")"
   ]
  },
  {
   "cell_type": "markdown",
   "id": "0330ee37",
   "metadata": {},
   "source": [
    "If you'll recall, we collected *all* answers posted by the user before the `begin_date`.\n",
    "This includes answers to questions unrelated to the silver `pandas` tag badge.\n",
    "We limit to questions of interest by filtering the `tags` values to those that contain the string \"pandas\".\n",
    "\n",
    "> `questions.tags` is a [`pandas.Series`](https://pandas.pydata.org/pandas-docs/stable/reference/api/pandas.Series.html)\n",
    "> so we use the [`operator.contains`](https://docs.python.org/3/library/operator.html#operator.contains) function."
   ]
  },
  {
   "cell_type": "code",
   "execution_count": 8,
   "id": "97b03b87",
   "metadata": {},
   "outputs": [
    {
     "name": "stdout",
     "output_type": "stream",
     "text": [
      "346\n"
     ]
    }
   ],
   "source": [
    "from operator import contains\n",
    "\n",
    "contains_pandas = lambda a: contains(a, \"pandas\")\n",
    "pd_questions = questions.loc[questions.tags.apply(contains_pandas)]\n",
    "pd_tags = pd_questions.tags\n",
    "\n",
    "print(pd_tags.index.nunique())"
   ]
  },
  {
   "cell_type": "markdown",
   "id": "2c69cccd",
   "metadata": {},
   "source": [
    "This user wrote answers to 346 questions tagged with `pandas`."
   ]
  },
  {
   "cell_type": "markdown",
   "id": "693c749a",
   "metadata": {},
   "source": [
    "# Conclusion"
   ]
  },
  {
   "cell_type": "markdown",
   "id": "6cf8f33b",
   "metadata": {},
   "source": [
    "Getting the question tags for a *single* user wasn't exactly a walk in the park.\n",
    "Before doing this for the other recipients, it'd be best to convert some of this logic into reusable functions.\n",
    "We'll work on that in the next post, but feel free to try it out on your own 🙂."
   ]
  }
 ],
 "metadata": {
  "kernelspec": {
   "display_name": "Python 3 (ipykernel)",
   "language": "python",
   "name": "python3"
  },
  "language_info": {
   "codemirror_mode": {
    "name": "ipython",
    "version": 3
   },
   "file_extension": ".py",
   "mimetype": "text/x-python",
   "name": "python",
   "nbconvert_exporter": "python",
   "pygments_lexer": "ipython3",
   "version": "3.11.7"
  }
 },
 "nbformat": 4,
 "nbformat_minor": 5
}
