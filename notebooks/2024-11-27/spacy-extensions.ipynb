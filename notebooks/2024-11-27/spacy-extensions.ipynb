{
 "cells": [
  {
   "cell_type": "markdown",
   "id": "10203259",
   "metadata": {},
   "source": [
    "Recently I was working with [`spaCy`](https://spacy.io/) and wanted to break a [`Doc`](https://spacy.io/api/doc) object up into its paragraphs.\n",
    "I thought this to be very similar to the existing [`SentenceRecognizer`](https://spacy.io/api/sentencerecognizer) and [`Sentencizer`](https://spacy.io/api/sentencizer) implementations and figured someone must have already done this.\n",
    "After quite a bit of searching, I didn't find any promising results on the modeling side, but did come across this gist:"
   ]
  },
  {
   "cell_type": "markdown",
   "id": "c4c1c23f",
   "metadata": {},
   "source": [
    "<script src=\"https://gist.github.com/wpm/bf1f2301b98a883b50e903bc3cc86439.js\"></script>"
   ]
  },
  {
   "cell_type": "markdown",
   "id": "2c07ee05",
   "metadata": {},
   "source": [
    "Simple.\n",
    "Straightforward.\n",
    "The only thing I'd like more is if I could reference the paragraphs of a `Doc` via an [attribute](https://docs.python.org/3/reference/expressions.html#attribute-references) or [property](https://docs.python.org/3/library/functions.html#property).\n",
    "Something akin to [`Doc.sents`](https://spacy.io/api/doc#sents).\n",
    "Lucky for me, the `spaCy` devs thought of this and made it easy to do."
   ]
  },
  {
   "cell_type": "markdown",
   "id": "b812eb8a",
   "metadata": {},
   "source": [
    "# Extensions"
   ]
  },
  {
   "cell_type": "markdown",
   "id": "37b37620",
   "metadata": {},
   "source": [
    "<div class=\"tenor-gif-embed\" data-postid=\"20193769\" data-share-method=\"host\" data-aspect-ratio=\"1\" data-width=\"100%\">\n",
    "    <a href=\"https://tenor.com/view/tony-talks-iamtonytalks-antonio-baldwin-hair-swing-swinging-hair-gif-20193769\">Tony Talks Iamtonytalks GIF</a>from <a href=\"https://tenor.com/search/tony+talks-gifs\">Tony Talks GIFs</a>\n",
    "</div>\n",
    "<script type=\"text/javascript\" async src=\"https://tenor.com/embed.js\"></script>\n",
    "<table>\n",
    "    <caption>Not those kinds of extensions</caption>\n",
    "</table>"
   ]
  },
  {
   "cell_type": "markdown",
   "id": "2d0f7816",
   "metadata": {},
   "source": [
    "Per the `spaCy` [docs](https://spacy.io/usage/processing-pipelines#custom-components-attributes):\n",
    ">spaCy allows you to set any custom attributes and methods on the `Doc`, `Span` and `Token`, which become available as `Doc._`, `Span._` and `Token._`—for example, `Token._.my_attr`. This lets you store additional information relevant to your application, add new features and functionality to spaCy, and implement your own models trained with other machine learning libraries. It also lets you take advantage of spaCy’s data structures and the `Doc` object as the “single source of truth”.\n",
    ">\n",
    ">There are three main types of extensions, which can be defined using the [`Doc.set_extension`](https://spacy.io/api/doc#set_extension), [`Span.set_extension`](https://spacy.io/api/span#set_extension) and [`Token.set_extension`](https://spacy.io/api/token#set_extension) methods."
   ]
  },
  {
   "cell_type": "markdown",
   "id": "7362f872",
   "metadata": {},
   "source": [
    "I'm interested in extracting paragraphs from a `Doc`, so I'll use the `Doc.set_extension` method.\n",
    "To have the extension use the `paragraphs` function from the gist, we need to supply it as an argument to the `getter` parameter.\n",
    "This is known as a **property extension**.\n",
    "From the docs:\n",
    ">**Property extensions**. Define a getter and an optional setter function. If no setter is provided, the extension is immutable. Since the getter and setter functions are only called when you _retrieve_ the attribute, you can also access values of previously added attribute extensions. For example, a `Doc` getter can average over `Token` attributes. For `Span` extensions, you’ll almost always want to use a property—otherwise, you’d have to write to _every possible_ `Span` in the `Doc` to set up the values correctly."
   ]
  },
  {
   "cell_type": "code",
   "execution_count": 1,
   "id": "65643a27",
   "metadata": {},
   "outputs": [
    {
     "name": "stdout",
     "output_type": "stream",
     "text": [
      "(0, This is a sentence. This is a second sentence. Here is a third.)\n",
      "(1, \n",
      "\n",
      "This is the start of a new paragraph. This is the end of the paragraph.)\n"
     ]
    }
   ],
   "source": [
    "from typing import Generator\n",
    "\n",
    "import spacy\n",
    "from spacy.tokens.doc import Doc\n",
    "from spacy.tokens.span import Span\n",
    "\n",
    "\n",
    "# I changed the parameter name `document` to `doc`\n",
    "# added type hints, and added some whitespace.\n",
    "def paragraphs(doc: Doc) -> Generator[Span, None, None]:\n",
    "    start = 0\n",
    "    for token in doc:\n",
    "        if token.is_space and token.text.count(\"\\n\") > 1:\n",
    "            yield doc[start:token.i]\n",
    "            start = token.i\n",
    "\n",
    "    yield doc[start:]\n",
    "\n",
    "\n",
    "# We set the `paras` extension globally.\n",
    "# This means _all_ `Doc` objects will have \n",
    "# a `_.paras` attribute.\n",
    "Doc.set_extension(name=\"paras\", getter=paragraphs)\n",
    "blank = spacy.blank(\"en\")\n",
    "\n",
    "# Some example text with two paragraphs.\n",
    "text = \"\"\"This is a sentence. This is a second sentence. Here is a third.\n",
    "\n",
    "This is the start of a new paragraph. This is the end of the paragraph.\"\"\"\n",
    "doc = blank(text=text)\n",
    "\n",
    "# Iterate and print each paragraph in `doc`,\n",
    "# extracted using the logic defined in the \n",
    "# `paragraph` function.\n",
    "paras = doc._.paras\n",
    "print(*enumerate(paras), sep=\"\\n\")"
   ]
  },
  {
   "cell_type": "markdown",
   "id": "bf86a3a5",
   "metadata": {},
   "source": [
    "It's not as beautiful as I want—I'd like to strip the newlines from each paragraph—but it gets the job done."
   ]
  },
  {
   "cell_type": "markdown",
   "id": "dcbf7728",
   "metadata": {},
   "source": [
    "And I'd be remiss if I didn't show how to remove the `_.paras` attribute (though you shouldn't have to because it's a generator and not adding much in terms of memory)."
   ]
  },
  {
   "cell_type": "code",
   "execution_count": 2,
   "id": "49faee9f",
   "metadata": {},
   "outputs": [],
   "source": [
    "# Note the semicolon (;) to suppress the output.\n",
    "Doc.remove_extension(\"paras\");"
   ]
  },
  {
   "cell_type": "markdown",
   "id": "21987fc1",
   "metadata": {},
   "source": [
    "Hopefully this has shed some light on the `set_extension` method(s).\n",
    "Thanks for reading!"
   ]
  }
 ],
 "metadata": {
  "kernelspec": {
   "display_name": "Python 3 (ipykernel)",
   "language": "python",
   "name": "python3"
  },
  "language_info": {
   "codemirror_mode": {
    "name": "ipython",
    "version": 3
   },
   "file_extension": ".py",
   "mimetype": "text/x-python",
   "name": "python",
   "nbconvert_exporter": "python",
   "pygments_lexer": "ipython3",
   "version": "3.12.7"
  }
 },
 "nbformat": 4,
 "nbformat_minor": 5
}
